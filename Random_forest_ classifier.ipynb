{
 "cells": [
  {
   "cell_type": "code",
   "execution_count": 1,
   "id": "1e374303",
   "metadata": {},
   "outputs": [],
   "source": [
    "# importing libraries\n",
    "\n",
    "import numpy as np\n",
    "import pandas as pd\n",
    "import seaborn as sns\n",
    "import matplotlib as mlt\n",
    "%matplotlib inline"
   ]
  },
  {
   "cell_type": "code",
   "execution_count": 2,
   "id": "32e3b9a7",
   "metadata": {},
   "outputs": [],
   "source": [
    "# Data Ingestion\n",
    "\n",
    "df = pd.read_csv(\"https://raw.githubusercontent.com/shrikant-temburwar/Wine-Quality-Dataset/master/winequality-red.csv\",sep= \";\")"
   ]
  },
  {
   "cell_type": "code",
   "execution_count": 3,
   "id": "b888ccc5",
   "metadata": {},
   "outputs": [
    {
     "name": "stdout",
     "output_type": "stream",
     "text": [
      "<class 'pandas.core.frame.DataFrame'>\n",
      "RangeIndex: 1599 entries, 0 to 1598\n",
      "Data columns (total 12 columns):\n",
      " #   Column                Non-Null Count  Dtype  \n",
      "---  ------                --------------  -----  \n",
      " 0   fixed acidity         1599 non-null   float64\n",
      " 1   volatile acidity      1599 non-null   float64\n",
      " 2   citric acid           1599 non-null   float64\n",
      " 3   residual sugar        1599 non-null   float64\n",
      " 4   chlorides             1599 non-null   float64\n",
      " 5   free sulfur dioxide   1599 non-null   float64\n",
      " 6   total sulfur dioxide  1599 non-null   float64\n",
      " 7   density               1599 non-null   float64\n",
      " 8   pH                    1599 non-null   float64\n",
      " 9   sulphates             1599 non-null   float64\n",
      " 10  alcohol               1599 non-null   float64\n",
      " 11  quality               1599 non-null   int64  \n",
      "dtypes: float64(11), int64(1)\n",
      "memory usage: 150.0 KB\n"
     ]
    }
   ],
   "source": [
    "df.info()"
   ]
  },
  {
   "cell_type": "code",
   "execution_count": 4,
   "id": "66a8ce79",
   "metadata": {},
   "outputs": [
    {
     "data": {
      "text/html": [
       "<div>\n",
       "<style scoped>\n",
       "    .dataframe tbody tr th:only-of-type {\n",
       "        vertical-align: middle;\n",
       "    }\n",
       "\n",
       "    .dataframe tbody tr th {\n",
       "        vertical-align: top;\n",
       "    }\n",
       "\n",
       "    .dataframe thead th {\n",
       "        text-align: right;\n",
       "    }\n",
       "</style>\n",
       "<table border=\"1\" class=\"dataframe\">\n",
       "  <thead>\n",
       "    <tr style=\"text-align: right;\">\n",
       "      <th></th>\n",
       "      <th>fixed acidity</th>\n",
       "      <th>volatile acidity</th>\n",
       "      <th>citric acid</th>\n",
       "      <th>residual sugar</th>\n",
       "      <th>chlorides</th>\n",
       "      <th>free sulfur dioxide</th>\n",
       "      <th>total sulfur dioxide</th>\n",
       "      <th>density</th>\n",
       "      <th>pH</th>\n",
       "      <th>sulphates</th>\n",
       "      <th>alcohol</th>\n",
       "      <th>quality</th>\n",
       "    </tr>\n",
       "  </thead>\n",
       "  <tbody>\n",
       "    <tr>\n",
       "      <th>0</th>\n",
       "      <td>7.4</td>\n",
       "      <td>0.70</td>\n",
       "      <td>0.00</td>\n",
       "      <td>1.9</td>\n",
       "      <td>0.076</td>\n",
       "      <td>11.0</td>\n",
       "      <td>34.0</td>\n",
       "      <td>0.9978</td>\n",
       "      <td>3.51</td>\n",
       "      <td>0.56</td>\n",
       "      <td>9.4</td>\n",
       "      <td>5</td>\n",
       "    </tr>\n",
       "    <tr>\n",
       "      <th>1</th>\n",
       "      <td>7.8</td>\n",
       "      <td>0.88</td>\n",
       "      <td>0.00</td>\n",
       "      <td>2.6</td>\n",
       "      <td>0.098</td>\n",
       "      <td>25.0</td>\n",
       "      <td>67.0</td>\n",
       "      <td>0.9968</td>\n",
       "      <td>3.20</td>\n",
       "      <td>0.68</td>\n",
       "      <td>9.8</td>\n",
       "      <td>5</td>\n",
       "    </tr>\n",
       "    <tr>\n",
       "      <th>2</th>\n",
       "      <td>7.8</td>\n",
       "      <td>0.76</td>\n",
       "      <td>0.04</td>\n",
       "      <td>2.3</td>\n",
       "      <td>0.092</td>\n",
       "      <td>15.0</td>\n",
       "      <td>54.0</td>\n",
       "      <td>0.9970</td>\n",
       "      <td>3.26</td>\n",
       "      <td>0.65</td>\n",
       "      <td>9.8</td>\n",
       "      <td>5</td>\n",
       "    </tr>\n",
       "    <tr>\n",
       "      <th>3</th>\n",
       "      <td>11.2</td>\n",
       "      <td>0.28</td>\n",
       "      <td>0.56</td>\n",
       "      <td>1.9</td>\n",
       "      <td>0.075</td>\n",
       "      <td>17.0</td>\n",
       "      <td>60.0</td>\n",
       "      <td>0.9980</td>\n",
       "      <td>3.16</td>\n",
       "      <td>0.58</td>\n",
       "      <td>9.8</td>\n",
       "      <td>6</td>\n",
       "    </tr>\n",
       "    <tr>\n",
       "      <th>4</th>\n",
       "      <td>7.4</td>\n",
       "      <td>0.70</td>\n",
       "      <td>0.00</td>\n",
       "      <td>1.9</td>\n",
       "      <td>0.076</td>\n",
       "      <td>11.0</td>\n",
       "      <td>34.0</td>\n",
       "      <td>0.9978</td>\n",
       "      <td>3.51</td>\n",
       "      <td>0.56</td>\n",
       "      <td>9.4</td>\n",
       "      <td>5</td>\n",
       "    </tr>\n",
       "  </tbody>\n",
       "</table>\n",
       "</div>"
      ],
      "text/plain": [
       "   fixed acidity  volatile acidity  citric acid  residual sugar  chlorides  \\\n",
       "0            7.4              0.70         0.00             1.9      0.076   \n",
       "1            7.8              0.88         0.00             2.6      0.098   \n",
       "2            7.8              0.76         0.04             2.3      0.092   \n",
       "3           11.2              0.28         0.56             1.9      0.075   \n",
       "4            7.4              0.70         0.00             1.9      0.076   \n",
       "\n",
       "   free sulfur dioxide  total sulfur dioxide  density    pH  sulphates  \\\n",
       "0                 11.0                  34.0   0.9978  3.51       0.56   \n",
       "1                 25.0                  67.0   0.9968  3.20       0.68   \n",
       "2                 15.0                  54.0   0.9970  3.26       0.65   \n",
       "3                 17.0                  60.0   0.9980  3.16       0.58   \n",
       "4                 11.0                  34.0   0.9978  3.51       0.56   \n",
       "\n",
       "   alcohol  quality  \n",
       "0      9.4        5  \n",
       "1      9.8        5  \n",
       "2      9.8        5  \n",
       "3      9.8        6  \n",
       "4      9.4        5  "
      ]
     },
     "execution_count": 4,
     "metadata": {},
     "output_type": "execute_result"
    }
   ],
   "source": [
    "df.head()"
   ]
  },
  {
   "cell_type": "code",
   "execution_count": 5,
   "id": "9488c7d9",
   "metadata": {},
   "outputs": [
    {
     "data": {
      "text/plain": [
       "array([5, 6, 7, 4, 8, 3], dtype=int64)"
      ]
     },
     "execution_count": 5,
     "metadata": {},
     "output_type": "execute_result"
    }
   ],
   "source": [
    "# lets check the class of target variable\n",
    "\n",
    "df['quality'].unique()"
   ]
  },
  {
   "cell_type": "code",
   "execution_count": 6,
   "id": "7776f3a7",
   "metadata": {},
   "outputs": [
    {
     "data": {
      "text/plain": [
       "5    681\n",
       "6    638\n",
       "7    199\n",
       "4     53\n",
       "8     18\n",
       "3     10\n",
       "Name: quality, dtype: int64"
      ]
     },
     "execution_count": 6,
     "metadata": {},
     "output_type": "execute_result"
    }
   ],
   "source": [
    "# values of each classes\n",
    "\n",
    "df['quality'].value_counts()"
   ]
  },
  {
   "cell_type": "code",
   "execution_count": 7,
   "id": "d41782a6",
   "metadata": {},
   "outputs": [
    {
     "data": {
      "text/html": [
       "<div>\n",
       "<style scoped>\n",
       "    .dataframe tbody tr th:only-of-type {\n",
       "        vertical-align: middle;\n",
       "    }\n",
       "\n",
       "    .dataframe tbody tr th {\n",
       "        vertical-align: top;\n",
       "    }\n",
       "\n",
       "    .dataframe thead th {\n",
       "        text-align: right;\n",
       "    }\n",
       "</style>\n",
       "<table border=\"1\" class=\"dataframe\">\n",
       "  <thead>\n",
       "    <tr style=\"text-align: right;\">\n",
       "      <th></th>\n",
       "      <th>count</th>\n",
       "      <th>mean</th>\n",
       "      <th>std</th>\n",
       "      <th>min</th>\n",
       "      <th>25%</th>\n",
       "      <th>50%</th>\n",
       "      <th>75%</th>\n",
       "      <th>max</th>\n",
       "    </tr>\n",
       "  </thead>\n",
       "  <tbody>\n",
       "    <tr>\n",
       "      <th>fixed acidity</th>\n",
       "      <td>1599.0</td>\n",
       "      <td>8.319637</td>\n",
       "      <td>1.741096</td>\n",
       "      <td>4.60000</td>\n",
       "      <td>7.1000</td>\n",
       "      <td>7.90000</td>\n",
       "      <td>9.200000</td>\n",
       "      <td>15.90000</td>\n",
       "    </tr>\n",
       "    <tr>\n",
       "      <th>volatile acidity</th>\n",
       "      <td>1599.0</td>\n",
       "      <td>0.527821</td>\n",
       "      <td>0.179060</td>\n",
       "      <td>0.12000</td>\n",
       "      <td>0.3900</td>\n",
       "      <td>0.52000</td>\n",
       "      <td>0.640000</td>\n",
       "      <td>1.58000</td>\n",
       "    </tr>\n",
       "    <tr>\n",
       "      <th>citric acid</th>\n",
       "      <td>1599.0</td>\n",
       "      <td>0.270976</td>\n",
       "      <td>0.194801</td>\n",
       "      <td>0.00000</td>\n",
       "      <td>0.0900</td>\n",
       "      <td>0.26000</td>\n",
       "      <td>0.420000</td>\n",
       "      <td>1.00000</td>\n",
       "    </tr>\n",
       "    <tr>\n",
       "      <th>residual sugar</th>\n",
       "      <td>1599.0</td>\n",
       "      <td>2.538806</td>\n",
       "      <td>1.409928</td>\n",
       "      <td>0.90000</td>\n",
       "      <td>1.9000</td>\n",
       "      <td>2.20000</td>\n",
       "      <td>2.600000</td>\n",
       "      <td>15.50000</td>\n",
       "    </tr>\n",
       "    <tr>\n",
       "      <th>chlorides</th>\n",
       "      <td>1599.0</td>\n",
       "      <td>0.087467</td>\n",
       "      <td>0.047065</td>\n",
       "      <td>0.01200</td>\n",
       "      <td>0.0700</td>\n",
       "      <td>0.07900</td>\n",
       "      <td>0.090000</td>\n",
       "      <td>0.61100</td>\n",
       "    </tr>\n",
       "    <tr>\n",
       "      <th>free sulfur dioxide</th>\n",
       "      <td>1599.0</td>\n",
       "      <td>15.874922</td>\n",
       "      <td>10.460157</td>\n",
       "      <td>1.00000</td>\n",
       "      <td>7.0000</td>\n",
       "      <td>14.00000</td>\n",
       "      <td>21.000000</td>\n",
       "      <td>72.00000</td>\n",
       "    </tr>\n",
       "    <tr>\n",
       "      <th>total sulfur dioxide</th>\n",
       "      <td>1599.0</td>\n",
       "      <td>46.467792</td>\n",
       "      <td>32.895324</td>\n",
       "      <td>6.00000</td>\n",
       "      <td>22.0000</td>\n",
       "      <td>38.00000</td>\n",
       "      <td>62.000000</td>\n",
       "      <td>289.00000</td>\n",
       "    </tr>\n",
       "    <tr>\n",
       "      <th>density</th>\n",
       "      <td>1599.0</td>\n",
       "      <td>0.996747</td>\n",
       "      <td>0.001887</td>\n",
       "      <td>0.99007</td>\n",
       "      <td>0.9956</td>\n",
       "      <td>0.99675</td>\n",
       "      <td>0.997835</td>\n",
       "      <td>1.00369</td>\n",
       "    </tr>\n",
       "    <tr>\n",
       "      <th>pH</th>\n",
       "      <td>1599.0</td>\n",
       "      <td>3.311113</td>\n",
       "      <td>0.154386</td>\n",
       "      <td>2.74000</td>\n",
       "      <td>3.2100</td>\n",
       "      <td>3.31000</td>\n",
       "      <td>3.400000</td>\n",
       "      <td>4.01000</td>\n",
       "    </tr>\n",
       "    <tr>\n",
       "      <th>sulphates</th>\n",
       "      <td>1599.0</td>\n",
       "      <td>0.658149</td>\n",
       "      <td>0.169507</td>\n",
       "      <td>0.33000</td>\n",
       "      <td>0.5500</td>\n",
       "      <td>0.62000</td>\n",
       "      <td>0.730000</td>\n",
       "      <td>2.00000</td>\n",
       "    </tr>\n",
       "    <tr>\n",
       "      <th>alcohol</th>\n",
       "      <td>1599.0</td>\n",
       "      <td>10.422983</td>\n",
       "      <td>1.065668</td>\n",
       "      <td>8.40000</td>\n",
       "      <td>9.5000</td>\n",
       "      <td>10.20000</td>\n",
       "      <td>11.100000</td>\n",
       "      <td>14.90000</td>\n",
       "    </tr>\n",
       "    <tr>\n",
       "      <th>quality</th>\n",
       "      <td>1599.0</td>\n",
       "      <td>5.636023</td>\n",
       "      <td>0.807569</td>\n",
       "      <td>3.00000</td>\n",
       "      <td>5.0000</td>\n",
       "      <td>6.00000</td>\n",
       "      <td>6.000000</td>\n",
       "      <td>8.00000</td>\n",
       "    </tr>\n",
       "  </tbody>\n",
       "</table>\n",
       "</div>"
      ],
      "text/plain": [
       "                       count       mean        std      min      25%  \\\n",
       "fixed acidity         1599.0   8.319637   1.741096  4.60000   7.1000   \n",
       "volatile acidity      1599.0   0.527821   0.179060  0.12000   0.3900   \n",
       "citric acid           1599.0   0.270976   0.194801  0.00000   0.0900   \n",
       "residual sugar        1599.0   2.538806   1.409928  0.90000   1.9000   \n",
       "chlorides             1599.0   0.087467   0.047065  0.01200   0.0700   \n",
       "free sulfur dioxide   1599.0  15.874922  10.460157  1.00000   7.0000   \n",
       "total sulfur dioxide  1599.0  46.467792  32.895324  6.00000  22.0000   \n",
       "density               1599.0   0.996747   0.001887  0.99007   0.9956   \n",
       "pH                    1599.0   3.311113   0.154386  2.74000   3.2100   \n",
       "sulphates             1599.0   0.658149   0.169507  0.33000   0.5500   \n",
       "alcohol               1599.0  10.422983   1.065668  8.40000   9.5000   \n",
       "quality               1599.0   5.636023   0.807569  3.00000   5.0000   \n",
       "\n",
       "                           50%        75%        max  \n",
       "fixed acidity          7.90000   9.200000   15.90000  \n",
       "volatile acidity       0.52000   0.640000    1.58000  \n",
       "citric acid            0.26000   0.420000    1.00000  \n",
       "residual sugar         2.20000   2.600000   15.50000  \n",
       "chlorides              0.07900   0.090000    0.61100  \n",
       "free sulfur dioxide   14.00000  21.000000   72.00000  \n",
       "total sulfur dioxide  38.00000  62.000000  289.00000  \n",
       "density                0.99675   0.997835    1.00369  \n",
       "pH                     3.31000   3.400000    4.01000  \n",
       "sulphates              0.62000   0.730000    2.00000  \n",
       "alcohol               10.20000  11.100000   14.90000  \n",
       "quality                6.00000   6.000000    8.00000  "
      ]
     },
     "execution_count": 7,
     "metadata": {},
     "output_type": "execute_result"
    }
   ],
   "source": [
    "# stat analysis\n",
    "\n",
    "df.describe().T"
   ]
  },
  {
   "cell_type": "code",
   "execution_count": 8,
   "id": "68b59311",
   "metadata": {},
   "outputs": [
    {
     "data": {
      "text/plain": [
       "240"
      ]
     },
     "execution_count": 8,
     "metadata": {},
     "output_type": "execute_result"
    }
   ],
   "source": [
    "# lets check duplicate\n",
    "\n",
    "df.duplicated().sum()"
   ]
  },
  {
   "cell_type": "code",
   "execution_count": 9,
   "id": "778bd21a",
   "metadata": {},
   "outputs": [],
   "source": [
    "# lets drop duplicate values\n",
    "\n",
    "data= df.drop_duplicates()\n"
   ]
  },
  {
   "cell_type": "code",
   "execution_count": 10,
   "id": "e4939ca9",
   "metadata": {},
   "outputs": [
    {
     "data": {
      "text/html": [
       "<div>\n",
       "<style scoped>\n",
       "    .dataframe tbody tr th:only-of-type {\n",
       "        vertical-align: middle;\n",
       "    }\n",
       "\n",
       "    .dataframe tbody tr th {\n",
       "        vertical-align: top;\n",
       "    }\n",
       "\n",
       "    .dataframe thead th {\n",
       "        text-align: right;\n",
       "    }\n",
       "</style>\n",
       "<table border=\"1\" class=\"dataframe\">\n",
       "  <thead>\n",
       "    <tr style=\"text-align: right;\">\n",
       "      <th></th>\n",
       "      <th>fixed acidity</th>\n",
       "      <th>volatile acidity</th>\n",
       "      <th>citric acid</th>\n",
       "      <th>residual sugar</th>\n",
       "      <th>chlorides</th>\n",
       "      <th>free sulfur dioxide</th>\n",
       "      <th>total sulfur dioxide</th>\n",
       "      <th>density</th>\n",
       "      <th>pH</th>\n",
       "      <th>sulphates</th>\n",
       "      <th>alcohol</th>\n",
       "      <th>quality</th>\n",
       "    </tr>\n",
       "  </thead>\n",
       "  <tbody>\n",
       "    <tr>\n",
       "      <th>0</th>\n",
       "      <td>7.4</td>\n",
       "      <td>0.700</td>\n",
       "      <td>0.00</td>\n",
       "      <td>1.9</td>\n",
       "      <td>0.076</td>\n",
       "      <td>11.0</td>\n",
       "      <td>34.0</td>\n",
       "      <td>0.99780</td>\n",
       "      <td>3.51</td>\n",
       "      <td>0.56</td>\n",
       "      <td>9.4</td>\n",
       "      <td>5</td>\n",
       "    </tr>\n",
       "    <tr>\n",
       "      <th>1</th>\n",
       "      <td>7.8</td>\n",
       "      <td>0.880</td>\n",
       "      <td>0.00</td>\n",
       "      <td>2.6</td>\n",
       "      <td>0.098</td>\n",
       "      <td>25.0</td>\n",
       "      <td>67.0</td>\n",
       "      <td>0.99680</td>\n",
       "      <td>3.20</td>\n",
       "      <td>0.68</td>\n",
       "      <td>9.8</td>\n",
       "      <td>5</td>\n",
       "    </tr>\n",
       "    <tr>\n",
       "      <th>2</th>\n",
       "      <td>7.8</td>\n",
       "      <td>0.760</td>\n",
       "      <td>0.04</td>\n",
       "      <td>2.3</td>\n",
       "      <td>0.092</td>\n",
       "      <td>15.0</td>\n",
       "      <td>54.0</td>\n",
       "      <td>0.99700</td>\n",
       "      <td>3.26</td>\n",
       "      <td>0.65</td>\n",
       "      <td>9.8</td>\n",
       "      <td>5</td>\n",
       "    </tr>\n",
       "    <tr>\n",
       "      <th>3</th>\n",
       "      <td>11.2</td>\n",
       "      <td>0.280</td>\n",
       "      <td>0.56</td>\n",
       "      <td>1.9</td>\n",
       "      <td>0.075</td>\n",
       "      <td>17.0</td>\n",
       "      <td>60.0</td>\n",
       "      <td>0.99800</td>\n",
       "      <td>3.16</td>\n",
       "      <td>0.58</td>\n",
       "      <td>9.8</td>\n",
       "      <td>6</td>\n",
       "    </tr>\n",
       "    <tr>\n",
       "      <th>5</th>\n",
       "      <td>7.4</td>\n",
       "      <td>0.660</td>\n",
       "      <td>0.00</td>\n",
       "      <td>1.8</td>\n",
       "      <td>0.075</td>\n",
       "      <td>13.0</td>\n",
       "      <td>40.0</td>\n",
       "      <td>0.99780</td>\n",
       "      <td>3.51</td>\n",
       "      <td>0.56</td>\n",
       "      <td>9.4</td>\n",
       "      <td>5</td>\n",
       "    </tr>\n",
       "    <tr>\n",
       "      <th>...</th>\n",
       "      <td>...</td>\n",
       "      <td>...</td>\n",
       "      <td>...</td>\n",
       "      <td>...</td>\n",
       "      <td>...</td>\n",
       "      <td>...</td>\n",
       "      <td>...</td>\n",
       "      <td>...</td>\n",
       "      <td>...</td>\n",
       "      <td>...</td>\n",
       "      <td>...</td>\n",
       "      <td>...</td>\n",
       "    </tr>\n",
       "    <tr>\n",
       "      <th>1593</th>\n",
       "      <td>6.8</td>\n",
       "      <td>0.620</td>\n",
       "      <td>0.08</td>\n",
       "      <td>1.9</td>\n",
       "      <td>0.068</td>\n",
       "      <td>28.0</td>\n",
       "      <td>38.0</td>\n",
       "      <td>0.99651</td>\n",
       "      <td>3.42</td>\n",
       "      <td>0.82</td>\n",
       "      <td>9.5</td>\n",
       "      <td>6</td>\n",
       "    </tr>\n",
       "    <tr>\n",
       "      <th>1594</th>\n",
       "      <td>6.2</td>\n",
       "      <td>0.600</td>\n",
       "      <td>0.08</td>\n",
       "      <td>2.0</td>\n",
       "      <td>0.090</td>\n",
       "      <td>32.0</td>\n",
       "      <td>44.0</td>\n",
       "      <td>0.99490</td>\n",
       "      <td>3.45</td>\n",
       "      <td>0.58</td>\n",
       "      <td>10.5</td>\n",
       "      <td>5</td>\n",
       "    </tr>\n",
       "    <tr>\n",
       "      <th>1595</th>\n",
       "      <td>5.9</td>\n",
       "      <td>0.550</td>\n",
       "      <td>0.10</td>\n",
       "      <td>2.2</td>\n",
       "      <td>0.062</td>\n",
       "      <td>39.0</td>\n",
       "      <td>51.0</td>\n",
       "      <td>0.99512</td>\n",
       "      <td>3.52</td>\n",
       "      <td>0.76</td>\n",
       "      <td>11.2</td>\n",
       "      <td>6</td>\n",
       "    </tr>\n",
       "    <tr>\n",
       "      <th>1597</th>\n",
       "      <td>5.9</td>\n",
       "      <td>0.645</td>\n",
       "      <td>0.12</td>\n",
       "      <td>2.0</td>\n",
       "      <td>0.075</td>\n",
       "      <td>32.0</td>\n",
       "      <td>44.0</td>\n",
       "      <td>0.99547</td>\n",
       "      <td>3.57</td>\n",
       "      <td>0.71</td>\n",
       "      <td>10.2</td>\n",
       "      <td>5</td>\n",
       "    </tr>\n",
       "    <tr>\n",
       "      <th>1598</th>\n",
       "      <td>6.0</td>\n",
       "      <td>0.310</td>\n",
       "      <td>0.47</td>\n",
       "      <td>3.6</td>\n",
       "      <td>0.067</td>\n",
       "      <td>18.0</td>\n",
       "      <td>42.0</td>\n",
       "      <td>0.99549</td>\n",
       "      <td>3.39</td>\n",
       "      <td>0.66</td>\n",
       "      <td>11.0</td>\n",
       "      <td>6</td>\n",
       "    </tr>\n",
       "  </tbody>\n",
       "</table>\n",
       "<p>1359 rows × 12 columns</p>\n",
       "</div>"
      ],
      "text/plain": [
       "      fixed acidity  volatile acidity  citric acid  residual sugar  chlorides  \\\n",
       "0               7.4             0.700         0.00             1.9      0.076   \n",
       "1               7.8             0.880         0.00             2.6      0.098   \n",
       "2               7.8             0.760         0.04             2.3      0.092   \n",
       "3              11.2             0.280         0.56             1.9      0.075   \n",
       "5               7.4             0.660         0.00             1.8      0.075   \n",
       "...             ...               ...          ...             ...        ...   \n",
       "1593            6.8             0.620         0.08             1.9      0.068   \n",
       "1594            6.2             0.600         0.08             2.0      0.090   \n",
       "1595            5.9             0.550         0.10             2.2      0.062   \n",
       "1597            5.9             0.645         0.12             2.0      0.075   \n",
       "1598            6.0             0.310         0.47             3.6      0.067   \n",
       "\n",
       "      free sulfur dioxide  total sulfur dioxide  density    pH  sulphates  \\\n",
       "0                    11.0                  34.0  0.99780  3.51       0.56   \n",
       "1                    25.0                  67.0  0.99680  3.20       0.68   \n",
       "2                    15.0                  54.0  0.99700  3.26       0.65   \n",
       "3                    17.0                  60.0  0.99800  3.16       0.58   \n",
       "5                    13.0                  40.0  0.99780  3.51       0.56   \n",
       "...                   ...                   ...      ...   ...        ...   \n",
       "1593                 28.0                  38.0  0.99651  3.42       0.82   \n",
       "1594                 32.0                  44.0  0.99490  3.45       0.58   \n",
       "1595                 39.0                  51.0  0.99512  3.52       0.76   \n",
       "1597                 32.0                  44.0  0.99547  3.57       0.71   \n",
       "1598                 18.0                  42.0  0.99549  3.39       0.66   \n",
       "\n",
       "      alcohol  quality  \n",
       "0         9.4        5  \n",
       "1         9.8        5  \n",
       "2         9.8        5  \n",
       "3         9.8        6  \n",
       "5         9.4        5  \n",
       "...       ...      ...  \n",
       "1593      9.5        6  \n",
       "1594     10.5        5  \n",
       "1595     11.2        6  \n",
       "1597     10.2        5  \n",
       "1598     11.0        6  \n",
       "\n",
       "[1359 rows x 12 columns]"
      ]
     },
     "execution_count": 10,
     "metadata": {},
     "output_type": "execute_result"
    }
   ],
   "source": [
    "data"
   ]
  },
  {
   "cell_type": "code",
   "execution_count": 11,
   "id": "ed431db9",
   "metadata": {},
   "outputs": [
    {
     "data": {
      "text/plain": [
       "0"
      ]
     },
     "execution_count": 11,
     "metadata": {},
     "output_type": "execute_result"
    }
   ],
   "source": [
    "# lets check duplicated data ones again\n",
    "\n",
    "data.duplicated().sum()"
   ]
  },
  {
   "cell_type": "code",
   "execution_count": 12,
   "id": "9541884c",
   "metadata": {},
   "outputs": [
    {
     "data": {
      "text/plain": [
       "fixed acidity           0\n",
       "volatile acidity        0\n",
       "citric acid             0\n",
       "residual sugar          0\n",
       "chlorides               0\n",
       "free sulfur dioxide     0\n",
       "total sulfur dioxide    0\n",
       "density                 0\n",
       "pH                      0\n",
       "sulphates               0\n",
       "alcohol                 0\n",
       "quality                 0\n",
       "dtype: int64"
      ]
     },
     "execution_count": 12,
     "metadata": {},
     "output_type": "execute_result"
    }
   ],
   "source": [
    "#lets check the null values\n",
    "\n",
    "data.isnull().sum()"
   ]
  },
  {
   "cell_type": "code",
   "execution_count": 13,
   "id": "b6ce0890",
   "metadata": {},
   "outputs": [],
   "source": [
    "# found that there is no null values"
   ]
  },
  {
   "cell_type": "code",
   "execution_count": 14,
   "id": "5320a0d6",
   "metadata": {},
   "outputs": [],
   "source": [
    "# lets go ahead and split the data into \n",
    "\n",
    "x= data.drop(\"quality\",axis=1)\n",
    "y= data[\"quality\"]"
   ]
  },
  {
   "cell_type": "code",
   "execution_count": 15,
   "id": "8341a830",
   "metadata": {},
   "outputs": [
    {
     "data": {
      "text/html": [
       "<div>\n",
       "<style scoped>\n",
       "    .dataframe tbody tr th:only-of-type {\n",
       "        vertical-align: middle;\n",
       "    }\n",
       "\n",
       "    .dataframe tbody tr th {\n",
       "        vertical-align: top;\n",
       "    }\n",
       "\n",
       "    .dataframe thead th {\n",
       "        text-align: right;\n",
       "    }\n",
       "</style>\n",
       "<table border=\"1\" class=\"dataframe\">\n",
       "  <thead>\n",
       "    <tr style=\"text-align: right;\">\n",
       "      <th></th>\n",
       "      <th>fixed acidity</th>\n",
       "      <th>volatile acidity</th>\n",
       "      <th>citric acid</th>\n",
       "      <th>residual sugar</th>\n",
       "      <th>chlorides</th>\n",
       "      <th>free sulfur dioxide</th>\n",
       "      <th>total sulfur dioxide</th>\n",
       "      <th>density</th>\n",
       "      <th>pH</th>\n",
       "      <th>sulphates</th>\n",
       "      <th>alcohol</th>\n",
       "    </tr>\n",
       "  </thead>\n",
       "  <tbody>\n",
       "    <tr>\n",
       "      <th>0</th>\n",
       "      <td>7.4</td>\n",
       "      <td>0.700</td>\n",
       "      <td>0.00</td>\n",
       "      <td>1.9</td>\n",
       "      <td>0.076</td>\n",
       "      <td>11.0</td>\n",
       "      <td>34.0</td>\n",
       "      <td>0.99780</td>\n",
       "      <td>3.51</td>\n",
       "      <td>0.56</td>\n",
       "      <td>9.4</td>\n",
       "    </tr>\n",
       "    <tr>\n",
       "      <th>1</th>\n",
       "      <td>7.8</td>\n",
       "      <td>0.880</td>\n",
       "      <td>0.00</td>\n",
       "      <td>2.6</td>\n",
       "      <td>0.098</td>\n",
       "      <td>25.0</td>\n",
       "      <td>67.0</td>\n",
       "      <td>0.99680</td>\n",
       "      <td>3.20</td>\n",
       "      <td>0.68</td>\n",
       "      <td>9.8</td>\n",
       "    </tr>\n",
       "    <tr>\n",
       "      <th>2</th>\n",
       "      <td>7.8</td>\n",
       "      <td>0.760</td>\n",
       "      <td>0.04</td>\n",
       "      <td>2.3</td>\n",
       "      <td>0.092</td>\n",
       "      <td>15.0</td>\n",
       "      <td>54.0</td>\n",
       "      <td>0.99700</td>\n",
       "      <td>3.26</td>\n",
       "      <td>0.65</td>\n",
       "      <td>9.8</td>\n",
       "    </tr>\n",
       "    <tr>\n",
       "      <th>3</th>\n",
       "      <td>11.2</td>\n",
       "      <td>0.280</td>\n",
       "      <td>0.56</td>\n",
       "      <td>1.9</td>\n",
       "      <td>0.075</td>\n",
       "      <td>17.0</td>\n",
       "      <td>60.0</td>\n",
       "      <td>0.99800</td>\n",
       "      <td>3.16</td>\n",
       "      <td>0.58</td>\n",
       "      <td>9.8</td>\n",
       "    </tr>\n",
       "    <tr>\n",
       "      <th>5</th>\n",
       "      <td>7.4</td>\n",
       "      <td>0.660</td>\n",
       "      <td>0.00</td>\n",
       "      <td>1.8</td>\n",
       "      <td>0.075</td>\n",
       "      <td>13.0</td>\n",
       "      <td>40.0</td>\n",
       "      <td>0.99780</td>\n",
       "      <td>3.51</td>\n",
       "      <td>0.56</td>\n",
       "      <td>9.4</td>\n",
       "    </tr>\n",
       "    <tr>\n",
       "      <th>...</th>\n",
       "      <td>...</td>\n",
       "      <td>...</td>\n",
       "      <td>...</td>\n",
       "      <td>...</td>\n",
       "      <td>...</td>\n",
       "      <td>...</td>\n",
       "      <td>...</td>\n",
       "      <td>...</td>\n",
       "      <td>...</td>\n",
       "      <td>...</td>\n",
       "      <td>...</td>\n",
       "    </tr>\n",
       "    <tr>\n",
       "      <th>1593</th>\n",
       "      <td>6.8</td>\n",
       "      <td>0.620</td>\n",
       "      <td>0.08</td>\n",
       "      <td>1.9</td>\n",
       "      <td>0.068</td>\n",
       "      <td>28.0</td>\n",
       "      <td>38.0</td>\n",
       "      <td>0.99651</td>\n",
       "      <td>3.42</td>\n",
       "      <td>0.82</td>\n",
       "      <td>9.5</td>\n",
       "    </tr>\n",
       "    <tr>\n",
       "      <th>1594</th>\n",
       "      <td>6.2</td>\n",
       "      <td>0.600</td>\n",
       "      <td>0.08</td>\n",
       "      <td>2.0</td>\n",
       "      <td>0.090</td>\n",
       "      <td>32.0</td>\n",
       "      <td>44.0</td>\n",
       "      <td>0.99490</td>\n",
       "      <td>3.45</td>\n",
       "      <td>0.58</td>\n",
       "      <td>10.5</td>\n",
       "    </tr>\n",
       "    <tr>\n",
       "      <th>1595</th>\n",
       "      <td>5.9</td>\n",
       "      <td>0.550</td>\n",
       "      <td>0.10</td>\n",
       "      <td>2.2</td>\n",
       "      <td>0.062</td>\n",
       "      <td>39.0</td>\n",
       "      <td>51.0</td>\n",
       "      <td>0.99512</td>\n",
       "      <td>3.52</td>\n",
       "      <td>0.76</td>\n",
       "      <td>11.2</td>\n",
       "    </tr>\n",
       "    <tr>\n",
       "      <th>1597</th>\n",
       "      <td>5.9</td>\n",
       "      <td>0.645</td>\n",
       "      <td>0.12</td>\n",
       "      <td>2.0</td>\n",
       "      <td>0.075</td>\n",
       "      <td>32.0</td>\n",
       "      <td>44.0</td>\n",
       "      <td>0.99547</td>\n",
       "      <td>3.57</td>\n",
       "      <td>0.71</td>\n",
       "      <td>10.2</td>\n",
       "    </tr>\n",
       "    <tr>\n",
       "      <th>1598</th>\n",
       "      <td>6.0</td>\n",
       "      <td>0.310</td>\n",
       "      <td>0.47</td>\n",
       "      <td>3.6</td>\n",
       "      <td>0.067</td>\n",
       "      <td>18.0</td>\n",
       "      <td>42.0</td>\n",
       "      <td>0.99549</td>\n",
       "      <td>3.39</td>\n",
       "      <td>0.66</td>\n",
       "      <td>11.0</td>\n",
       "    </tr>\n",
       "  </tbody>\n",
       "</table>\n",
       "<p>1359 rows × 11 columns</p>\n",
       "</div>"
      ],
      "text/plain": [
       "      fixed acidity  volatile acidity  citric acid  residual sugar  chlorides  \\\n",
       "0               7.4             0.700         0.00             1.9      0.076   \n",
       "1               7.8             0.880         0.00             2.6      0.098   \n",
       "2               7.8             0.760         0.04             2.3      0.092   \n",
       "3              11.2             0.280         0.56             1.9      0.075   \n",
       "5               7.4             0.660         0.00             1.8      0.075   \n",
       "...             ...               ...          ...             ...        ...   \n",
       "1593            6.8             0.620         0.08             1.9      0.068   \n",
       "1594            6.2             0.600         0.08             2.0      0.090   \n",
       "1595            5.9             0.550         0.10             2.2      0.062   \n",
       "1597            5.9             0.645         0.12             2.0      0.075   \n",
       "1598            6.0             0.310         0.47             3.6      0.067   \n",
       "\n",
       "      free sulfur dioxide  total sulfur dioxide  density    pH  sulphates  \\\n",
       "0                    11.0                  34.0  0.99780  3.51       0.56   \n",
       "1                    25.0                  67.0  0.99680  3.20       0.68   \n",
       "2                    15.0                  54.0  0.99700  3.26       0.65   \n",
       "3                    17.0                  60.0  0.99800  3.16       0.58   \n",
       "5                    13.0                  40.0  0.99780  3.51       0.56   \n",
       "...                   ...                   ...      ...   ...        ...   \n",
       "1593                 28.0                  38.0  0.99651  3.42       0.82   \n",
       "1594                 32.0                  44.0  0.99490  3.45       0.58   \n",
       "1595                 39.0                  51.0  0.99512  3.52       0.76   \n",
       "1597                 32.0                  44.0  0.99547  3.57       0.71   \n",
       "1598                 18.0                  42.0  0.99549  3.39       0.66   \n",
       "\n",
       "      alcohol  \n",
       "0         9.4  \n",
       "1         9.8  \n",
       "2         9.8  \n",
       "3         9.8  \n",
       "5         9.4  \n",
       "...       ...  \n",
       "1593      9.5  \n",
       "1594     10.5  \n",
       "1595     11.2  \n",
       "1597     10.2  \n",
       "1598     11.0  \n",
       "\n",
       "[1359 rows x 11 columns]"
      ]
     },
     "execution_count": 15,
     "metadata": {},
     "output_type": "execute_result"
    }
   ],
   "source": [
    "x"
   ]
  },
  {
   "cell_type": "code",
   "execution_count": 16,
   "id": "589503a5",
   "metadata": {},
   "outputs": [
    {
     "data": {
      "text/plain": [
       "0       5\n",
       "1       5\n",
       "2       5\n",
       "3       6\n",
       "5       5\n",
       "       ..\n",
       "1593    6\n",
       "1594    5\n",
       "1595    6\n",
       "1597    5\n",
       "1598    6\n",
       "Name: quality, Length: 1359, dtype: int64"
      ]
     },
     "execution_count": 16,
     "metadata": {},
     "output_type": "execute_result"
    }
   ],
   "source": [
    "y"
   ]
  },
  {
   "cell_type": "code",
   "execution_count": 17,
   "id": "9ed2eade",
   "metadata": {},
   "outputs": [],
   "source": [
    "from sklearn.model_selection import train_test_split,GridSearchCV\n",
    "x_train,x_test,y_train,y_test= train_test_split(x,y,test_size=0.33,random_state=10)"
   ]
  },
  {
   "cell_type": "code",
   "execution_count": 18,
   "id": "b864712f",
   "metadata": {
    "scrolled": true
   },
   "outputs": [
    {
     "data": {
      "text/html": [
       "<div>\n",
       "<style scoped>\n",
       "    .dataframe tbody tr th:only-of-type {\n",
       "        vertical-align: middle;\n",
       "    }\n",
       "\n",
       "    .dataframe tbody tr th {\n",
       "        vertical-align: top;\n",
       "    }\n",
       "\n",
       "    .dataframe thead th {\n",
       "        text-align: right;\n",
       "    }\n",
       "</style>\n",
       "<table border=\"1\" class=\"dataframe\">\n",
       "  <thead>\n",
       "    <tr style=\"text-align: right;\">\n",
       "      <th></th>\n",
       "      <th>fixed acidity</th>\n",
       "      <th>volatile acidity</th>\n",
       "      <th>citric acid</th>\n",
       "      <th>residual sugar</th>\n",
       "      <th>chlorides</th>\n",
       "      <th>free sulfur dioxide</th>\n",
       "      <th>total sulfur dioxide</th>\n",
       "      <th>density</th>\n",
       "      <th>pH</th>\n",
       "      <th>sulphates</th>\n",
       "      <th>alcohol</th>\n",
       "    </tr>\n",
       "  </thead>\n",
       "  <tbody>\n",
       "    <tr>\n",
       "      <th>903</th>\n",
       "      <td>6.8</td>\n",
       "      <td>0.59</td>\n",
       "      <td>0.06</td>\n",
       "      <td>6.0</td>\n",
       "      <td>0.060</td>\n",
       "      <td>11.0</td>\n",
       "      <td>18.0</td>\n",
       "      <td>0.99620</td>\n",
       "      <td>3.41</td>\n",
       "      <td>0.59</td>\n",
       "      <td>10.8</td>\n",
       "    </tr>\n",
       "    <tr>\n",
       "      <th>734</th>\n",
       "      <td>7.7</td>\n",
       "      <td>0.56</td>\n",
       "      <td>0.20</td>\n",
       "      <td>2.0</td>\n",
       "      <td>0.075</td>\n",
       "      <td>9.0</td>\n",
       "      <td>39.0</td>\n",
       "      <td>0.99870</td>\n",
       "      <td>3.48</td>\n",
       "      <td>0.62</td>\n",
       "      <td>9.3</td>\n",
       "    </tr>\n",
       "    <tr>\n",
       "      <th>568</th>\n",
       "      <td>9.8</td>\n",
       "      <td>0.50</td>\n",
       "      <td>0.49</td>\n",
       "      <td>2.6</td>\n",
       "      <td>0.250</td>\n",
       "      <td>5.0</td>\n",
       "      <td>20.0</td>\n",
       "      <td>0.99900</td>\n",
       "      <td>3.31</td>\n",
       "      <td>0.79</td>\n",
       "      <td>10.7</td>\n",
       "    </tr>\n",
       "    <tr>\n",
       "      <th>1533</th>\n",
       "      <td>8.0</td>\n",
       "      <td>0.39</td>\n",
       "      <td>0.30</td>\n",
       "      <td>1.9</td>\n",
       "      <td>0.074</td>\n",
       "      <td>32.0</td>\n",
       "      <td>84.0</td>\n",
       "      <td>0.99717</td>\n",
       "      <td>3.39</td>\n",
       "      <td>0.61</td>\n",
       "      <td>9.0</td>\n",
       "    </tr>\n",
       "    <tr>\n",
       "      <th>764</th>\n",
       "      <td>9.1</td>\n",
       "      <td>0.68</td>\n",
       "      <td>0.11</td>\n",
       "      <td>2.8</td>\n",
       "      <td>0.093</td>\n",
       "      <td>11.0</td>\n",
       "      <td>44.0</td>\n",
       "      <td>0.99888</td>\n",
       "      <td>3.31</td>\n",
       "      <td>0.55</td>\n",
       "      <td>9.5</td>\n",
       "    </tr>\n",
       "    <tr>\n",
       "      <th>...</th>\n",
       "      <td>...</td>\n",
       "      <td>...</td>\n",
       "      <td>...</td>\n",
       "      <td>...</td>\n",
       "      <td>...</td>\n",
       "      <td>...</td>\n",
       "      <td>...</td>\n",
       "      <td>...</td>\n",
       "      <td>...</td>\n",
       "      <td>...</td>\n",
       "      <td>...</td>\n",
       "    </tr>\n",
       "    <tr>\n",
       "      <th>1354</th>\n",
       "      <td>7.2</td>\n",
       "      <td>0.58</td>\n",
       "      <td>0.03</td>\n",
       "      <td>2.3</td>\n",
       "      <td>0.077</td>\n",
       "      <td>7.0</td>\n",
       "      <td>28.0</td>\n",
       "      <td>0.99568</td>\n",
       "      <td>3.35</td>\n",
       "      <td>0.52</td>\n",
       "      <td>10.0</td>\n",
       "    </tr>\n",
       "    <tr>\n",
       "      <th>1583</th>\n",
       "      <td>6.2</td>\n",
       "      <td>0.46</td>\n",
       "      <td>0.29</td>\n",
       "      <td>2.1</td>\n",
       "      <td>0.074</td>\n",
       "      <td>32.0</td>\n",
       "      <td>98.0</td>\n",
       "      <td>0.99578</td>\n",
       "      <td>3.33</td>\n",
       "      <td>0.62</td>\n",
       "      <td>9.8</td>\n",
       "    </tr>\n",
       "    <tr>\n",
       "      <th>607</th>\n",
       "      <td>8.8</td>\n",
       "      <td>0.48</td>\n",
       "      <td>0.41</td>\n",
       "      <td>3.3</td>\n",
       "      <td>0.092</td>\n",
       "      <td>26.0</td>\n",
       "      <td>52.0</td>\n",
       "      <td>0.99820</td>\n",
       "      <td>3.31</td>\n",
       "      <td>0.53</td>\n",
       "      <td>10.5</td>\n",
       "    </tr>\n",
       "    <tr>\n",
       "      <th>1356</th>\n",
       "      <td>6.1</td>\n",
       "      <td>0.34</td>\n",
       "      <td>0.25</td>\n",
       "      <td>1.8</td>\n",
       "      <td>0.084</td>\n",
       "      <td>4.0</td>\n",
       "      <td>28.0</td>\n",
       "      <td>0.99464</td>\n",
       "      <td>3.36</td>\n",
       "      <td>0.44</td>\n",
       "      <td>10.1</td>\n",
       "    </tr>\n",
       "    <tr>\n",
       "      <th>1519</th>\n",
       "      <td>6.6</td>\n",
       "      <td>0.70</td>\n",
       "      <td>0.08</td>\n",
       "      <td>2.6</td>\n",
       "      <td>0.106</td>\n",
       "      <td>14.0</td>\n",
       "      <td>27.0</td>\n",
       "      <td>0.99665</td>\n",
       "      <td>3.44</td>\n",
       "      <td>0.58</td>\n",
       "      <td>10.2</td>\n",
       "    </tr>\n",
       "  </tbody>\n",
       "</table>\n",
       "<p>910 rows × 11 columns</p>\n",
       "</div>"
      ],
      "text/plain": [
       "      fixed acidity  volatile acidity  citric acid  residual sugar  chlorides  \\\n",
       "903             6.8              0.59         0.06             6.0      0.060   \n",
       "734             7.7              0.56         0.20             2.0      0.075   \n",
       "568             9.8              0.50         0.49             2.6      0.250   \n",
       "1533            8.0              0.39         0.30             1.9      0.074   \n",
       "764             9.1              0.68         0.11             2.8      0.093   \n",
       "...             ...               ...          ...             ...        ...   \n",
       "1354            7.2              0.58         0.03             2.3      0.077   \n",
       "1583            6.2              0.46         0.29             2.1      0.074   \n",
       "607             8.8              0.48         0.41             3.3      0.092   \n",
       "1356            6.1              0.34         0.25             1.8      0.084   \n",
       "1519            6.6              0.70         0.08             2.6      0.106   \n",
       "\n",
       "      free sulfur dioxide  total sulfur dioxide  density    pH  sulphates  \\\n",
       "903                  11.0                  18.0  0.99620  3.41       0.59   \n",
       "734                   9.0                  39.0  0.99870  3.48       0.62   \n",
       "568                   5.0                  20.0  0.99900  3.31       0.79   \n",
       "1533                 32.0                  84.0  0.99717  3.39       0.61   \n",
       "764                  11.0                  44.0  0.99888  3.31       0.55   \n",
       "...                   ...                   ...      ...   ...        ...   \n",
       "1354                  7.0                  28.0  0.99568  3.35       0.52   \n",
       "1583                 32.0                  98.0  0.99578  3.33       0.62   \n",
       "607                  26.0                  52.0  0.99820  3.31       0.53   \n",
       "1356                  4.0                  28.0  0.99464  3.36       0.44   \n",
       "1519                 14.0                  27.0  0.99665  3.44       0.58   \n",
       "\n",
       "      alcohol  \n",
       "903      10.8  \n",
       "734       9.3  \n",
       "568      10.7  \n",
       "1533      9.0  \n",
       "764       9.5  \n",
       "...       ...  \n",
       "1354     10.0  \n",
       "1583      9.8  \n",
       "607      10.5  \n",
       "1356     10.1  \n",
       "1519     10.2  \n",
       "\n",
       "[910 rows x 11 columns]"
      ]
     },
     "execution_count": 18,
     "metadata": {},
     "output_type": "execute_result"
    }
   ],
   "source": [
    "x_train"
   ]
  },
  {
   "cell_type": "code",
   "execution_count": 19,
   "id": "dd3a4f84",
   "metadata": {
    "scrolled": true
   },
   "outputs": [
    {
     "data": {
      "text/html": [
       "<div>\n",
       "<style scoped>\n",
       "    .dataframe tbody tr th:only-of-type {\n",
       "        vertical-align: middle;\n",
       "    }\n",
       "\n",
       "    .dataframe tbody tr th {\n",
       "        vertical-align: top;\n",
       "    }\n",
       "\n",
       "    .dataframe thead th {\n",
       "        text-align: right;\n",
       "    }\n",
       "</style>\n",
       "<table border=\"1\" class=\"dataframe\">\n",
       "  <thead>\n",
       "    <tr style=\"text-align: right;\">\n",
       "      <th></th>\n",
       "      <th>fixed acidity</th>\n",
       "      <th>volatile acidity</th>\n",
       "      <th>citric acid</th>\n",
       "      <th>residual sugar</th>\n",
       "      <th>chlorides</th>\n",
       "      <th>free sulfur dioxide</th>\n",
       "      <th>total sulfur dioxide</th>\n",
       "      <th>density</th>\n",
       "      <th>pH</th>\n",
       "      <th>sulphates</th>\n",
       "      <th>alcohol</th>\n",
       "    </tr>\n",
       "  </thead>\n",
       "  <tbody>\n",
       "    <tr>\n",
       "      <th>1008</th>\n",
       "      <td>8.9</td>\n",
       "      <td>0.350</td>\n",
       "      <td>0.40</td>\n",
       "      <td>3.6</td>\n",
       "      <td>0.110</td>\n",
       "      <td>12.0</td>\n",
       "      <td>24.0</td>\n",
       "      <td>0.99549</td>\n",
       "      <td>3.23</td>\n",
       "      <td>0.70</td>\n",
       "      <td>12.0</td>\n",
       "    </tr>\n",
       "    <tr>\n",
       "      <th>1163</th>\n",
       "      <td>9.0</td>\n",
       "      <td>0.785</td>\n",
       "      <td>0.24</td>\n",
       "      <td>1.7</td>\n",
       "      <td>0.078</td>\n",
       "      <td>10.0</td>\n",
       "      <td>21.0</td>\n",
       "      <td>0.99692</td>\n",
       "      <td>3.29</td>\n",
       "      <td>0.67</td>\n",
       "      <td>10.0</td>\n",
       "    </tr>\n",
       "    <tr>\n",
       "      <th>689</th>\n",
       "      <td>8.1</td>\n",
       "      <td>0.380</td>\n",
       "      <td>0.48</td>\n",
       "      <td>1.8</td>\n",
       "      <td>0.157</td>\n",
       "      <td>5.0</td>\n",
       "      <td>17.0</td>\n",
       "      <td>0.99760</td>\n",
       "      <td>3.30</td>\n",
       "      <td>1.05</td>\n",
       "      <td>9.4</td>\n",
       "    </tr>\n",
       "    <tr>\n",
       "      <th>112</th>\n",
       "      <td>8.4</td>\n",
       "      <td>0.600</td>\n",
       "      <td>0.10</td>\n",
       "      <td>2.2</td>\n",
       "      <td>0.085</td>\n",
       "      <td>14.0</td>\n",
       "      <td>111.0</td>\n",
       "      <td>0.99640</td>\n",
       "      <td>3.15</td>\n",
       "      <td>0.66</td>\n",
       "      <td>9.8</td>\n",
       "    </tr>\n",
       "    <tr>\n",
       "      <th>510</th>\n",
       "      <td>12.4</td>\n",
       "      <td>0.420</td>\n",
       "      <td>0.49</td>\n",
       "      <td>4.6</td>\n",
       "      <td>0.073</td>\n",
       "      <td>19.0</td>\n",
       "      <td>43.0</td>\n",
       "      <td>0.99780</td>\n",
       "      <td>3.02</td>\n",
       "      <td>0.61</td>\n",
       "      <td>9.5</td>\n",
       "    </tr>\n",
       "    <tr>\n",
       "      <th>...</th>\n",
       "      <td>...</td>\n",
       "      <td>...</td>\n",
       "      <td>...</td>\n",
       "      <td>...</td>\n",
       "      <td>...</td>\n",
       "      <td>...</td>\n",
       "      <td>...</td>\n",
       "      <td>...</td>\n",
       "      <td>...</td>\n",
       "      <td>...</td>\n",
       "      <td>...</td>\n",
       "    </tr>\n",
       "    <tr>\n",
       "      <th>1185</th>\n",
       "      <td>7.0</td>\n",
       "      <td>0.430</td>\n",
       "      <td>0.30</td>\n",
       "      <td>2.0</td>\n",
       "      <td>0.085</td>\n",
       "      <td>6.0</td>\n",
       "      <td>39.0</td>\n",
       "      <td>0.99346</td>\n",
       "      <td>3.33</td>\n",
       "      <td>0.46</td>\n",
       "      <td>11.9</td>\n",
       "    </tr>\n",
       "    <tr>\n",
       "      <th>588</th>\n",
       "      <td>5.0</td>\n",
       "      <td>0.420</td>\n",
       "      <td>0.24</td>\n",
       "      <td>2.0</td>\n",
       "      <td>0.060</td>\n",
       "      <td>19.0</td>\n",
       "      <td>50.0</td>\n",
       "      <td>0.99170</td>\n",
       "      <td>3.72</td>\n",
       "      <td>0.74</td>\n",
       "      <td>14.0</td>\n",
       "    </tr>\n",
       "    <tr>\n",
       "      <th>1582</th>\n",
       "      <td>6.1</td>\n",
       "      <td>0.715</td>\n",
       "      <td>0.10</td>\n",
       "      <td>2.6</td>\n",
       "      <td>0.053</td>\n",
       "      <td>13.0</td>\n",
       "      <td>27.0</td>\n",
       "      <td>0.99362</td>\n",
       "      <td>3.57</td>\n",
       "      <td>0.50</td>\n",
       "      <td>11.9</td>\n",
       "    </tr>\n",
       "    <tr>\n",
       "      <th>1428</th>\n",
       "      <td>7.8</td>\n",
       "      <td>0.640</td>\n",
       "      <td>0.00</td>\n",
       "      <td>1.9</td>\n",
       "      <td>0.072</td>\n",
       "      <td>27.0</td>\n",
       "      <td>55.0</td>\n",
       "      <td>0.99620</td>\n",
       "      <td>3.31</td>\n",
       "      <td>0.63</td>\n",
       "      <td>11.0</td>\n",
       "    </tr>\n",
       "    <tr>\n",
       "      <th>1109</th>\n",
       "      <td>10.8</td>\n",
       "      <td>0.470</td>\n",
       "      <td>0.43</td>\n",
       "      <td>2.1</td>\n",
       "      <td>0.171</td>\n",
       "      <td>27.0</td>\n",
       "      <td>66.0</td>\n",
       "      <td>0.99820</td>\n",
       "      <td>3.17</td>\n",
       "      <td>0.76</td>\n",
       "      <td>10.8</td>\n",
       "    </tr>\n",
       "  </tbody>\n",
       "</table>\n",
       "<p>449 rows × 11 columns</p>\n",
       "</div>"
      ],
      "text/plain": [
       "      fixed acidity  volatile acidity  citric acid  residual sugar  chlorides  \\\n",
       "1008            8.9             0.350         0.40             3.6      0.110   \n",
       "1163            9.0             0.785         0.24             1.7      0.078   \n",
       "689             8.1             0.380         0.48             1.8      0.157   \n",
       "112             8.4             0.600         0.10             2.2      0.085   \n",
       "510            12.4             0.420         0.49             4.6      0.073   \n",
       "...             ...               ...          ...             ...        ...   \n",
       "1185            7.0             0.430         0.30             2.0      0.085   \n",
       "588             5.0             0.420         0.24             2.0      0.060   \n",
       "1582            6.1             0.715         0.10             2.6      0.053   \n",
       "1428            7.8             0.640         0.00             1.9      0.072   \n",
       "1109           10.8             0.470         0.43             2.1      0.171   \n",
       "\n",
       "      free sulfur dioxide  total sulfur dioxide  density    pH  sulphates  \\\n",
       "1008                 12.0                  24.0  0.99549  3.23       0.70   \n",
       "1163                 10.0                  21.0  0.99692  3.29       0.67   \n",
       "689                   5.0                  17.0  0.99760  3.30       1.05   \n",
       "112                  14.0                 111.0  0.99640  3.15       0.66   \n",
       "510                  19.0                  43.0  0.99780  3.02       0.61   \n",
       "...                   ...                   ...      ...   ...        ...   \n",
       "1185                  6.0                  39.0  0.99346  3.33       0.46   \n",
       "588                  19.0                  50.0  0.99170  3.72       0.74   \n",
       "1582                 13.0                  27.0  0.99362  3.57       0.50   \n",
       "1428                 27.0                  55.0  0.99620  3.31       0.63   \n",
       "1109                 27.0                  66.0  0.99820  3.17       0.76   \n",
       "\n",
       "      alcohol  \n",
       "1008     12.0  \n",
       "1163     10.0  \n",
       "689       9.4  \n",
       "112       9.8  \n",
       "510       9.5  \n",
       "...       ...  \n",
       "1185     11.9  \n",
       "588      14.0  \n",
       "1582     11.9  \n",
       "1428     11.0  \n",
       "1109     10.8  \n",
       "\n",
       "[449 rows x 11 columns]"
      ]
     },
     "execution_count": 19,
     "metadata": {},
     "output_type": "execute_result"
    }
   ],
   "source": [
    "x_test"
   ]
  },
  {
   "cell_type": "code",
   "execution_count": 20,
   "id": "95c862c3",
   "metadata": {},
   "outputs": [
    {
     "data": {
      "text/plain": [
       "903     7\n",
       "734     5\n",
       "568     6\n",
       "1533    5\n",
       "764     6\n",
       "       ..\n",
       "1354    5\n",
       "1583    5\n",
       "607     6\n",
       "1356    5\n",
       "1519    5\n",
       "Name: quality, Length: 910, dtype: int64"
      ]
     },
     "execution_count": 20,
     "metadata": {},
     "output_type": "execute_result"
    }
   ],
   "source": [
    "y_train"
   ]
  },
  {
   "cell_type": "code",
   "execution_count": 21,
   "id": "c2118263",
   "metadata": {},
   "outputs": [
    {
     "data": {
      "text/plain": [
       "1008    7\n",
       "1163    5\n",
       "689     5\n",
       "112     5\n",
       "510     5\n",
       "       ..\n",
       "1185    6\n",
       "588     8\n",
       "1582    5\n",
       "1428    5\n",
       "1109    6\n",
       "Name: quality, Length: 449, dtype: int64"
      ]
     },
     "execution_count": 21,
     "metadata": {},
     "output_type": "execute_result"
    }
   ],
   "source": [
    "y_test"
   ]
  },
  {
   "cell_type": "code",
   "execution_count": 22,
   "id": "2bad7b8c",
   "metadata": {},
   "outputs": [
    {
     "data": {
      "text/plain": [
       "DecisionTreeClassifier()"
      ]
     },
     "execution_count": 22,
     "metadata": {},
     "output_type": "execute_result"
    }
   ],
   "source": [
    "# lets buil the model\n",
    "\n",
    "from sklearn.tree import DecisionTreeClassifier\n",
    "model = DecisionTreeClassifier()\n",
    "model.fit(x_train,y_train)"
   ]
  },
  {
   "cell_type": "code",
   "execution_count": 23,
   "id": "89717184",
   "metadata": {},
   "outputs": [
    {
     "data": {
      "text/plain": [
       "1.0"
      ]
     },
     "execution_count": 23,
     "metadata": {},
     "output_type": "execute_result"
    }
   ],
   "source": [
    "# model train score\n",
    "model.score(x_train,y_train)"
   ]
  },
  {
   "cell_type": "code",
   "execution_count": 24,
   "id": "b310dc65",
   "metadata": {},
   "outputs": [],
   "source": [
    "# lets predict\n",
    "\n",
    "y_pred= model.predict(x_test)"
   ]
  },
  {
   "cell_type": "code",
   "execution_count": 25,
   "id": "48015ebb",
   "metadata": {},
   "outputs": [
    {
     "data": {
      "text/plain": [
       "array([6, 6, 6, 5, 6, 7, 6, 7, 5, 7, 4, 5, 6, 5, 5, 6, 5, 5, 7, 5, 6, 6,\n",
       "       6, 5, 5, 5, 6, 7, 5, 5, 6, 6, 6, 5, 6, 5, 5, 4, 6, 4, 5, 6, 6, 6,\n",
       "       5, 6, 5, 5, 5, 6, 4, 5, 5, 6, 3, 7, 6, 7, 4, 6, 6, 6, 7, 5, 6, 6,\n",
       "       5, 6, 6, 5, 5, 5, 5, 6, 4, 3, 7, 5, 5, 6, 6, 5, 5, 5, 5, 5, 6, 7,\n",
       "       5, 5, 5, 5, 5, 6, 6, 5, 5, 6, 5, 6, 6, 5, 6, 5, 5, 5, 6, 7, 5, 5,\n",
       "       5, 5, 7, 5, 5, 6, 7, 6, 5, 6, 4, 6, 5, 6, 7, 6, 7, 5, 5, 5, 6, 5,\n",
       "       5, 5, 4, 5, 5, 6, 3, 7, 5, 6, 7, 6, 5, 5, 5, 6, 5, 7, 6, 6, 6, 5,\n",
       "       5, 6, 6, 5, 6, 6, 5, 6, 5, 5, 5, 5, 6, 5, 5, 6, 7, 6, 6, 5, 5, 7,\n",
       "       6, 6, 6, 5, 5, 6, 6, 5, 7, 5, 5, 6, 5, 5, 7, 5, 6, 5, 5, 5, 6, 5,\n",
       "       7, 7, 6, 5, 5, 6, 6, 6, 6, 3, 5, 6, 6, 5, 7, 7, 6, 5, 5, 5, 7, 8,\n",
       "       5, 6, 5, 5, 6, 6, 7, 6, 5, 6, 5, 5, 5, 7, 6, 5, 5, 5, 5, 4, 5, 5,\n",
       "       3, 6, 8, 7, 5, 6, 6, 5, 6, 5, 8, 6, 6, 7, 7, 5, 6, 8, 6, 7, 5, 6,\n",
       "       6, 6, 5, 6, 5, 6, 6, 6, 7, 5, 6, 6, 7, 7, 7, 6, 7, 5, 5, 6, 5, 6,\n",
       "       4, 7, 5, 6, 5, 6, 5, 7, 6, 6, 5, 6, 7, 5, 6, 6, 5, 6, 6, 7, 5, 6,\n",
       "       5, 5, 5, 7, 6, 5, 5, 6, 5, 5, 6, 6, 6, 7, 6, 6, 6, 7, 5, 5, 7, 5,\n",
       "       6, 5, 7, 6, 6, 6, 5, 5, 4, 5, 7, 6, 6, 5, 5, 5, 6, 7, 7, 7, 6, 7,\n",
       "       6, 6, 6, 5, 5, 5, 6, 6, 5, 6, 7, 6, 6, 6, 6, 7, 6, 5, 6, 8, 6, 5,\n",
       "       4, 7, 5, 6, 5, 5, 6, 6, 5, 5, 4, 6, 5, 6, 5, 5, 7, 7, 5, 5, 6, 5,\n",
       "       6, 5, 6, 6, 5, 5, 5, 4, 7, 6, 5, 6, 6, 5, 5, 6, 5, 5, 5, 6, 6, 5,\n",
       "       5, 6, 5, 5, 6, 5, 5, 7, 6, 5, 6, 6, 6, 5, 5, 7, 5, 6, 6, 6, 6, 6,\n",
       "       5, 5, 6, 6, 6, 7, 5, 5, 6], dtype=int64)"
      ]
     },
     "execution_count": 25,
     "metadata": {},
     "output_type": "execute_result"
    }
   ],
   "source": [
    "y_pred"
   ]
  },
  {
   "cell_type": "code",
   "execution_count": 26,
   "id": "449b895d",
   "metadata": {},
   "outputs": [
    {
     "data": {
      "text/plain": [
       "0.49443207126948774"
      ]
     },
     "execution_count": 26,
     "metadata": {},
     "output_type": "execute_result"
    }
   ],
   "source": [
    "# lets check the test accuracy\n",
    "\n",
    "from sklearn.metrics import accuracy_score\n",
    "\n",
    "accuracy_score(y_test,y_pred)"
   ]
  },
  {
   "cell_type": "code",
   "execution_count": 27,
   "id": "5b79bcbc",
   "metadata": {},
   "outputs": [],
   "source": [
    "# its a overfitted model"
   ]
  },
  {
   "cell_type": "markdown",
   "id": "04afb2b5",
   "metadata": {},
   "source": [
    "# lets do hyper parameter tuning"
   ]
  },
  {
   "cell_type": "raw",
   "id": "934d3dd5",
   "metadata": {},
   "source": [
    "# gridsearch  is a method to implementing hyper tuning\n",
    "grid serch cv means cross validation\n"
   ]
  },
  {
   "cell_type": "code",
   "execution_count": 28,
   "id": "86ca8f65",
   "metadata": {},
   "outputs": [],
   "source": [
    "# hyperparameter is rsponsible for creating the structure of model"
   ]
  },
  {
   "cell_type": "code",
   "execution_count": 29,
   "id": "68ca93fc",
   "metadata": {},
   "outputs": [],
   "source": [
    "# by using gridsearch cv\n",
    "\n",
    "grid_param = {\n",
    "    \n",
    "    'criterion': ['gini','entropy'],\n",
    "    'max_depth': range(2,32,1),\n",
    "    'min_samples_leaf': range(1,10,1),\n",
    "    'min_samples_split': range(2,10,1),\n",
    "    'splitter': ['best','random']\n",
    "}"
   ]
  },
  {
   "cell_type": "code",
   "execution_count": 30,
   "id": "f6f7a0ab",
   "metadata": {},
   "outputs": [],
   "source": [
    "# lets run the gridsearch\n",
    "\n",
    "Grid = GridSearchCV(estimator=model,param_grid=grid_param,cv=5)"
   ]
  },
  {
   "cell_type": "code",
   "execution_count": 31,
   "id": "97835b33",
   "metadata": {},
   "outputs": [
    {
     "data": {
      "text/plain": [
       "GridSearchCV(cv=5, estimator=DecisionTreeClassifier(),\n",
       "             param_grid={'criterion': ['gini', 'entropy'],\n",
       "                         'max_depth': range(2, 32),\n",
       "                         'min_samples_leaf': range(1, 10),\n",
       "                         'min_samples_split': range(2, 10),\n",
       "                         'splitter': ['best', 'random']})"
      ]
     },
     "execution_count": 31,
     "metadata": {},
     "output_type": "execute_result"
    }
   ],
   "source": [
    "# fitting the data into grid \n",
    "\n",
    "Grid.fit(x_train,y_train)"
   ]
  },
  {
   "cell_type": "code",
   "execution_count": 32,
   "id": "c4ec0954",
   "metadata": {},
   "outputs": [
    {
     "data": {
      "text/plain": [
       "{'criterion': 'entropy',\n",
       " 'max_depth': 6,\n",
       " 'min_samples_leaf': 9,\n",
       " 'min_samples_split': 6,\n",
       " 'splitter': 'random'}"
      ]
     },
     "execution_count": 32,
     "metadata": {},
     "output_type": "execute_result"
    }
   ],
   "source": [
    "# search for best parameters of the model\n",
    "\n",
    "Grid.best_params_"
   ]
  },
  {
   "cell_type": "code",
   "execution_count": 33,
   "id": "5b8d7c82",
   "metadata": {},
   "outputs": [],
   "source": [
    "# creating model with best parameters\n",
    "\n",
    "model_with= DecisionTreeClassifier(criterion='entropy',max_depth= 3,min_samples_leaf= 8,min_samples_split= 9,splitter= 'random')"
   ]
  },
  {
   "cell_type": "code",
   "execution_count": 34,
   "id": "b2e73677",
   "metadata": {},
   "outputs": [
    {
     "data": {
      "text/plain": [
       "DecisionTreeClassifier(criterion='entropy', max_depth=3, min_samples_leaf=8,\n",
       "                       min_samples_split=9, splitter='random')"
      ]
     },
     "execution_count": 34,
     "metadata": {},
     "output_type": "execute_result"
    }
   ],
   "source": [
    "# lets fi the data\n",
    "\n",
    "model_with.fit(x_train,y_train)"
   ]
  },
  {
   "cell_type": "code",
   "execution_count": 35,
   "id": "c19684a2",
   "metadata": {},
   "outputs": [
    {
     "data": {
      "text/plain": [
       "array([6, 5, 5, 5, 5, 5, 5, 6, 5, 6, 5, 5, 6, 5, 5, 6, 5, 6, 6, 5, 5, 5,\n",
       "       6, 5, 6, 5, 5, 6, 5, 6, 6, 5, 6, 5, 5, 5, 5, 5, 6, 5, 5, 6, 6, 5,\n",
       "       6, 5, 5, 6, 5, 5, 5, 5, 5, 5, 5, 6, 5, 6, 5, 6, 5, 5, 6, 6, 5, 5,\n",
       "       5, 5, 6, 5, 5, 5, 5, 5, 6, 5, 6, 5, 5, 5, 6, 5, 5, 5, 5, 5, 5, 6,\n",
       "       5, 5, 5, 5, 5, 5, 6, 5, 5, 5, 5, 5, 6, 5, 5, 5, 5, 6, 6, 5, 5, 5,\n",
       "       5, 5, 5, 5, 5, 5, 5, 5, 5, 6, 5, 5, 5, 5, 6, 5, 5, 5, 5, 5, 6, 5,\n",
       "       5, 5, 6, 5, 5, 5, 5, 6, 6, 5, 6, 6, 5, 5, 5, 5, 5, 6, 5, 6, 6, 5,\n",
       "       5, 6, 5, 5, 5, 5, 5, 6, 5, 5, 5, 5, 5, 5, 5, 6, 5, 6, 6, 5, 5, 5,\n",
       "       6, 6, 6, 5, 6, 5, 5, 5, 5, 5, 5, 6, 6, 5, 6, 6, 5, 5, 6, 6, 6, 5,\n",
       "       6, 6, 6, 6, 5, 5, 6, 6, 5, 5, 6, 5, 5, 5, 6, 5, 5, 5, 5, 5, 6, 6,\n",
       "       5, 6, 5, 5, 5, 6, 6, 5, 6, 6, 5, 6, 5, 6, 6, 5, 5, 5, 5, 6, 5, 5,\n",
       "       5, 5, 6, 6, 5, 6, 5, 5, 5, 5, 6, 6, 6, 6, 5, 6, 6, 6, 6, 6, 5, 6,\n",
       "       5, 5, 5, 6, 5, 6, 6, 6, 6, 6, 6, 5, 6, 6, 6, 5, 6, 6, 5, 6, 5, 6,\n",
       "       5, 6, 5, 5, 5, 5, 5, 6, 6, 5, 5, 5, 6, 5, 6, 5, 5, 6, 6, 5, 5, 6,\n",
       "       6, 5, 5, 6, 5, 5, 5, 5, 5, 5, 5, 5, 5, 6, 6, 6, 6, 5, 5, 5, 6, 5,\n",
       "       6, 6, 6, 5, 5, 5, 5, 5, 5, 5, 6, 5, 6, 6, 6, 6, 5, 6, 6, 6, 5, 6,\n",
       "       5, 6, 6, 5, 5, 6, 6, 5, 5, 6, 6, 6, 5, 5, 6, 5, 6, 5, 5, 6, 6, 5,\n",
       "       5, 6, 6, 6, 5, 5, 5, 5, 5, 5, 6, 5, 5, 6, 5, 5, 6, 6, 6, 5, 6, 5,\n",
       "       6, 5, 5, 5, 5, 5, 5, 6, 6, 5, 5, 5, 6, 6, 5, 5, 5, 6, 5, 5, 6, 5,\n",
       "       5, 5, 6, 5, 6, 5, 6, 6, 5, 5, 5, 5, 5, 5, 6, 5, 6, 5, 6, 6, 6, 5,\n",
       "       6, 5, 5, 5, 6, 6, 6, 6, 6], dtype=int64)"
      ]
     },
     "execution_count": 35,
     "metadata": {},
     "output_type": "execute_result"
    }
   ],
   "source": [
    "# prediction\n",
    "\n",
    "y_with_pred = model_with.predict(x_test)\n",
    "y_with_pred"
   ]
  },
  {
   "cell_type": "code",
   "execution_count": 36,
   "id": "541ace48",
   "metadata": {},
   "outputs": [
    {
     "data": {
      "text/plain": [
       "0.5367483296213809"
      ]
     },
     "execution_count": 36,
     "metadata": {},
     "output_type": "execute_result"
    }
   ],
   "source": [
    "#  accuracy\n",
    "\n",
    "accuracy_score(y_test, y_with_pred)"
   ]
  },
  {
   "cell_type": "raw",
   "id": "52bf63d8",
   "metadata": {},
   "source": [
    "# after hyper parameter tuning we saw that its increases accuracy upto 3%"
   ]
  },
  {
   "cell_type": "code",
   "execution_count": 37,
   "id": "903c2eb0",
   "metadata": {},
   "outputs": [
    {
     "data": {
      "text/plain": [
       "[Text(0.5219298245614035, 0.9166666666666666, 'X[10] <= 10.15\\ngini = 0.645\\nsamples = 910\\nvalue = [7, 31, 389, 359, 114, 10]'),\n",
       " Text(0.27631578947368424, 0.75, 'X[6] <= 62.5\\ngini = 0.495\\nsamples = 459\\nvalue = [3, 15, 298, 131, 12, 0]'),\n",
       " Text(0.14035087719298245, 0.5833333333333334, 'X[1] <= 0.548\\ngini = 0.571\\nsamples = 282\\nvalue = [3, 11, 151, 105, 12, 0]'),\n",
       " Text(0.07017543859649122, 0.4166666666666667, 'X[9] <= 0.585\\ngini = 0.596\\nsamples = 136\\nvalue = [1, 4, 52, 68, 11, 0]'),\n",
       " Text(0.03508771929824561, 0.25, 'X[7] <= 0.996\\ngini = 0.512\\nsamples = 44\\nvalue = [0, 4, 28, 12, 0, 0]'),\n",
       " Text(0.017543859649122806, 0.08333333333333333, '\\n  (...)  \\n'),\n",
       " Text(0.05263157894736842, 0.08333333333333333, '\\n  (...)  \\n'),\n",
       " Text(0.10526315789473684, 0.25, 'X[7] <= 0.996\\ngini = 0.547\\nsamples = 92\\nvalue = [1, 0, 24, 56, 11, 0]'),\n",
       " Text(0.08771929824561403, 0.08333333333333333, '\\n  (...)  \\n'),\n",
       " Text(0.12280701754385964, 0.08333333333333333, '\\n  (...)  \\n'),\n",
       " Text(0.21052631578947367, 0.4166666666666667, 'X[7] <= 0.996\\ngini = 0.473\\nsamples = 146\\nvalue = [2, 7, 99, 37, 1, 0]'),\n",
       " Text(0.17543859649122806, 0.25, 'X[10] <= 9.15\\ngini = 0.176\\nsamples = 32\\nvalue = [1, 1, 29, 1, 0, 0]'),\n",
       " Text(0.15789473684210525, 0.08333333333333333, '\\n  (...)  \\n'),\n",
       " Text(0.19298245614035087, 0.08333333333333333, '\\n  (...)  \\n'),\n",
       " Text(0.24561403508771928, 0.25, 'X[10] <= 9.95\\ngini = 0.52\\nsamples = 114\\nvalue = [1, 6, 70, 36, 1, 0]'),\n",
       " Text(0.22807017543859648, 0.08333333333333333, '\\n  (...)  \\n'),\n",
       " Text(0.2631578947368421, 0.08333333333333333, '\\n  (...)  \\n'),\n",
       " Text(0.41228070175438597, 0.5833333333333334, 'X[6] <= 98.5\\ngini = 0.288\\nsamples = 177\\nvalue = [0, 4, 147, 26, 0, 0]'),\n",
       " Text(0.3508771929824561, 0.4166666666666667, 'X[10] <= 9.45\\ngini = 0.39\\nsamples = 116\\nvalue = [0, 4, 87, 25, 0, 0]'),\n",
       " Text(0.3157894736842105, 0.25, 'X[8] <= 3.495\\ngini = 0.222\\nsamples = 49\\nvalue = [0, 2, 43, 4, 0, 0]'),\n",
       " Text(0.2982456140350877, 0.08333333333333333, '\\n  (...)  \\n'),\n",
       " Text(0.3333333333333333, 0.08333333333333333, '\\n  (...)  \\n'),\n",
       " Text(0.38596491228070173, 0.25, 'X[1] <= 0.415\\ngini = 0.47\\nsamples = 67\\nvalue = [0, 2, 44, 21, 0, 0]'),\n",
       " Text(0.3684210526315789, 0.08333333333333333, '\\n  (...)  \\n'),\n",
       " Text(0.40350877192982454, 0.08333333333333333, '\\n  (...)  \\n'),\n",
       " Text(0.47368421052631576, 0.4166666666666667, 'X[4] <= 0.067\\ngini = 0.032\\nsamples = 61\\nvalue = [0, 0, 60, 1, 0, 0]'),\n",
       " Text(0.45614035087719296, 0.25, 'X[1] <= 0.445\\ngini = 0.5\\nsamples = 2\\nvalue = [0, 0, 1, 1, 0, 0]'),\n",
       " Text(0.43859649122807015, 0.08333333333333333, '\\n  (...)  \\n'),\n",
       " Text(0.47368421052631576, 0.08333333333333333, '\\n  (...)  \\n'),\n",
       " Text(0.49122807017543857, 0.25, 'gini = 0.0\\nsamples = 59\\nvalue = [0, 0, 59, 0, 0, 0]'),\n",
       " Text(0.7675438596491229, 0.75, 'X[9] <= 0.675\\ngini = 0.651\\nsamples = 451\\nvalue = [4, 16, 91, 228, 102, 10]'),\n",
       " Text(0.631578947368421, 0.5833333333333334, 'X[10] <= 11.45\\ngini = 0.636\\nsamples = 250\\nvalue = [4, 16, 69, 130, 29, 2]'),\n",
       " Text(0.5614035087719298, 0.4166666666666667, 'X[1] <= 0.827\\ngini = 0.649\\nsamples = 157\\nvalue = [4, 13, 60, 69, 10, 1]'),\n",
       " Text(0.5263157894736842, 0.25, 'X[3] <= 1.85\\ngini = 0.589\\nsamples = 134\\nvalue = [0, 3, 54, 66, 10, 1]'),\n",
       " Text(0.5087719298245614, 0.08333333333333333, '\\n  (...)  \\n'),\n",
       " Text(0.543859649122807, 0.08333333333333333, '\\n  (...)  \\n'),\n",
       " Text(0.5964912280701754, 0.25, 'X[10] <= 10.95\\ngini = 0.696\\nsamples = 23\\nvalue = [4, 10, 6, 3, 0, 0]'),\n",
       " Text(0.5789473684210527, 0.08333333333333333, '\\n  (...)  \\n'),\n",
       " Text(0.6140350877192983, 0.08333333333333333, '\\n  (...)  \\n'),\n",
       " Text(0.7017543859649122, 0.4166666666666667, 'X[3] <= 4.5\\ngini = 0.518\\nsamples = 93\\nvalue = [0, 3, 9, 61, 19, 1]'),\n",
       " Text(0.6666666666666666, 0.25, 'X[6] <= 15.5\\ngini = 0.442\\nsamples = 80\\nvalue = [0, 1, 8, 58, 12, 1]'),\n",
       " Text(0.6491228070175439, 0.08333333333333333, '\\n  (...)  \\n'),\n",
       " Text(0.6842105263157895, 0.08333333333333333, '\\n  (...)  \\n'),\n",
       " Text(0.7368421052631579, 0.25, 'X[2] <= 0.405\\ngini = 0.627\\nsamples = 13\\nvalue = [0, 2, 1, 3, 7, 0]'),\n",
       " Text(0.7192982456140351, 0.08333333333333333, '\\n  (...)  \\n'),\n",
       " Text(0.7543859649122807, 0.08333333333333333, '\\n  (...)  \\n'),\n",
       " Text(0.9035087719298246, 0.5833333333333334, 'X[10] <= 12.05\\ngini = 0.617\\nsamples = 201\\nvalue = [0, 0, 22, 98, 73, 8]'),\n",
       " Text(0.8421052631578947, 0.4166666666666667, 'X[1] <= 0.335\\ngini = 0.589\\nsamples = 164\\nvalue = [0, 0, 21, 90, 50, 3]'),\n",
       " Text(0.8070175438596491, 0.25, 'X[9] <= 0.735\\ngini = 0.59\\nsamples = 50\\nvalue = [0, 0, 5, 18, 26, 1]'),\n",
       " Text(0.7894736842105263, 0.08333333333333333, '\\n  (...)  \\n'),\n",
       " Text(0.8245614035087719, 0.08333333333333333, '\\n  (...)  \\n'),\n",
       " Text(0.8771929824561403, 0.25, 'X[3] <= 4.4\\ngini = 0.537\\nsamples = 114\\nvalue = [0, 0, 16, 72, 24, 2]'),\n",
       " Text(0.8596491228070176, 0.08333333333333333, '\\n  (...)  \\n'),\n",
       " Text(0.8947368421052632, 0.08333333333333333, '\\n  (...)  \\n'),\n",
       " Text(0.9649122807017544, 0.4166666666666667, 'X[9] <= 0.905\\ngini = 0.548\\nsamples = 37\\nvalue = [0, 0, 1, 8, 23, 5]'),\n",
       " Text(0.9473684210526315, 0.25, 'X[10] <= 13.8\\ngini = 0.498\\nsamples = 34\\nvalue = [0, 0, 1, 5, 23, 5]'),\n",
       " Text(0.9298245614035088, 0.08333333333333333, '\\n  (...)  \\n'),\n",
       " Text(0.9649122807017544, 0.08333333333333333, '\\n  (...)  \\n'),\n",
       " Text(0.9824561403508771, 0.25, 'gini = 0.0\\nsamples = 3\\nvalue = [0, 0, 0, 3, 0, 0]')]"
      ]
     },
     "execution_count": 37,
     "metadata": {},
     "output_type": "execute_result"
    },
    {
     "data": {
      "image/png": "[encoded data removed]",
      "text/plain": [
       "<Figure size 1800x1080 with 1 Axes>"
      ]
     },
     "metadata": {
      "needs_background": "light"
     },
     "output_type": "display_data"
    }
   ],
   "source": [
    "# lets visualise the tree\n",
    "\n",
    "from sklearn import tree\n",
    "import matplotlib.pyplot as plt\n",
    "fig = plt.figure(figsize=(25,15))\n",
    "tree.plot_tree(model,max_depth=4,filled=True)"
   ]
  },
  {
   "cell_type": "code",
   "execution_count": 43,
   "id": "184ab500",
   "metadata": {},
   "outputs": [
    {
     "data": {
      "text/plain": [
       "[Text(0.5, 0.875, 'X[7] <= 0.996\\nentropy = 1.721\\nsamples = 910\\nvalue = [7, 31, 389, 359, 114, 10]'),\n",
       " Text(0.25, 0.625, 'X[10] <= 10.608\\nentropy = 1.802\\nsamples = 286\\nvalue = [1, 11, 75, 137, 56, 6]'),\n",
       " Text(0.125, 0.375, 'X[9] <= 0.477\\nentropy = 1.4\\nsamples = 89\\nvalue = [0, 4, 50, 31, 4, 0]'),\n",
       " Text(0.0625, 0.125, 'entropy = 0.371\\nsamples = 14\\nvalue = [0, 1, 13, 0, 0, 0]'),\n",
       " Text(0.1875, 0.125, 'entropy = 1.441\\nsamples = 75\\nvalue = [0, 3, 37, 31, 4, 0]'),\n",
       " Text(0.375, 0.375, 'X[1] <= 0.653\\nentropy = 1.729\\nsamples = 197\\nvalue = [1, 7, 25, 106, 52, 6]'),\n",
       " Text(0.3125, 0.125, 'entropy = 1.641\\nsamples = 167\\nvalue = [0, 3, 20, 90, 48, 6]'),\n",
       " Text(0.4375, 0.125, 'entropy = 1.853\\nsamples = 30\\nvalue = [1, 4, 5, 16, 4, 0]'),\n",
       " Text(0.75, 0.625, 'X[10] <= 10.588\\nentropy = 1.618\\nsamples = 624\\nvalue = [6, 20, 314, 222, 58, 4]'),\n",
       " Text(0.625, 0.375, 'X[10] <= 9.627\\nentropy = 1.363\\nsamples = 479\\nvalue = [4, 13, 285, 157, 20, 0]'),\n",
       " Text(0.5625, 0.125, 'entropy = 1.11\\nsamples = 267\\nvalue = [1, 8, 185, 71, 2, 0]'),\n",
       " Text(0.6875, 0.125, 'entropy = 1.556\\nsamples = 212\\nvalue = [3, 5, 100, 86, 18, 0]'),\n",
       " Text(0.875, 0.375, 'X[2] <= 0.298\\nentropy = 1.929\\nsamples = 145\\nvalue = [2, 7, 29, 65, 38, 4]'),\n",
       " Text(0.8125, 0.125, 'entropy = 1.986\\nsamples = 46\\nvalue = [2, 7, 12, 20, 5, 0]'),\n",
       " Text(0.9375, 0.125, 'entropy = 1.669\\nsamples = 99\\nvalue = [0, 0, 17, 45, 33, 4]')]"
      ]
     },
     "execution_count": 43,
     "metadata": {},
     "output_type": "execute_result"
    },
    {
     "data": {
      "image/png": "[encoded data removed]",
      "text/plain": [
       "<Figure size 2160x1080 with 1 Axes>"
      ]
     },
     "metadata": {
      "needs_background": "light"
     },
     "output_type": "display_data"
    }
   ],
   "source": [
    "# lets visualise the tree after hyper parameter tuning\n",
    "\n",
    "from sklearn import tree\n",
    "import matplotlib.pyplot as plt\n",
    "fig = plt.figure(figsize=(30,15))\n",
    "tree.plot_tree(model_with,filled=True,fontsize=20)"
   ]
  },
  {
   "cell_type": "markdown",
   "id": "48c96594",
   "metadata": {},
   "source": [
    "### Random forest Classifier"
   ]
  },
  {
   "cell_type": "code",
   "execution_count": 47,
   "id": "192638da",
   "metadata": {},
   "outputs": [
    {
     "data": {
      "text/plain": [
       "RandomForestClassifier()"
      ]
     },
     "execution_count": 47,
     "metadata": {},
     "output_type": "execute_result"
    }
   ],
   "source": [
    "# model building\n",
    "from sklearn.ensemble import RandomForestClassifier\n",
    "Rf_model =RandomForestClassifier()\n",
    "Rf_model.fit(x_train,y_train)"
   ]
  },
  {
   "cell_type": "code",
   "execution_count": 49,
   "id": "ef0dfde8",
   "metadata": {},
   "outputs": [],
   "source": [
    "# prediction\n",
    "y_r_pred= Rf_model.predict(x_test)\n"
   ]
  },
  {
   "cell_type": "code",
   "execution_count": 50,
   "id": "fbceb30d",
   "metadata": {},
   "outputs": [
    {
     "data": {
      "text/plain": [
       "array([6, 6, 6, 5, 5, 5, 5, 6, 6, 7, 6, 5, 6, 5, 5, 6, 6, 6, 5, 6, 5, 6,\n",
       "       6, 5, 7, 5, 5, 6, 5, 6, 7, 6, 6, 5, 5, 6, 6, 5, 6, 5, 5, 6, 6, 5,\n",
       "       5, 5, 6, 6, 5, 6, 5, 5, 5, 5, 5, 6, 5, 7, 5, 5, 5, 6, 7, 5, 5, 6,\n",
       "       5, 5, 6, 5, 5, 5, 6, 6, 6, 5, 6, 6, 5, 6, 6, 5, 5, 5, 5, 5, 5, 7,\n",
       "       5, 5, 5, 5, 5, 5, 6, 5, 5, 5, 5, 6, 6, 5, 5, 5, 5, 6, 6, 6, 5, 5,\n",
       "       5, 5, 6, 5, 5, 5, 6, 6, 5, 7, 5, 3, 5, 6, 6, 6, 5, 6, 5, 5, 6, 5,\n",
       "       5, 5, 7, 5, 5, 5, 5, 7, 6, 6, 7, 6, 5, 6, 5, 6, 5, 6, 5, 6, 6, 6,\n",
       "       6, 6, 5, 5, 6, 5, 5, 6, 5, 5, 5, 5, 6, 5, 5, 5, 5, 6, 6, 5, 5, 6,\n",
       "       6, 6, 6, 5, 5, 6, 6, 5, 5, 5, 5, 6, 6, 5, 6, 5, 5, 5, 6, 6, 3, 5,\n",
       "       6, 6, 6, 5, 5, 5, 6, 6, 6, 5, 6, 6, 6, 6, 6, 7, 5, 5, 5, 6, 6, 6,\n",
       "       5, 6, 5, 5, 5, 6, 6, 6, 6, 6, 5, 6, 6, 6, 6, 6, 5, 5, 5, 4, 5, 5,\n",
       "       5, 6, 7, 7, 5, 7, 6, 5, 6, 5, 6, 6, 6, 7, 5, 7, 6, 7, 6, 6, 5, 5,\n",
       "       6, 6, 6, 6, 5, 7, 6, 6, 7, 6, 6, 6, 7, 6, 6, 5, 6, 7, 5, 6, 5, 6,\n",
       "       5, 6, 5, 5, 5, 5, 5, 6, 6, 6, 5, 6, 7, 5, 6, 6, 5, 6, 6, 6, 5, 5,\n",
       "       7, 5, 5, 6, 6, 5, 5, 6, 6, 5, 5, 6, 5, 6, 6, 6, 6, 6, 6, 5, 6, 5,\n",
       "       6, 7, 6, 6, 6, 5, 6, 5, 5, 6, 7, 5, 6, 6, 5, 7, 6, 6, 6, 6, 6, 6,\n",
       "       5, 7, 6, 5, 5, 5, 7, 6, 5, 6, 6, 6, 6, 5, 6, 6, 7, 5, 6, 6, 6, 5,\n",
       "       5, 6, 6, 6, 5, 6, 6, 5, 5, 5, 5, 6, 6, 6, 5, 5, 7, 6, 6, 5, 6, 5,\n",
       "       6, 5, 5, 6, 5, 5, 6, 5, 6, 5, 5, 5, 6, 6, 6, 6, 5, 5, 5, 6, 6, 5,\n",
       "       5, 6, 5, 5, 6, 5, 6, 5, 6, 5, 5, 6, 5, 5, 6, 6, 6, 6, 7, 7, 6, 6,\n",
       "       5, 6, 6, 6, 6, 7, 6, 6, 6], dtype=int64)"
      ]
     },
     "execution_count": 50,
     "metadata": {},
     "output_type": "execute_result"
    }
   ],
   "source": [
    "y_r_pred"
   ]
  },
  {
   "cell_type": "code",
   "execution_count": 51,
   "id": "36b92df7",
   "metadata": {},
   "outputs": [
    {
     "data": {
      "text/plain": [
       "0.579064587973274"
      ]
     },
     "execution_count": 51,
     "metadata": {},
     "output_type": "execute_result"
    }
   ],
   "source": [
    "# lets check accuracy\n",
    "\n",
    "accuracy_score(y_test,y_r_pred)"
   ]
  },
  {
   "cell_type": "code",
   "execution_count": 52,
   "id": "3e10fd7b",
   "metadata": {},
   "outputs": [],
   "source": [
    "# hyper parameter tuning\n",
    "\n",
    "grid_param_r = {\n",
    "    \n",
    "    'n_estimators': [90,100,115,130],\n",
    "    'criterion': ['gini','entropy'],\n",
    "    'max_depth': range(2,20,1),\n",
    "    'min_samples_leaf': range(1,10,1),\n",
    "    'min_samples_split': range(2,10,1),\n",
    "    'max_features': ['auto','log2']\n",
    "    \n",
    "}"
   ]
  },
  {
   "cell_type": "code",
   "execution_count": 53,
   "id": "b3011d46",
   "metadata": {},
   "outputs": [],
   "source": [
    "# lets run the gridsearchcv\n",
    "\n",
    "Grid_r = GridSearchCV(estimator=Rf_model,param_grid=grid_param_r,cv=3,verbose=2,n_jobs=-1)"
   ]
  },
  {
   "cell_type": "code",
   "execution_count": 54,
   "id": "02134353",
   "metadata": {},
   "outputs": [
    {
     "name": "stdout",
     "output_type": "stream",
     "text": [
      "Fitting 3 folds for each of 20736 candidates, totalling 62208 fits\n"
     ]
    },
    {
     "data": {
      "text/plain": [
       "GridSearchCV(cv=3, estimator=RandomForestClassifier(), n_jobs=-1,\n",
       "             param_grid={'criterion': ['gini', 'entropy'],\n",
       "                         'max_depth': range(2, 20),\n",
       "                         'max_features': ['auto', 'log2'],\n",
       "                         'min_samples_leaf': range(1, 10),\n",
       "                         'min_samples_split': range(2, 10),\n",
       "                         'n_estimators': [90, 100, 115, 130]},\n",
       "             verbose=2)"
      ]
     },
     "execution_count": 54,
     "metadata": {},
     "output_type": "execute_result"
    }
   ],
   "source": [
    "Grid_r.fit(x_train,y_train)"
   ]
  },
  {
   "cell_type": "code",
   "execution_count": 55,
   "id": "d8aacdf8",
   "metadata": {},
   "outputs": [
    {
     "data": {
      "text/plain": [
       "{'criterion': 'entropy',\n",
       " 'max_depth': 5,\n",
       " 'max_features': 'auto',\n",
       " 'min_samples_leaf': 3,\n",
       " 'min_samples_split': 6,\n",
       " 'n_estimators': 100}"
      ]
     },
     "execution_count": 55,
     "metadata": {},
     "output_type": "execute_result"
    }
   ],
   "source": [
    "# search for best parameters of the model\n",
    "\n",
    "Grid_r.best_params_"
   ]
  },
  {
   "cell_type": "code",
   "execution_count": 56,
   "id": "7ff299ab",
   "metadata": {},
   "outputs": [],
   "source": [
    "model_r_w = RandomForestClassifier(criterion='entropy',max_depth=5,max_features='auto',min_samples_leaf=3,min_samples_split=6,n_estimators=100)"
   ]
  },
  {
   "cell_type": "code",
   "execution_count": 58,
   "id": "91efe879",
   "metadata": {},
   "outputs": [
    {
     "data": {
      "text/plain": [
       "RandomForestClassifier(criterion='entropy', max_depth=5, min_samples_leaf=3,\n",
       "                       min_samples_split=6)"
      ]
     },
     "execution_count": 58,
     "metadata": {},
     "output_type": "execute_result"
    }
   ],
   "source": [
    "model_r_w.fit(x_train,y_train)"
   ]
  },
  {
   "cell_type": "code",
   "execution_count": 60,
   "id": "47280f7c",
   "metadata": {},
   "outputs": [
    {
     "data": {
      "text/plain": [
       "array([6, 6, 6, 5, 5, 6, 5, 6, 6, 7, 5, 5, 6, 5, 5, 6, 6, 6, 6, 6, 5, 6,\n",
       "       6, 5, 6, 5, 5, 6, 5, 6, 7, 6, 6, 5, 5, 5, 6, 5, 6, 5, 5, 6, 6, 5,\n",
       "       5, 5, 5, 6, 5, 6, 5, 5, 5, 5, 6, 6, 5, 7, 5, 6, 5, 6, 7, 6, 6, 6,\n",
       "       5, 5, 6, 5, 5, 5, 6, 6, 6, 5, 6, 5, 5, 5, 6, 5, 5, 5, 5, 5, 5, 6,\n",
       "       5, 5, 5, 5, 5, 5, 6, 5, 5, 5, 5, 5, 6, 5, 5, 5, 5, 6, 6, 6, 5, 5,\n",
       "       5, 5, 5, 5, 5, 5, 6, 6, 5, 6, 5, 6, 5, 6, 6, 6, 5, 5, 5, 5, 6, 5,\n",
       "       5, 5, 7, 5, 5, 5, 5, 7, 6, 6, 7, 6, 5, 5, 5, 6, 5, 6, 5, 6, 6, 6,\n",
       "       6, 6, 5, 5, 6, 5, 5, 6, 5, 5, 5, 5, 6, 5, 5, 6, 5, 6, 6, 5, 5, 6,\n",
       "       7, 6, 6, 5, 6, 5, 6, 5, 5, 5, 5, 6, 6, 5, 6, 5, 5, 5, 7, 7, 5, 5,\n",
       "       6, 6, 6, 6, 5, 6, 6, 6, 6, 5, 6, 6, 6, 5, 6, 6, 5, 5, 5, 6, 6, 6,\n",
       "       5, 6, 5, 5, 5, 6, 6, 6, 6, 6, 5, 6, 6, 6, 6, 5, 5, 5, 5, 6, 5, 5,\n",
       "       5, 6, 6, 6, 5, 6, 6, 5, 6, 5, 6, 6, 6, 6, 6, 6, 6, 6, 6, 6, 6, 5,\n",
       "       6, 6, 6, 6, 5, 6, 6, 6, 7, 6, 6, 6, 7, 6, 6, 5, 6, 7, 5, 6, 5, 6,\n",
       "       5, 6, 5, 6, 5, 5, 5, 6, 6, 6, 5, 6, 6, 5, 6, 6, 5, 6, 6, 6, 5, 6,\n",
       "       6, 5, 5, 6, 6, 5, 6, 5, 6, 5, 5, 6, 5, 6, 6, 6, 6, 6, 6, 5, 6, 5,\n",
       "       6, 7, 6, 6, 6, 5, 6, 5, 5, 6, 7, 5, 6, 6, 6, 6, 5, 6, 6, 6, 5, 6,\n",
       "       5, 6, 5, 5, 5, 6, 7, 6, 6, 6, 6, 6, 6, 6, 6, 6, 6, 5, 5, 6, 6, 5,\n",
       "       5, 6, 6, 6, 5, 5, 6, 5, 5, 5, 6, 6, 5, 6, 6, 5, 7, 6, 6, 5, 6, 5,\n",
       "       6, 5, 6, 6, 5, 5, 6, 6, 6, 5, 5, 5, 6, 6, 6, 5, 5, 6, 5, 5, 6, 5,\n",
       "       5, 5, 6, 5, 6, 5, 6, 6, 6, 5, 5, 6, 5, 5, 6, 6, 6, 6, 6, 7, 6, 5,\n",
       "       6, 6, 5, 5, 6, 6, 6, 6, 6], dtype=int64)"
      ]
     },
     "execution_count": 60,
     "metadata": {},
     "output_type": "execute_result"
    }
   ],
   "source": [
    "# prediction\n",
    "\n",
    "pred_r = model_r_w.predict(x_test)\n",
    "pred_r"
   ]
  },
  {
   "cell_type": "code",
   "execution_count": 61,
   "id": "c8ba4056",
   "metadata": {},
   "outputs": [
    {
     "data": {
      "text/plain": [
       "0.5634743875278396"
      ]
     },
     "execution_count": 61,
     "metadata": {},
     "output_type": "execute_result"
    }
   ],
   "source": [
    "#  accuracy\n",
    "\n",
    "accuracy_score(y_test, pred_r)"
   ]
  },
  {
   "cell_type": "markdown",
   "id": "6f8efdff",
   "metadata": {},
   "source": [
    "# bagging"
   ]
  },
  {
   "cell_type": "code",
   "execution_count": 64,
   "id": "860f0790",
   "metadata": {},
   "outputs": [],
   "source": [
    "from sklearn.svm import SVC\n",
    "from sklearn.ensemble import BaggingClassifier\n",
    "from sklearn.datasets import make_classification\n",
    "model_bagging_svc= BaggingClassifier(base_estimator=SVC(),n_estimators=50,random_state=0).fit(x_train,y_train)"
   ]
  },
  {
   "cell_type": "code",
   "execution_count": 65,
   "id": "dfe82f2d",
   "metadata": {},
   "outputs": [],
   "source": [
    "# predict\n",
    "\n",
    "y_pred_bagg= model_bagging_svc.predict(x_test)"
   ]
  },
  {
   "cell_type": "code",
   "execution_count": 66,
   "id": "eb45e801",
   "metadata": {},
   "outputs": [
    {
     "data": {
      "text/plain": [
       "0.4766146993318486"
      ]
     },
     "execution_count": 66,
     "metadata": {},
     "output_type": "execute_result"
    }
   ],
   "source": [
    "# accuracy\n",
    "\n",
    "accuracy_score(y_test,y_pred_bagg)"
   ]
  },
  {
   "cell_type": "code",
   "execution_count": 67,
   "id": "200e576d",
   "metadata": {},
   "outputs": [],
   "source": [
    "# svc is not good for this data"
   ]
  },
  {
   "cell_type": "code",
   "execution_count": null,
   "id": "2a35b183",
   "metadata": {},
   "outputs": [],
   "source": []
  },
  {
   "cell_type": "code",
   "execution_count": null,
   "id": "ecb36c28",
   "metadata": {},
   "outputs": [],
   "source": []
  },
  {
   "cell_type": "code",
   "execution_count": null,
   "id": "471bc763",
   "metadata": {},
   "outputs": [],
   "source": []
  },
  {
   "cell_type": "code",
   "execution_count": null,
   "id": "d2f8ac3c",
   "metadata": {},
   "outputs": [],
   "source": []
  },
  {
   "cell_type": "code",
   "execution_count": null,
   "id": "91b02c0b",
   "metadata": {},
   "outputs": [],
   "source": []
  }
 ],
 "metadata": {
  "kernelspec": {
   "display_name": "Python 3 (ipykernel)",
   "language": "python",
   "name": "python3"
  },
  "language_info": {
   "codemirror_mode": {
    "name": "ipython",
    "version": 3
   },
   "file_extension": ".py",
   "mimetype": "text/x-python",
   "name": "python",
   "nbconvert_exporter": "python",
   "pygments_lexer": "ipython3",
   "version": "3.9.12"
  }
 },
 "nbformat": 4,
 "nbformat_minor": 5
}
