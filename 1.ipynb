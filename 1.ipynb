{
 "cells": [
  {
   "cell_type": "code",
   "execution_count": null,
   "id": "915e07c3",
   "metadata": {},
   "outputs": [],
   "source": [
    " s = \" This is My First Programming class and i am leaRNING python strings and its functions\""
   ]
  },
  {
   "cell_type": "code",
   "execution_count": null,
   "id": "96c7c190",
   "metadata": {},
   "outputs": [],
   "source": [
    "s[::-1]"
   ]
  },
  {
   "cell_type": "code",
   "execution_count": null,
   "id": "a68c54fe",
   "metadata": {},
   "outputs": [],
   "source": [
    "s[0:300:3]"
   ]
  },
  {
   "cell_type": "code",
   "execution_count": null,
   "id": "5bc6d948",
   "metadata": {},
   "outputs": [],
   "source": [
    "s.upper()"
   ]
  },
  {
   "cell_type": "code",
   "execution_count": null,
   "id": "12554f96",
   "metadata": {},
   "outputs": [],
   "source": [
    "s.lower()"
   ]
  },
  {
   "cell_type": "code",
   "execution_count": null,
   "id": "b3e0a44e",
   "metadata": {},
   "outputs": [],
   "source": [
    "s.capitalize()"
   ]
  },
  {
   "cell_type": "code",
   "execution_count": null,
   "id": "83b75abd",
   "metadata": {},
   "outputs": [],
   "source": [
    "s1=s.upper()"
   ]
  },
  {
   "cell_type": "code",
   "execution_count": null,
   "id": "865c9b1f",
   "metadata": {},
   "outputs": [],
   "source": [
    "s1"
   ]
  },
  {
   "cell_type": "code",
   "execution_count": null,
   "id": "83312cf1",
   "metadata": {},
   "outputs": [],
   "source": [
    "s1.split(' ')"
   ]
  },
  {
   "cell_type": "code",
   "execution_count": null,
   "id": "8ec6ccda",
   "metadata": {},
   "outputs": [],
   "source": [
    "s.center(200,'h')"
   ]
  },
  {
   "cell_type": "code",
   "execution_count": null,
   "id": "7f697545",
   "metadata": {},
   "outputs": [],
   "source": [
    "s.index('T')"
   ]
  },
  {
   "cell_type": "code",
   "execution_count": null,
   "id": "f2fb4ad4",
   "metadata": {},
   "outputs": [],
   "source": [
    "l= [2,23,'rehan',345.567,'ahmed']"
   ]
  },
  {
   "cell_type": "code",
   "execution_count": null,
   "id": "2ee46dd2",
   "metadata": {},
   "outputs": [],
   "source": [
    "l"
   ]
  },
  {
   "cell_type": "code",
   "execution_count": null,
   "id": "9d496c6a",
   "metadata": {},
   "outputs": [],
   "source": [
    "l[3]"
   ]
  },
  {
   "cell_type": "code",
   "execution_count": null,
   "id": "84b5a563",
   "metadata": {},
   "outputs": [],
   "source": [
    "l[3]='ahmad'"
   ]
  },
  {
   "cell_type": "code",
   "execution_count": null,
   "id": "1202c17b",
   "metadata": {},
   "outputs": [],
   "source": [
    "l"
   ]
  },
  {
   "cell_type": "code",
   "execution_count": null,
   "id": "8a1d7bdb",
   "metadata": {},
   "outputs": [],
   "source": [
    "l.append('work')"
   ]
  },
  {
   "cell_type": "code",
   "execution_count": null,
   "id": "39215739",
   "metadata": {},
   "outputs": [],
   "source": [
    "l"
   ]
  },
  {
   "cell_type": "code",
   "execution_count": null,
   "id": "eab6d8ac",
   "metadata": {},
   "outputs": [],
   "source": [
    "l.insert(1,23)"
   ]
  },
  {
   "cell_type": "code",
   "execution_count": null,
   "id": "14bdac81",
   "metadata": {},
   "outputs": [],
   "source": [
    "l"
   ]
  },
  {
   "cell_type": "code",
   "execution_count": null,
   "id": "05dfffcf",
   "metadata": {},
   "outputs": [],
   "source": [
    "t = (2,3,4,5,6,'rehan')"
   ]
  },
  {
   "cell_type": "code",
   "execution_count": null,
   "id": "61c9b426",
   "metadata": {},
   "outputs": [],
   "source": [
    "t"
   ]
  },
  {
   "cell_type": "code",
   "execution_count": null,
   "id": "a4c3caa3",
   "metadata": {},
   "outputs": [],
   "source": [
    "t[3]"
   ]
  },
  {
   "cell_type": "code",
   "execution_count": null,
   "id": "31a97505",
   "metadata": {},
   "outputs": [],
   "source": [
    "l"
   ]
  },
  {
   "cell_type": "code",
   "execution_count": null,
   "id": "3f3fa18d",
   "metadata": {},
   "outputs": [],
   "source": [
    "l.append('jai')"
   ]
  },
  {
   "cell_type": "code",
   "execution_count": null,
   "id": "cbb18578",
   "metadata": {},
   "outputs": [],
   "source": [
    "l"
   ]
  },
  {
   "cell_type": "code",
   "execution_count": null,
   "id": "51e55b14",
   "metadata": {},
   "outputs": [],
   "source": [
    "d = {1:'ahmad',2:'logic',3:'work',4:'gyan',5:[1,2,3,4,5,5,6]}"
   ]
  },
  {
   "cell_type": "code",
   "execution_count": null,
   "id": "f08ffc15",
   "metadata": {},
   "outputs": [],
   "source": [
    "type(d)"
   ]
  },
  {
   "cell_type": "code",
   "execution_count": null,
   "id": "e2ef88aa",
   "metadata": {},
   "outputs": [],
   "source": [
    "d[4]"
   ]
  },
  {
   "cell_type": "code",
   "execution_count": null,
   "id": "ff5eb623",
   "metadata": {},
   "outputs": [],
   "source": [
    "d[5]"
   ]
  },
  {
   "cell_type": "code",
   "execution_count": null,
   "id": "a0bada70",
   "metadata": {},
   "outputs": [],
   "source": [
    "d1={1:'ahmad',2:'logic',3:'work',4:'gyan',5:{'a':'apple','b':'ball','c':'cat'}}"
   ]
  },
  {
   "cell_type": "code",
   "execution_count": null,
   "id": "9c9b6072",
   "metadata": {},
   "outputs": [],
   "source": [
    "d1[5][b]"
   ]
  },
  {
   "cell_type": "code",
   "execution_count": null,
   "id": "157897a7",
   "metadata": {},
   "outputs": [],
   "source": [
    "a= {1:'ahmad',2:'logic',3:'work',4:'gyan',5:{'work':'apple','bat':'ball','call':'cat'}}"
   ]
  },
  {
   "cell_type": "code",
   "execution_count": null,
   "id": "cb0a879c",
   "metadata": {},
   "outputs": [],
   "source": [
    "a[5]['call']"
   ]
  },
  {
   "cell_type": "code",
   "execution_count": null,
   "id": "9034bb2b",
   "metadata": {},
   "outputs": [],
   "source": [
    "d1[5]['c']"
   ]
  },
  {
   "cell_type": "code",
   "execution_count": null,
   "id": "52e8c26f",
   "metadata": {},
   "outputs": [],
   "source": [
    "a.items()"
   ]
  },
  {
   "cell_type": "code",
   "execution_count": null,
   "id": "3b104ede",
   "metadata": {},
   "outputs": [],
   "source": [
    "a.keys()"
   ]
  },
  {
   "cell_type": "code",
   "execution_count": null,
   "id": "3aebea3e",
   "metadata": {},
   "outputs": [],
   "source": [
    "a.values()"
   ]
  },
  {
   "cell_type": "code",
   "execution_count": null,
   "id": "988540a6",
   "metadata": {},
   "outputs": [],
   "source": [
    "la= l+[12,23,34]"
   ]
  },
  {
   "cell_type": "code",
   "execution_count": null,
   "id": "79a3cc0e",
   "metadata": {},
   "outputs": [],
   "source": [
    "la"
   ]
  },
  {
   "cell_type": "code",
   "execution_count": null,
   "id": "04170e39",
   "metadata": {},
   "outputs": [],
   "source": [
    "s={1,1,2,3,4,5,6,7,7,7,8,8,1,9,10}"
   ]
  },
  {
   "cell_type": "code",
   "execution_count": null,
   "id": "6a9f3408",
   "metadata": {},
   "outputs": [],
   "source": [
    "s"
   ]
  },
  {
   "cell_type": "code",
   "execution_count": null,
   "id": "9b4dabbb",
   "metadata": {},
   "outputs": [],
   "source": [
    "s1= {2,3,4,5,6,7,8,9,1,2}"
   ]
  },
  {
   "cell_type": "code",
   "execution_count": null,
   "id": "bc6ee810",
   "metadata": {},
   "outputs": [],
   "source": [
    "s1"
   ]
  },
  {
   "cell_type": "code",
   "execution_count": null,
   "id": "760f619a",
   "metadata": {},
   "outputs": [],
   "source": [
    "c = [3,4,5,6,7],[23,456,67,8,78,78],[345,56,87,8,98,9],(234,6657,6),{'key1':'sudh',234:[23,45,656]}"
   ]
  },
  {
   "cell_type": "code",
   "execution_count": null,
   "id": "374e1774",
   "metadata": {},
   "outputs": [],
   "source": [
    "c"
   ]
  },
  {
   "cell_type": "code",
   "execution_count": null,
   "id": "ceab6b50",
   "metadata": {},
   "outputs": [],
   "source": [
    "c[::-1]"
   ]
  },
  {
   "cell_type": "code",
   "execution_count": null,
   "id": "2d79f604",
   "metadata": {},
   "outputs": [],
   "source": [
    "c[3][0]"
   ]
  },
  {
   "cell_type": "code",
   "execution_count": null,
   "id": "bac6f6b9",
   "metadata": {},
   "outputs": [],
   "source": [
    "c[1][1]"
   ]
  },
  {
   "cell_type": "code",
   "execution_count": null,
   "id": "51704a33",
   "metadata": {},
   "outputs": [],
   "source": [
    "c"
   ]
  },
  {
   "cell_type": "code",
   "execution_count": null,
   "id": "1efc9302",
   "metadata": {},
   "outputs": [],
   "source": [
    "c[4]['key1']"
   ]
  },
  {
   "cell_type": "code",
   "execution_count": null,
   "id": "467ea81d",
   "metadata": {},
   "outputs": [],
   "source": [
    "a =10\n",
    "if a==11:\n",
    "    print('this is my frrst condition')\n",
    "else:\n",
    "    print('check the value ')\n",
    "    "
   ]
  },
  {
   "cell_type": "code",
   "execution_count": null,
   "id": "5ebdf711",
   "metadata": {},
   "outputs": [],
   "source": [
    "Name= input('enter the name')\n",
    "claas= int(input('enter the claas'))\n",
    "roll= int(input('enter the roll'))\n",
    "print(\"your name is\",Name)"
   ]
  },
  {
   "cell_type": "code",
   "execution_count": null,
   "id": "14ceb5cc",
   "metadata": {},
   "outputs": [],
   "source": [
    "price = 500\n",
    "if price > 500:\n",
    "    print(\"may be i wont be able to buy jacket\")\n",
    "elif price <500:\n",
    "    print(\"i wll be able to buy a jacket\")\n",
    "elif price==500:\n",
    "    print('i can buy')\n",
    "else:\n",
    "    print('i dont know')"
   ]
  },
  {
   "cell_type": "code",
   "execution_count": null,
   "id": "daa3d6ac",
   "metadata": {},
   "outputs": [],
   "source": [
    "l=[2,4,6,8,10]\n",
    "if 3 in l:\n",
    "    print('yes')\n",
    "else:\n",
    "    print('not found')"
   ]
  },
  {
   "cell_type": "code",
   "execution_count": null,
   "id": "fa353217",
   "metadata": {},
   "outputs": [],
   "source": [
    "marks= int(input('enter the marks'))\n",
    "if marks>600:\n",
    "    print(\"congratulatios for gre\")\n",
    "if marks<600:\n",
    "    print('so sad not eligible for gre')\n",
    "if marks<500:\n",
    "    print('go for toffel')\n",
    "if marks<400:\n",
    "    print('try something else')"
   ]
  },
  {
   "cell_type": "code",
   "execution_count": null,
   "id": "a5d16f33",
   "metadata": {},
   "outputs": [],
   "source": [
    "l= [1,2,3,4,5,'sudh',234.45]"
   ]
  },
  {
   "cell_type": "code",
   "execution_count": null,
   "id": "091ed1dc",
   "metadata": {},
   "outputs": [],
   "source": [
    "for i in l:\n",
    "    print(i*2)"
   ]
  },
  {
   "cell_type": "code",
   "execution_count": null,
   "id": "1cbed42c",
   "metadata": {},
   "outputs": [],
   "source": [
    "l"
   ]
  },
  {
   "cell_type": "code",
   "execution_count": null,
   "id": "ebee5782",
   "metadata": {},
   "outputs": [],
   "source": [
    "for j in l:\n",
    "    if type(j)==int or type(j)==float:\n",
    "        print(j+1)\n",
    "    elif type(j)==str:\n",
    "        print(j + str(1))\n",
    "        print(j.append(j))"
   ]
  },
  {
   "cell_type": "code",
   "execution_count": null,
   "id": "9d3edc79",
   "metadata": {},
   "outputs": [],
   "source": [
    "l1=[]\n",
    "for i in l:\n",
    "    if type(i)==int:\n",
    "        l1.append(i)\n",
    "print(l1)"
   ]
  },
  {
   "cell_type": "code",
   "execution_count": null,
   "id": "9b85abc2",
   "metadata": {},
   "outputs": [],
   "source": [
    "l1.append([2,5,7,9])"
   ]
  },
  {
   "cell_type": "code",
   "execution_count": null,
   "id": "b2b1a492",
   "metadata": {},
   "outputs": [],
   "source": [
    "l1"
   ]
  },
  {
   "cell_type": "code",
   "execution_count": null,
   "id": "03cdf031",
   "metadata": {},
   "outputs": [],
   "source": [
    "dist= int(input('enter the distance'))\n",
    "if dist>500:\n",
    "    print('will not go')\n",
    "elif dist<500:\n",
    "    print('will go')\n",
    "    if dist<450:\n",
    "        print('use car')\n",
    "    else:\n",
    "        print('by train')"
   ]
  },
  {
   "cell_type": "code",
   "execution_count": null,
   "id": "8698f14a",
   "metadata": {},
   "outputs": [],
   "source": [
    "mine=input('enter the reply')\n",
    "if mine=='yes' or mine=='will see':\n",
    "    print('congratulations u r mine')\n",
    "elif mine=='no':\n",
    "    print('try to convince')\n",
    "else:\n",
    "    print('allah kareem')"
   ]
  },
  {
   "cell_type": "code",
   "execution_count": null,
   "id": "fb887b82",
   "metadata": {},
   "outputs": [],
   "source": [
    "l = ['azhar','anwar','munna','sabir','tara','shazi','saba','yumnah']"
   ]
  },
  {
   "cell_type": "code",
   "execution_count": null,
   "id": "120af8e1",
   "metadata": {},
   "outputs": [],
   "source": [
    "'azhar' in l"
   ]
  },
  {
   "cell_type": "code",
   "execution_count": null,
   "id": "5fada76e",
   "metadata": {},
   "outputs": [],
   "source": [
    "'safiha' in l"
   ]
  },
  {
   "cell_type": "code",
   "execution_count": null,
   "id": "21cc47da",
   "metadata": {},
   "outputs": [],
   "source": [
    "name=input('your name please')\n",
    "sex=input('enter your sex')\n",
    "age=int(input('enter your age'))\n",
    "qualification=input('enter your highest qualification')\n",
    "\n",
    "if age<18:\n",
    "    print('you are minor, come with parents')\n",
    "elif age>18:\n",
    "    print('you are adult, can apply')\n",
    "    if sex=='male':\n",
    "        print('u will get night shift only')\n",
    "    else:\n",
    "        print('you will not get night shift')\n",
    "if qualification=='graduate':\n",
    "    print('too high for this post')\n",
    "else:\n",
    "    print('selected for interview')"
   ]
  },
  {
   "cell_type": "code",
   "execution_count": null,
   "id": "29cf831e",
   "metadata": {},
   "outputs": [],
   "source": [
    "name = input('enter you name ')\n",
    "Acnt = int(input('enter your account num '))\n",
    "loan_amount = int(input('enter the required loan amount '))\n",
    "criminal_record = input('do you have any criminal case? ')\n",
    "\n",
    "if Acnt=='saving' or Acnt=='current':\n",
    "    print('you can apply for loan')\n",
    "elif loan_amount> 500000:\n",
    "    print('Need to give some security like property or witness')\n",
    "else:\n",
    "    print('no need of security')\n",
    "    if criminal_record =='yes':\n",
    "        print('we can not provide you the loan')\n",
    "    else:\n",
    "        print('u wll get loan')"
   ]
  },
  {
   "cell_type": "code",
   "execution_count": null,
   "id": "a7ed3c60",
   "metadata": {},
   "outputs": [],
   "source": [
    "l= [2,4,6,8,10]"
   ]
  },
  {
   "cell_type": "code",
   "execution_count": null,
   "id": "ef559088",
   "metadata": {},
   "outputs": [],
   "source": [
    "l1=[]\n",
    "for i in l:\n",
    "    if type(i)==int:\n",
    "        l1.append(i*2)\n",
    "l1"
   ]
  },
  {
   "cell_type": "code",
   "execution_count": null,
   "id": "c9633580",
   "metadata": {},
   "outputs": [],
   "source": [
    "s = 'sudh'\n",
    "for i in s:\n",
    "    if i==\"h\":\n",
    "        break\n",
    "    print(i)"
   ]
  },
  {
   "cell_type": "code",
   "execution_count": null,
   "id": "fe7c8da8",
   "metadata": {},
   "outputs": [],
   "source": [
    "l"
   ]
  },
  {
   "cell_type": "code",
   "execution_count": null,
   "id": "24c3f502",
   "metadata": {},
   "outputs": [],
   "source": [
    "for i in l:\n",
    "    if i==8:\n",
    "        break\n",
    "    print(i)\n",
    "else:\n",
    "    print('loop breaks itself')"
   ]
  },
  {
   "cell_type": "code",
   "execution_count": null,
   "id": "2843ef20",
   "metadata": {},
   "outputs": [],
   "source": [
    "for i in l:\n",
    "    if i==8:\n",
    "        print(i)\n",
    "else:\n",
    "    print('loop breaks itself')"
   ]
  },
  {
   "cell_type": "code",
   "execution_count": null,
   "id": "131940aa",
   "metadata": {},
   "outputs": [],
   "source": [
    "n = 4\n",
    "for i in range(n):\n",
    "    for j in range(0,i+1):\n",
    "        print(\"sudh\", end= \" \")\n",
    "    print(\"\\n\")"
   ]
  },
  {
   "cell_type": "code",
   "execution_count": null,
   "id": "36804788",
   "metadata": {},
   "outputs": [],
   "source": [
    "t = 6\n",
    "for i in range(t):\n",
    "    for k in range(0,i+1):\n",
    "        print(\"*\", end=\" \")\n",
    "    print(\"\\n\")"
   ]
  },
  {
   "cell_type": "code",
   "execution_count": null,
   "id": "e757785c",
   "metadata": {},
   "outputs": [],
   "source": [
    "t = 4\n",
    "for i in range(4):\n",
    "    for k in range(i,t+1):\n",
    "        print(\"sudh\", end=\" \")\n",
    "    print(\"\\n\")"
   ]
  },
  {
   "cell_type": "code",
   "execution_count": null,
   "id": "cb37efa5",
   "metadata": {},
   "outputs": [],
   "source": [
    "t= (2,23,45,67,2,4,5,6,2)"
   ]
  },
  {
   "cell_type": "code",
   "execution_count": null,
   "id": "44f6923e",
   "metadata": {},
   "outputs": [],
   "source": [
    "for i in t:\n",
    "    print(t.index(i),\":\", i)\n",
    "# its wrong"
   ]
  },
  {
   "cell_type": "code",
   "execution_count": null,
   "id": "a733b0be",
   "metadata": {},
   "outputs": [],
   "source": [
    "for i in range(len(t)):\n",
    "    print(i,t[i])"
   ]
  },
  {
   "cell_type": "code",
   "execution_count": null,
   "id": "b004ada6",
   "metadata": {},
   "outputs": [],
   "source": [
    "s = \"ineuron\"\n",
    "for i in range(len(s)):\n",
    "    print(i,s[i])"
   ]
  },
  {
   "cell_type": "code",
   "execution_count": null,
   "id": "447bdb3e",
   "metadata": {},
   "outputs": [],
   "source": [
    "for i in s:\n",
    "    print(s.index(i),\":\",i)\n",
    "# its wrong"
   ]
  },
  {
   "cell_type": "code",
   "execution_count": null,
   "id": "00c7e418",
   "metadata": {},
   "outputs": [],
   "source": [
    "s = \"ineuron\"\n",
    "for i in range(len(s)-1,-1,-1):\n",
    "    print(i,s[i])"
   ]
  },
  {
   "cell_type": "code",
   "execution_count": null,
   "id": "514f89ea",
   "metadata": {},
   "outputs": [],
   "source": [
    "d= {'key1':'sudh','contact':'sudhanshu@ineuron.com','position':'xyz'}"
   ]
  },
  {
   "cell_type": "code",
   "execution_count": null,
   "id": "cafbb316",
   "metadata": {},
   "outputs": [],
   "source": [
    "d"
   ]
  },
  {
   "cell_type": "code",
   "execution_count": null,
   "id": "7fb2a3ae",
   "metadata": {},
   "outputs": [],
   "source": [
    "for i in d.items():\n",
    "    print(i, type(i),type(i[1]))"
   ]
  },
  {
   "cell_type": "code",
   "execution_count": null,
   "id": "d99ee517",
   "metadata": {},
   "outputs": [],
   "source": [
    "l"
   ]
  },
  {
   "cell_type": "code",
   "execution_count": null,
   "id": "45ff45af",
   "metadata": {},
   "outputs": [],
   "source": [
    "l1 = ['sudh','kumar',3234356,'suhanshu@ineuron.ai',345,25478]"
   ]
  },
  {
   "cell_type": "code",
   "execution_count": null,
   "id": "2be0891f",
   "metadata": {},
   "outputs": [],
   "source": [
    "l2=[]\n",
    "for i in l1:\n",
    "    if type(i)==int:\n",
    "        l2.append(i)\n",
    "l2"
   ]
  },
  {
   "cell_type": "code",
   "execution_count": null,
   "id": "52724933",
   "metadata": {},
   "outputs": [],
   "source": [
    "d={1:3354, 'name':'sudh','email':'sudh@ineuron',234:'fsds',\"43\":\"sfas\",234:\"3454\"}"
   ]
  },
  {
   "cell_type": "code",
   "execution_count": null,
   "id": "b977d7c7",
   "metadata": {},
   "outputs": [],
   "source": [
    "for i in d:\n",
    "    if type(i)==int:\n",
    "        print(i,\";\",d[i])"
   ]
  },
  {
   "cell_type": "code",
   "execution_count": null,
   "id": "7aa02f9c",
   "metadata": {},
   "outputs": [],
   "source": [
    "s = 'aaaabbccd'"
   ]
  },
  {
   "cell_type": "code",
   "execution_count": null,
   "id": "321ac264",
   "metadata": {},
   "outputs": [],
   "source": [
    "for i in set(s):\n",
    "    print(s.count(i),i)"
   ]
  },
  {
   "cell_type": "code",
   "execution_count": null,
   "id": "ad14bfa3",
   "metadata": {},
   "outputs": [],
   "source": [
    "r = 'thisismynameandicanchangewheniwanttodo'"
   ]
  },
  {
   "cell_type": "code",
   "execution_count": null,
   "id": "526e24f6",
   "metadata": {},
   "outputs": [],
   "source": [
    "for t in set(r):\n",
    "    print(t,\":\",r.count(t))"
   ]
  },
  {
   "cell_type": "code",
   "execution_count": null,
   "id": "f8899d0d",
   "metadata": {},
   "outputs": [],
   "source": [
    "i = 3454545454\n"
   ]
  },
  {
   "cell_type": "code",
   "execution_count": null,
   "id": "8878c183",
   "metadata": {},
   "outputs": [],
   "source": [
    "for f in str(i):\n",
    "    print(f)"
   ]
  },
  {
   "cell_type": "code",
   "execution_count": null,
   "id": "48352f28",
   "metadata": {},
   "outputs": [],
   "source": [
    "t = ('sudh','kumar',[1,2,3,4,5],(3,4,5,6),{3:3,'k2':'kumar'})"
   ]
  },
  {
   "cell_type": "code",
   "execution_count": null,
   "id": "0b5ca644",
   "metadata": {},
   "outputs": [],
   "source": [
    "for i in t:\n",
    "    if type(i)==list or type(i)==tuple:\n",
    "        for j in i:\n",
    "            if j==3:\n",
    "                print(j)\n",
    "    if type(i)==dict:\n",
    "        for k,c in i.items():\n",
    "            if k==3 or c==3:\n",
    "                print(k)\n",
    "                print(c)"
   ]
  },
  {
   "cell_type": "code",
   "execution_count": null,
   "id": "6f93006e",
   "metadata": {},
   "outputs": [],
   "source": [
    "n = 4 \n",
    "for i in range(4):\n",
    "    for j in range(0,i+1):\n",
    "        print('Ineuron',end=\" \")\n",
    "    print(\"\\n\")"
   ]
  },
  {
   "cell_type": "code",
   "execution_count": null,
   "id": "7516518a",
   "metadata": {},
   "outputs": [],
   "source": [
    "l= [[1,2,3,4],(2,3,4,5,6),(3,4,5,6,7),set([23,4,5,45,4,4,5,45,4,5]),{'k1':'sudh','k2':'ineuron','k3':'kumar',3:6,7:8},[\"ineuron\",\"data science\"]]"
   ]
  },
  {
   "cell_type": "code",
   "execution_count": null,
   "id": "3fbc532c",
   "metadata": {},
   "outputs": [],
   "source": [
    "l"
   ]
  },
  {
   "cell_type": "code",
   "execution_count": null,
   "id": "6f0d9579",
   "metadata": {},
   "outputs": [],
   "source": [
    "for i in l:\n",
    "    if type(i)==list:\n",
    "        print(i)"
   ]
  },
  {
   "cell_type": "code",
   "execution_count": null,
   "id": "e4b63248",
   "metadata": {},
   "outputs": [],
   "source": [
    "for i in l:\n",
    "    if type(i)==dict:\n",
    "        print(i)"
   ]
  },
  {
   "cell_type": "code",
   "execution_count": null,
   "id": "a052bee0",
   "metadata": {},
   "outputs": [],
   "source": [
    "for i in l:\n",
    "    if type(i)==tuple:\n",
    "        print(i)"
   ]
  },
  {
   "cell_type": "code",
   "execution_count": null,
   "id": "945d53a7",
   "metadata": {},
   "outputs": [],
   "source": [
    "for i in l:\n",
    "    if type(i)==list or type(i)==tuple or type(i)==set:\n",
    "        for j in i:\n",
    "            if type(j)==int:\n",
    "                print(j)\n",
    "    if type(i)==dict:\n",
    "        for k,v in i.items():\n",
    "            if type(k)==int and type(v)==int:\n",
    "                    print(k)\n",
    "                    print(v)\n",
    "    "
   ]
  },
  {
   "cell_type": "code",
   "execution_count": null,
   "id": "5937be7e",
   "metadata": {},
   "outputs": [],
   "source": [
    "for i in l:\n",
    "    if type(i)==list:\n",
    "        for j in i:\n",
    "            if j%2==1:\n",
    "                print(j)"
   ]
  },
  {
   "cell_type": "code",
   "execution_count": null,
   "id": "288d0345",
   "metadata": {},
   "outputs": [],
   "source": [
    "for i in l:\n",
    "    if type(i)==list:\n",
    "        if i%2!=0:\n",
    "            print(j)"
   ]
  },
  {
   "cell_type": "code",
   "execution_count": null,
   "id": "0ce1a858",
   "metadata": {},
   "outputs": [],
   "source": [
    "l"
   ]
  },
  {
   "cell_type": "code",
   "execution_count": null,
   "id": "bb1d1846",
   "metadata": {},
   "outputs": [],
   "source": [
    "for i in l:\n",
    "    if type(i)==list or type(i)==tuple or type(i)==set:\n",
    "        for j in i:\n",
    "            if j==\"ineuron\":\n",
    "                print(j)\n",
    "    if type(i)==dict:\n",
    "        for k,v in i.items():\n",
    "            if k==\"ineuron\" or v==\"ineuron\":\n",
    "                print(k)\n",
    "                print(v)\n",
    "            "
   ]
  },
  {
   "cell_type": "code",
   "execution_count": null,
   "id": "87d75c3c",
   "metadata": {},
   "outputs": [],
   "source": [
    "a= 1\n",
    "b = 10\n",
    "while a<=b:\n",
    "    print(a)\n",
    "    a= a+1"
   ]
  },
  {
   "cell_type": "code",
   "execution_count": null,
   "id": "f3f4b6ae",
   "metadata": {},
   "outputs": [],
   "source": [
    "while a<=b:\n",
    "    print(a)\n",
    "    a=a+1"
   ]
  },
  {
   "cell_type": "code",
   "execution_count": null,
   "id": "a7fbdf2f",
   "metadata": {},
   "outputs": [],
   "source": [
    "a=1\n",
    "b=10\n",
    "while a<=b:\n",
    "    print(a)\n",
    "    if a==5:\n",
    "        break\n",
    "    a=a+2\n",
    "else:\n",
    "    print('this is else block')"
   ]
  },
  {
   "cell_type": "code",
   "execution_count": null,
   "id": "db22faa2",
   "metadata": {},
   "outputs": [],
   "source": [
    "a=1\n",
    "b=10\n",
    "while a<b:\n",
    "    a=a+1\n",
    "    if a==5:\n",
    "        continue\n",
    "    print(a)"
   ]
  },
  {
   "cell_type": "code",
   "execution_count": null,
   "id": "12d962fa",
   "metadata": {},
   "outputs": [],
   "source": [
    "l= [1,2,3,4,65,56]"
   ]
  },
  {
   "cell_type": "code",
   "execution_count": null,
   "id": "b3504302",
   "metadata": {},
   "outputs": [],
   "source": [
    "a=0\n",
    "while a<len(l):\n",
    "    print(l[a])\n",
    "    a= a+1"
   ]
  },
  {
   "cell_type": "code",
   "execution_count": null,
   "id": "6de8fcba",
   "metadata": {},
   "outputs": [],
   "source": [
    "t = (3,4,5,6,7,8,9)"
   ]
  },
  {
   "cell_type": "code",
   "execution_count": null,
   "id": "d08af42e",
   "metadata": {},
   "outputs": [],
   "source": [
    "z=0\n",
    "while z<len(t):\n",
    "    if t[z]==6 or t[z]==7:\n",
    "        print(z)\n",
    "    z=z+1"
   ]
  },
  {
   "cell_type": "code",
   "execution_count": null,
   "id": "ef733e6d",
   "metadata": {},
   "outputs": [],
   "source": [
    "l = [2,4,6,8,1,3,5,7]\n"
   ]
  },
  {
   "cell_type": "code",
   "execution_count": null,
   "id": "04747c62",
   "metadata": {},
   "outputs": [],
   "source": [
    "c= []\n",
    "a=0\n",
    "while a<len(l):\n",
    "    if l[a]%2!=0:\n",
    "        print(a)\n",
    "    a=a+1"
   ]
  },
  {
   "cell_type": "code",
   "execution_count": null,
   "id": "e9e546e2",
   "metadata": {},
   "outputs": [],
   "source": [
    "z=0\n",
    "while z>-len(t):\n",
    "    if t[z]==6 or t[z]==7:\n",
    "        print(z)\n",
    "    z=z-1"
   ]
  },
  {
   "cell_type": "code",
   "execution_count": null,
   "id": "9ac84fad",
   "metadata": {},
   "outputs": [],
   "source": [
    "a=-1\n",
    "while a>-len(t):\n",
    "    if t[a]==6 or t[a]==7:\n",
    "        print(a)\n",
    "    a=a-1"
   ]
  },
  {
   "cell_type": "code",
   "execution_count": null,
   "id": "7c901229",
   "metadata": {},
   "outputs": [],
   "source": [
    "d ={'k1':'sudh', 'k2':[1,2,3,4], 'k3':(2,3,4,5)}"
   ]
  },
  {
   "cell_type": "code",
   "execution_count": null,
   "id": "928c0aee",
   "metadata": {},
   "outputs": [],
   "source": [
    "a=0\n",
    "while a<len(d):\n",
    "    for k,v in d.items():\n",
    "        print(v)\n",
    "        a=a+1\n",
    "        \n",
    "    "
   ]
  },
  {
   "cell_type": "markdown",
   "id": "cc7c7786",
   "metadata": {},
   "source": [
    "# functions"
   ]
  },
  {
   "cell_type": "code",
   "execution_count": null,
   "id": "b4a04be8",
   "metadata": {},
   "outputs": [],
   "source": [
    "def add():\n",
    "    print('print this is my name')"
   ]
  },
  {
   "cell_type": "code",
   "execution_count": null,
   "id": "0334f952",
   "metadata": {},
   "outputs": [],
   "source": [
    "def mul():\n",
    "    return 'this is my name'"
   ]
  },
  {
   "cell_type": "code",
   "execution_count": null,
   "id": "1e830a8b",
   "metadata": {},
   "outputs": [],
   "source": [
    "mul()"
   ]
  },
  {
   "cell_type": "code",
   "execution_count": null,
   "id": "c7a3c7c0",
   "metadata": {},
   "outputs": [],
   "source": [
    "type(mul())"
   ]
  },
  {
   "cell_type": "code",
   "execution_count": null,
   "id": "7451f2d0",
   "metadata": {},
   "outputs": [],
   "source": [
    "mul() + 'rehan'"
   ]
  },
  {
   "cell_type": "code",
   "execution_count": null,
   "id": "108b6776",
   "metadata": {},
   "outputs": [],
   "source": [
    "def test3():\n",
    "    return 1,2,3,4,[1,2,3,4,54,5]\n",
    "    "
   ]
  },
  {
   "cell_type": "code",
   "execution_count": null,
   "id": "cc218317",
   "metadata": {},
   "outputs": [],
   "source": [
    "test3()"
   ]
  },
  {
   "cell_type": "code",
   "execution_count": null,
   "id": "a78003fa",
   "metadata": {},
   "outputs": [],
   "source": [
    "a,b,c,d,e=test3()"
   ]
  },
  {
   "cell_type": "code",
   "execution_count": null,
   "id": "bd8b8751",
   "metadata": {},
   "outputs": [],
   "source": [
    "a"
   ]
  },
  {
   "cell_type": "code",
   "execution_count": null,
   "id": "925d5aff",
   "metadata": {},
   "outputs": [],
   "source": [
    "d"
   ]
  },
  {
   "cell_type": "code",
   "execution_count": null,
   "id": "b4e8e2f4",
   "metadata": {},
   "outputs": [],
   "source": [
    "e"
   ]
  },
  {
   "cell_type": "code",
   "execution_count": null,
   "id": "556bf184",
   "metadata": {},
   "outputs": [],
   "source": [
    "def test4():\n",
    "    a=5*8\n",
    "    b=4*5\n",
    "    return a,b"
   ]
  },
  {
   "cell_type": "code",
   "execution_count": null,
   "id": "e965e672",
   "metadata": {},
   "outputs": [],
   "source": [
    "test4()"
   ]
  },
  {
   "cell_type": "code",
   "execution_count": null,
   "id": "b06dfd3e",
   "metadata": {},
   "outputs": [],
   "source": [
    "def t():\n",
    "    while a<len(d):\n",
    "        for k,v in d.items():\n",
    "            print(v)\n",
    "            a=0\n",
    "            a=a+1"
   ]
  },
  {
   "cell_type": "code",
   "execution_count": null,
   "id": "f5eb7413",
   "metadata": {},
   "outputs": [],
   "source": [
    "t()"
   ]
  },
  {
   "cell_type": "code",
   "execution_count": null,
   "id": "b6302697",
   "metadata": {},
   "outputs": [],
   "source": [
    "def dic():\n",
    "    a=0\n",
    "    while a<=len(d):\n",
    "        for k,v in d.items():\n",
    "            print(v)\n",
    "        a=a+1\n",
    "        "
   ]
  },
  {
   "cell_type": "code",
   "execution_count": null,
   "id": "c9ea16da",
   "metadata": {},
   "outputs": [],
   "source": [
    "dic()"
   ]
  },
  {
   "cell_type": "code",
   "execution_count": null,
   "id": "21d56cb0",
   "metadata": {},
   "outputs": [],
   "source": [
    "def f():\n",
    "    z=0\n",
    "    while z<len(t):\n",
    "        if t[z]==6 or t[z]==7:\n",
    "            print(z)\n",
    "            z=z+1"
   ]
  },
  {
   "cell_type": "code",
   "execution_count": null,
   "id": "5b4d635a",
   "metadata": {},
   "outputs": [],
   "source": [
    "f()"
   ]
  },
  {
   "cell_type": "code",
   "execution_count": null,
   "id": "3eeaae65",
   "metadata": {},
   "outputs": [],
   "source": [
    "def w(a,b):\n",
    "    return a*b"
   ]
  },
  {
   "cell_type": "code",
   "execution_count": null,
   "id": "05efd658",
   "metadata": {},
   "outputs": [],
   "source": [
    "w(4,5)"
   ]
  },
  {
   "cell_type": "code",
   "execution_count": null,
   "id": "fb0dc622",
   "metadata": {},
   "outputs": [],
   "source": [
    "def sq(a):\n",
    "    return a*a"
   ]
  },
  {
   "cell_type": "code",
   "execution_count": null,
   "id": "cfd2bab8",
   "metadata": {},
   "outputs": [],
   "source": [
    "sq(10)"
   ]
  },
  {
   "cell_type": "code",
   "execution_count": null,
   "id": "ca1feb2e",
   "metadata": {},
   "outputs": [],
   "source": [
    "def even(a):\n",
    "    return a//10\n"
   ]
  },
  {
   "cell_type": "code",
   "execution_count": null,
   "id": "bee0aa46",
   "metadata": {},
   "outputs": [],
   "source": [
    "even(20)"
   ]
  },
  {
   "cell_type": "code",
   "execution_count": null,
   "id": "f44bea5e",
   "metadata": {},
   "outputs": [],
   "source": [
    "l= [4,5,6,67,8,8,9,9,9,[3,4,5,6,7,7],\"sudh\"]"
   ]
  },
  {
   "cell_type": "code",
   "execution_count": null,
   "id": "b78c40ad",
   "metadata": {},
   "outputs": [],
   "source": [
    "def la(l):\n",
    "    l2 = []\n",
    "    for i in l:\n",
    "        if type(i)==int:\n",
    "            l2.append(i)\n",
    "    return l2"
   ]
  },
  {
   "cell_type": "code",
   "execution_count": null,
   "id": "21ca59cb",
   "metadata": {},
   "outputs": [],
   "source": [
    "la(l)"
   ]
  },
  {
   "cell_type": "code",
   "execution_count": null,
   "id": "e0f22ad9",
   "metadata": {},
   "outputs": [],
   "source": [
    "l3= [234,567,3,4,6,\"rehan\",(3,2,3)]"
   ]
  },
  {
   "cell_type": "code",
   "execution_count": null,
   "id": "180b26ed",
   "metadata": {},
   "outputs": [],
   "source": [
    "la(l3)"
   ]
  },
  {
   "cell_type": "code",
   "execution_count": null,
   "id": "f72865f8",
   "metadata": {},
   "outputs": [],
   "source": [
    "def test(a,b):\n",
    "    '''addition function'''\n",
    "    return a+b"
   ]
  },
  {
   "cell_type": "code",
   "execution_count": null,
   "id": "deb880b2",
   "metadata": {},
   "outputs": [],
   "source": [
    "test(a=12,b=23)"
   ]
  },
  {
   "cell_type": "code",
   "execution_count": null,
   "id": "9e90b4a4",
   "metadata": {},
   "outputs": [],
   "source": [
    "def test1(*a):\n",
    "    return a"
   ]
  },
  {
   "cell_type": "code",
   "execution_count": null,
   "id": "24b21c08",
   "metadata": {},
   "outputs": [],
   "source": [
    "test1(2,4,6,8)"
   ]
  },
  {
   "cell_type": "code",
   "execution_count": null,
   "id": "c575de29",
   "metadata": {},
   "outputs": [],
   "source": [
    "def test4(*b):\n",
    "    ''' list function'''\n",
    "    l= []\n",
    "    for i in b:\n",
    "        l.append(i)\n",
    "    return l"
   ]
  },
  {
   "cell_type": "code",
   "execution_count": null,
   "id": "ad4ec149",
   "metadata": {},
   "outputs": [],
   "source": [
    "test4(1,3,5,7,8,4,5,6)"
   ]
  },
  {
   "cell_type": "code",
   "execution_count": null,
   "id": "6d93d28c",
   "metadata": {},
   "outputs": [],
   "source": [
    "def test5(a,b,c,d,*m):\n",
    "    return a,b,c,d,m"
   ]
  },
  {
   "cell_type": "code",
   "execution_count": null,
   "id": "a096efc3",
   "metadata": {},
   "outputs": [],
   "source": [
    "test5(1,2,3,4,5,6,7,8,9)"
   ]
  },
  {
   "cell_type": "code",
   "execution_count": null,
   "id": "f6b08739",
   "metadata": {},
   "outputs": [],
   "source": [
    "def test6(**rehan):\n",
    "    return rehan"
   ]
  },
  {
   "cell_type": "code",
   "execution_count": null,
   "id": "76848a95",
   "metadata": {},
   "outputs": [],
   "source": [
    "test6(a=34,b='ahmed',c='gaya',d=24)"
   ]
  },
  {
   "cell_type": "code",
   "execution_count": null,
   "id": "5b60057c",
   "metadata": {},
   "outputs": [],
   "source": [
    "def add(*j):\n",
    "    s =0\n",
    "    for i in j:\n",
    "        if type(i)==int:\n",
    "            s =s+i\n",
    "    return s"
   ]
  },
  {
   "cell_type": "code",
   "execution_count": null,
   "id": "a27b4db7",
   "metadata": {},
   "outputs": [],
   "source": [
    "add(1,4,5,6,4)"
   ]
  },
  {
   "cell_type": "code",
   "execution_count": null,
   "id": "3ae7bf43",
   "metadata": {},
   "outputs": [],
   "source": [
    "add(12,14,4)"
   ]
  },
  {
   "cell_type": "code",
   "execution_count": null,
   "id": "3b5e2a66",
   "metadata": {},
   "outputs": [],
   "source": [
    "def l(*a):\n",
    "    l1=[]\n",
    "    for i in a:\n",
    "        if type(i)==int:\n",
    "            l1.append(i)\n",
    "    return l1"
   ]
  },
  {
   "cell_type": "code",
   "execution_count": null,
   "id": "10456d7c",
   "metadata": {},
   "outputs": [],
   "source": [
    "l(2,4,5,6,[3,5,6,7,8],3,4,5,6,7,8,8,5)"
   ]
  },
  {
   "cell_type": "code",
   "execution_count": null,
   "id": "628a39e9",
   "metadata": {},
   "outputs": [],
   "source": [
    "def add(*j):\n",
    "    s =1\n",
    "    for i in j:\n",
    "        if type(i)==int:\n",
    "            s =s*i\n",
    "    return s"
   ]
  },
  {
   "cell_type": "code",
   "execution_count": null,
   "id": "43c1c06d",
   "metadata": {},
   "outputs": [],
   "source": [
    "add(2,3,4,5)"
   ]
  },
  {
   "cell_type": "code",
   "execution_count": null,
   "id": "4c459a5c",
   "metadata": {},
   "outputs": [],
   "source": [
    "add(4,5,6,7,2)"
   ]
  },
  {
   "cell_type": "markdown",
   "id": "5bdf39e3",
   "metadata": {},
   "source": [
    "# lambda function"
   ]
  },
  {
   "cell_type": "code",
   "execution_count": null,
   "id": "95b74069",
   "metadata": {},
   "outputs": [],
   "source": [
    "n= lambda a,b :a+b"
   ]
  },
  {
   "cell_type": "code",
   "execution_count": null,
   "id": "c8f9523b",
   "metadata": {},
   "outputs": [],
   "source": [
    "n(2,4)"
   ]
  },
  {
   "cell_type": "code",
   "execution_count": null,
   "id": "95ea6a1c",
   "metadata": {},
   "outputs": [],
   "source": [
    "# list comprehension\n",
    "\n",
    "t= (3,5,7,9)"
   ]
  },
  {
   "cell_type": "code",
   "execution_count": null,
   "id": "a63b5838",
   "metadata": {},
   "outputs": [],
   "source": [
    "[i for i in t]"
   ]
  },
  {
   "cell_type": "code",
   "execution_count": null,
   "id": "47f491a7",
   "metadata": {},
   "outputs": [],
   "source": [
    "[i*i for i in range(1,11)]"
   ]
  },
  {
   "cell_type": "markdown",
   "id": "34dbaba1",
   "metadata": {},
   "source": [
    "# Exception Handling"
   ]
  },
  {
   "cell_type": "code",
   "execution_count": null,
   "id": "210a4061",
   "metadata": {},
   "outputs": [],
   "source": [
    "a= 10\n",
    "b=20\n",
    "c=a+b\n",
    "print(c)"
   ]
  },
  {
   "cell_type": "code",
   "execution_count": null,
   "id": "95d5b755",
   "metadata": {},
   "outputs": [],
   "source": [
    "a= int(input('enter he vlaue'))\n",
    "b= int(input('enter the num'))\n",
    "c=a/b\n",
    "print(c)\n",
    "d=a*b\n",
    "print(d)"
   ]
  },
  {
   "cell_type": "markdown",
   "id": "40cd2d61",
   "metadata": {},
   "source": [
    "# keyword of exception handling\n",
    "1. try\n",
    "2. except\n",
    "3. else\n",
    "4. raise\n",
    "5. finally\n",
    "\n"
   ]
  },
  {
   "cell_type": "code",
   "execution_count": null,
   "id": "ea9cf9f4",
   "metadata": {},
   "outputs": [],
   "source": [
    "a= int(input('enter he vlaue '))\n",
    "b= int(input('enter the num '))\n",
    "try:\n",
    "    \n",
    "    c=a/b\n",
    "    print(c)\n",
    "except ZeroDivisionError:\n",
    "    print('b can not be zero')\n",
    "finally:\n",
    "    d=a*b\n",
    "    print(d)"
   ]
  },
  {
   "cell_type": "code",
   "execution_count": null,
   "id": "8a5a2d3c",
   "metadata": {},
   "outputs": [],
   "source": [
    "while True:\n",
    "    try:\n",
    "        a= int(input('enter the first number: '))\n",
    "        b= int(input('enter the second number: '))\n",
    "        c= a/b\n",
    "        print(c)\n",
    "        break\n",
    "    except ValueError:\n",
    "        print(\"should not be str\")\n",
    "    except ZeroDivisionError:\n",
    "        print(\" b should not be zero\")\n",
    "    \n",
    "        "
   ]
  },
  {
   "cell_type": "code",
   "execution_count": null,
   "id": "7e8d2f71",
   "metadata": {},
   "outputs": [],
   "source": [
    "# e used as same when we need same classs as print\n",
    "while True:\n",
    "    try:\n",
    "        a= int(input('enter the first number: '))\n",
    "        b= int(input('enter the second number: '))\n",
    "        c= a/b\n",
    "        print(\"div:\", c)\n",
    "        break\n",
    "    except ZeroDivisionError as e:\n",
    "        print(e)"
   ]
  },
  {
   "cell_type": "code",
   "execution_count": null,
   "id": "a42a6ebb",
   "metadata": {},
   "outputs": [],
   "source": [
    "# used sys.exc_info()\n",
    "import sys\n",
    "while True:\n",
    "    try:\n",
    "        a= int(input('enter the first number: '))\n",
    "        b= int(input('enter the second number: '))\n",
    "        c= a/b\n",
    "        print(\"div:\", c)\n",
    "        break\n",
    "    except:\n",
    "        a,b,c=(sys.exc_info())\n",
    "        print(\"exception:\", a)\n",
    "        print(\"exception class:\", b)\n",
    "        print(\"line number:\", c)"
   ]
  },
  {
   "cell_type": "markdown",
   "id": "dfd25caa",
   "metadata": {},
   "source": [
    "# raise exception"
   ]
  },
  {
   "cell_type": "code",
   "execution_count": null,
   "id": "0cbc604d",
   "metadata": {},
   "outputs": [
    {
     "name": "stdout",
     "output_type": "stream",
     "text": [
      "first num45\n",
      "scnd num0\n",
      "division by zero\n"
     ]
    }
   ],
   "source": [
    "while True:\n",
    "    try:\n",
    "        a=int(input('first num'))\n",
    "        b= int(input('scnd num'))\n",
    "        if a<0 or b<0:\n",
    "            raise Exception(\"zero value not allowed\")\n",
    "        c=a/b\n",
    "        print(c)\n",
    "        break\n",
    "    except ZeroDivisionError as e:\n",
    "        print(e)"
   ]
  },
  {
   "cell_type": "code",
   "execution_count": null,
   "id": "88ec769e",
   "metadata": {},
   "outputs": [],
   "source": []
  },
  {
   "cell_type": "code",
   "execution_count": null,
   "id": "ab50071d",
   "metadata": {},
   "outputs": [],
   "source": []
  },
  {
   "cell_type": "code",
   "execution_count": null,
   "id": "53c07677",
   "metadata": {},
   "outputs": [],
   "source": []
  },
  {
   "cell_type": "code",
   "execution_count": null,
   "id": "d6e0e96e",
   "metadata": {},
   "outputs": [],
   "source": []
  },
  {
   "cell_type": "code",
   "execution_count": null,
   "id": "738891e5",
   "metadata": {},
   "outputs": [],
   "source": []
  },
  {
   "cell_type": "code",
   "execution_count": null,
   "id": "bc14dfab",
   "metadata": {},
   "outputs": [],
   "source": []
  },
  {
   "cell_type": "code",
   "execution_count": null,
   "id": "ddea9df0",
   "metadata": {},
   "outputs": [],
   "source": []
  },
  {
   "cell_type": "code",
   "execution_count": null,
   "id": "3347bc69",
   "metadata": {},
   "outputs": [],
   "source": []
  },
  {
   "cell_type": "code",
   "execution_count": null,
   "id": "c88b8d79",
   "metadata": {},
   "outputs": [],
   "source": []
  },
  {
   "cell_type": "code",
   "execution_count": null,
   "id": "6e5e359a",
   "metadata": {},
   "outputs": [],
   "source": []
  },
  {
   "cell_type": "code",
   "execution_count": null,
   "id": "ccf1c1ed",
   "metadata": {},
   "outputs": [],
   "source": []
  },
  {
   "cell_type": "code",
   "execution_count": null,
   "id": "473ec3fc",
   "metadata": {},
   "outputs": [],
   "source": []
  },
  {
   "cell_type": "code",
   "execution_count": null,
   "id": "1fec43e9",
   "metadata": {},
   "outputs": [],
   "source": []
  }
 ],
 "metadata": {
  "kernelspec": {
   "display_name": "Python 3 (ipykernel)",
   "language": "python",
   "name": "python3"
  },
  "language_info": {
   "codemirror_mode": {
    "name": "ipython",
    "version": 3
   },
   "file_extension": ".py",
   "mimetype": "text/x-python",
   "name": "python",
   "nbconvert_exporter": "python",
   "pygments_lexer": "ipython3",
   "version": "3.9.12"
  }
 },
 "nbformat": 4,
 "nbformat_minor": 5
}
