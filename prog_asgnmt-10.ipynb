{
 "cells": [
  {
   "cell_type": "markdown",
   "id": "7bbdb822",
   "metadata": {},
   "source": [
    "Q1. Write a Python program to find sum of elements in list?"
   ]
  },
  {
   "cell_type": "code",
   "execution_count": 2,
   "id": "7be43dd6",
   "metadata": {},
   "outputs": [
    {
     "name": "stdout",
     "output_type": "stream",
     "text": [
      "Sum of elements: 150\n"
     ]
    }
   ],
   "source": [
    "#Answer:\n",
    "\n",
    "# Define a list of numbers\n",
    "numbers = [10, 20, 30, 40, 50]\n",
    "\n",
    "# Initialize sum to 0\n",
    "total = 0\n",
    "\n",
    "# Iterate over each element in the list and add it to the sum\n",
    "for num in numbers:\n",
    "    total += num\n",
    "\n",
    "# Print the sum of elements\n",
    "print(\"Sum of elements:\", total)\n",
    "\n",
    "\n"
   ]
  },
  {
   "cell_type": "markdown",
   "id": "5ee812b7",
   "metadata": {},
   "source": [
    "Q2. Write a Python program to Multiply all numbers in the list?"
   ]
  },
  {
   "cell_type": "code",
   "execution_count": 3,
   "id": "99cb0d53",
   "metadata": {},
   "outputs": [
    {
     "name": "stdout",
     "output_type": "stream",
     "text": [
      "Result of multiplying all numbers in the list: 86400\n"
     ]
    }
   ],
   "source": [
    "# Answer:\n",
    "\n",
    "def multiply_list(numbers):\n",
    "    product = 1\n",
    "    # Multiply each element in the list by the product\n",
    "    for num in numbers:\n",
    "        product *= num\n",
    "    return product\n",
    "\n",
    "# Define a list of numbers\n",
    "numbers = [1, 2, 3, 4, 5,3,5,6,8]\n",
    "\n",
    "# Call the function \n",
    "result = multiply_list(numbers)\n",
    "\n",
    "print(\"Result of multiplying all numbers in the list:\", result)\n"
   ]
  },
  {
   "cell_type": "markdown",
   "id": "cb3542e7",
   "metadata": {},
   "source": [
    "Q3. Write a Python program to find smallest number in a list?"
   ]
  },
  {
   "cell_type": "code",
   "execution_count": 7,
   "id": "460db32e",
   "metadata": {},
   "outputs": [
    {
     "name": "stdout",
     "output_type": "stream",
     "text": [
      "The smallest number in the list is: 100\n"
     ]
    }
   ],
   "source": [
    "# Answer:\n",
    "\n",
    "def find_smallest_number(numbers):\n",
    "    # Assume the first number in the list is the smallest\n",
    "    smallest = numbers[0]\n",
    "    # Iterate over the rest of the numbers in the list\n",
    "    for num in numbers[1:]:\n",
    "        # If the current number is smaller than the smallest, update smallest\n",
    "        if num < smallest:\n",
    "            smallest = num\n",
    "    return smallest\n",
    "\n",
    "# Define a list of numbers\n",
    "numbers = [100, 500, 814, 345, 124, 778]\n",
    "\n",
    "# Call the function to find the smallest number in the list\n",
    "smallest_number = find_smallest_number(numbers)\n",
    "\n",
    "# Print the smallest number\n",
    "print(\"The smallest number in the list is:\", smallest_number)\n"
   ]
  },
  {
   "cell_type": "markdown",
   "id": "cf0aa185",
   "metadata": {},
   "source": [
    "Q4. Write a Python program to find largest number in a list?"
   ]
  },
  {
   "cell_type": "code",
   "execution_count": 8,
   "id": "d0bef83e",
   "metadata": {},
   "outputs": [
    {
     "name": "stdout",
     "output_type": "stream",
     "text": [
      "The largest number in the list is: 894\n"
     ]
    }
   ],
   "source": [
    "#Answer:\n",
    "\n",
    "\n",
    "def find_largest_number(numbers):\n",
    "    # Assume the first number in the list is the largest\n",
    "    largest = numbers[0]\n",
    "    # Iterate over the rest of the numbers in the list\n",
    "    for num in numbers[1:]:\n",
    "        # If the current number is larger than the largest, update largest\n",
    "        if num > largest:\n",
    "            largest = num\n",
    "    return largest\n",
    "\n",
    "# Define a list of numbers\n",
    "numbers = [894, 575, 878, 345, 126, 714]\n",
    "\n",
    "# Call the function to find the largest number in the list\n",
    "largest_number = find_largest_number(numbers)\n",
    "\n",
    "# Print the largest number\n",
    "print(\"The largest number in the list is:\", largest_number)\n"
   ]
  },
  {
   "cell_type": "markdown",
   "id": "4ec58565",
   "metadata": {},
   "source": [
    "Q5. Write a Python program to find second largest number in a list?"
   ]
  },
  {
   "cell_type": "code",
   "execution_count": 9,
   "id": "c5a3264b",
   "metadata": {},
   "outputs": [
    {
     "name": "stdout",
     "output_type": "stream",
     "text": [
      "The second largest number in the list is: 10\n"
     ]
    }
   ],
   "source": [
    "#Answer:\n",
    "\n",
    "def find_second_largest_number(numbers):\n",
    "    # Initialize the largest and second largest numbers\n",
    "    largest = second_largest = float('-inf')\n",
    "    # Iterate over each number in the list\n",
    "    for num in numbers:\n",
    "        # Update the largest and second largest numbers accordingly\n",
    "        if num > largest:\n",
    "            second_largest = largest\n",
    "            largest = num\n",
    "        elif num > second_largest and num != largest:\n",
    "            second_largest = num\n",
    "    return second_largest\n",
    "\n",
    "# Define a list of numbers\n",
    "numbers = [10, 5, 8, 3, 12, 7]\n",
    "\n",
    "# Call the function to find the second largest number in the list\n",
    "second_largest_number = find_second_largest_number(numbers)\n",
    "\n",
    "# Print the second largest number\n",
    "print(\"The second largest number in the list is:\", second_largest_number)\n"
   ]
  },
  {
   "cell_type": "markdown",
   "id": "33a30ac3",
   "metadata": {},
   "source": [
    "Q6. Write a Python program to find N largest elements from a list?"
   ]
  },
  {
   "cell_type": "code",
   "execution_count": 11,
   "id": "255744fd",
   "metadata": {},
   "outputs": [
    {
     "name": "stdout",
     "output_type": "stream",
     "text": [
      "The 2 largest elements in the list are: [12, 10]\n"
     ]
    }
   ],
   "source": [
    "#Answer:\n",
    "\n",
    "def find_n_largest_elements(numbers, n):\n",
    "    # Sort the list in descending order\n",
    "    sorted_numbers = sorted(numbers, reverse=True)\n",
    "    # Return the first N elements\n",
    "    return sorted_numbers[:n]\n",
    "\n",
    "# Define a list of numbers\n",
    "numbers = [10, 5, 8, 3, 12, 7]\n",
    "# Specify the value of N\n",
    "N = 2\n",
    "\n",
    "# Call the function to find the N largest elements in the list\n",
    "n_largest_elements = find_n_largest_elements(numbers, N)\n",
    "\n",
    "# Print the N largest elements\n",
    "print(f\"The {N} largest elements in the list are:\", n_largest_elements)\n"
   ]
  },
  {
   "cell_type": "markdown",
   "id": "ba51b5d4",
   "metadata": {},
   "source": [
    "Q7. Write a Python program to print even numbers in a list?"
   ]
  },
  {
   "cell_type": "code",
   "execution_count": 12,
   "id": "c2bcc7b6",
   "metadata": {},
   "outputs": [
    {
     "name": "stdout",
     "output_type": "stream",
     "text": [
      "Even numbers in the list:\n",
      "10 8 12 "
     ]
    }
   ],
   "source": [
    "#Answer:\n",
    "\n",
    "def print_even_numbers(numbers):\n",
    "    # Iterate over each number in the list\n",
    "    for num in numbers:\n",
    "        # Check if the number is even\n",
    "        if num % 2 == 0:\n",
    "            print(num, end=\" \")\n",
    "\n",
    "# Define a list of numbers\n",
    "numbers = [10, 5, 8, 3, 12, 7]\n",
    "\n",
    "# Call the function to print even numbers in the list\n",
    "print(\"Even numbers in the list:\")\n",
    "print_even_numbers(numbers)\n",
    "\n"
   ]
  },
  {
   "cell_type": "markdown",
   "id": "0516883d",
   "metadata": {},
   "source": [
    "Q8. Write a Python program to print odd numbers in a List?"
   ]
  },
  {
   "cell_type": "code",
   "execution_count": 13,
   "id": "2c747671",
   "metadata": {},
   "outputs": [
    {
     "name": "stdout",
     "output_type": "stream",
     "text": [
      "Odd numbers in the list:\n",
      "5 3 7 "
     ]
    }
   ],
   "source": [
    "#Answer: \n",
    "\n",
    "def print_odd_numbers(numbers):\n",
    "    # Iterate over each number in the list\n",
    "    for num in numbers:\n",
    "        # Check if the number is odd\n",
    "        if num % 2 != 0:\n",
    "            print(num, end=\" \")\n",
    "\n",
    "# Define a list of numbers\n",
    "numbers = [10, 5, 8, 3, 12, 7]\n",
    "\n",
    "# Call the function to print odd numbers in the list\n",
    "print(\"Odd numbers in the list:\")\n",
    "print_odd_numbers(numbers)\n"
   ]
  },
  {
   "cell_type": "markdown",
   "id": "3826466b",
   "metadata": {},
   "source": [
    "Q9. Write a Python program to Remove empty List from List?"
   ]
  },
  {
   "cell_type": "code",
   "execution_count": 14,
   "id": "fff5abdc",
   "metadata": {},
   "outputs": [
    {
     "name": "stdout",
     "output_type": "stream",
     "text": [
      "List after removing empty lists: [[1, 2, 3], [4, 5], [6]]\n"
     ]
    }
   ],
   "source": [
    "#Answer:\n",
    "\n",
    "def remove_empty_lists(input_list):\n",
    "    # Use list comprehension to filter out empty lists\n",
    "    return [sublist for sublist in input_list if sublist]\n",
    "\n",
    "# Define a list containing some sublists, including empty ones\n",
    "main_list = [[], [1, 2, 3], [], [4, 5], [], [6], []]\n",
    "\n",
    "# Call the function to remove empty lists from the main list\n",
    "result_list = remove_empty_lists(main_list)\n",
    "\n",
    "# Print the result\n",
    "print(\"List after removing empty lists:\", result_list)\n"
   ]
  },
  {
   "cell_type": "markdown",
   "id": "e8493d2e",
   "metadata": {},
   "source": [
    "Q10. Write a Python program to Cloning or Copying a list?"
   ]
  },
  {
   "cell_type": "code",
   "execution_count": 15,
   "id": "d3be2491",
   "metadata": {},
   "outputs": [
    {
     "name": "stdout",
     "output_type": "stream",
     "text": [
      "Original list: [1, 2, 3, 4, 5]\n",
      "Cloned list: [1, 2, 3, 4, 5]\n"
     ]
    }
   ],
   "source": [
    "#Answer:\n",
    "\n",
    "original_list = [1, 2, 3, 4, 5]\n",
    "\n",
    "# Cloning the list using the copy() method\n",
    "cloned_list = original_list.copy()\n",
    "\n",
    "print(\"Original list:\", original_list)\n",
    "print(\"Cloned list:\", cloned_list)\n"
   ]
  },
  {
   "cell_type": "markdown",
   "id": "f225658d",
   "metadata": {},
   "source": [
    "Q11. Write a Python program to Count occurrences of an element in a list?"
   ]
  },
  {
   "cell_type": "code",
   "execution_count": 17,
   "id": "729405ac",
   "metadata": {},
   "outputs": [
    {
     "name": "stdout",
     "output_type": "stream",
     "text": [
      "The element 3 occurs 2 times in the list.\n"
     ]
    }
   ],
   "source": [
    "#Answer:\n",
    "\n",
    "def count_occurrences(input_list, element):\n",
    "    # Count the occurrences of the element in the list\n",
    "    return input_list.count(element)\n",
    "\n",
    "# Define a list\n",
    "my_list = [1, 2, 3, 4, 1, 2, 1, 3, 4, 5]\n",
    "\n",
    "# Specify the element whose occurrences you want to count\n",
    "element_to_count = 3\n",
    "\n",
    "# Call the function to count occurrences of the element in the list\n",
    "occurrences = count_occurrences(my_list, element_to_count)\n",
    "\n",
    "# Print the result\n",
    "print(f\"The element {element_to_count} occurs {occurrences} times in the list.\")\n"
   ]
  },
  {
   "cell_type": "code",
   "execution_count": null,
   "id": "02b383a8",
   "metadata": {},
   "outputs": [],
   "source": []
  }
 ],
 "metadata": {
  "kernelspec": {
   "display_name": "Python 3 (ipykernel)",
   "language": "python",
   "name": "python3"
  },
  "language_info": {
   "codemirror_mode": {
    "name": "ipython",
    "version": 3
   },
   "file_extension": ".py",
   "mimetype": "text/x-python",
   "name": "python",
   "nbconvert_exporter": "python",
   "pygments_lexer": "ipython3",
   "version": "3.9.12"
  }
 },
 "nbformat": 4,
 "nbformat_minor": 5
}
