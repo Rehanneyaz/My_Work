{
 "cells": [
  {
   "cell_type": "markdown",
   "id": "d4f1fb66",
   "metadata": {},
   "source": [
    "Q1. What does an empty dictionar's code look like?\n",
    "\n",
    "Answer:\n",
    "\n",
    "An empty dictionary in Python is represented by curly braces {}. Here's how it looks:\n",
    "empty_dict = {}\n",
    "\n",
    "This creates an empty dictionary named empty_dict."
   ]
  },
  {
   "cell_type": "markdown",
   "id": "10195bd7",
   "metadata": {},
   "source": [
    "Q2. What is the value of a dictionary value with the key 'foo' and the value 42?\n",
    "\n",
    "Answer:\n",
    "\n",
    "In Python, we can access the value associated with a specific key in a dictionary using square brackets [] along with the key. So, for the key 'foo', you would access its value like this:\n",
    "\n",
    "my_dict = {'foo': 42}\n",
    "\n",
    "value = my_dict['foo']\n",
    "\n",
    "print(value)\n"
   ]
  },
  {
   "cell_type": "markdown",
   "id": "cba9f727",
   "metadata": {},
   "source": [
    "Q3. What is the most significant distinction between a dictionary and a list?\n",
    "\n",
    "Answer:\n",
    "\n",
    "The most significant distinction between a dictionary and a list is that a dictionary is a collection of key-value pairs, where each value is accessed by its associated key, while a list is an ordered collection of elements accessed by their indices."
   ]
  },
  {
   "cell_type": "markdown",
   "id": "9556337e",
   "metadata": {},
   "source": [
    "Q4. What happens if you try to access spam['foo'] if spam is {'bar': 100}?\n",
    "\n",
    "Answer:\n",
    "\n",
    "If you try to access spam['foo'] when spam is {'bar': 100}, you will get a KeyError because there is no key 'foo' in the dictionary spam."
   ]
  },
  {
   "cell_type": "markdown",
   "id": "85198c65",
   "metadata": {},
   "source": [
    "Q5. If a dictionary is stored in spam, what is the difference between the expressions 'cat'; in spam and 'cat' in spam.keys()?\n",
    "\n",
    "Answer:\n",
    "\n",
    "The expressions 'cat' in spam and 'cat' in spam.keys() both check for the presence of the key 'cat' in the dictionary spam, but they differ in how they perform the check:\n",
    "\n",
    "'cat' in spam: This expression checks if the key 'cat' exists directly in the dictionary spam. It returns True if the key 'cat' exists as one of the keys in the dictionary, regardless of the associated values.\n",
    "\n",
    "'cat' in spam.keys(): This expression first retrieves a view object of all keys in the dictionary spam using the keys() method, and then it checks if 'cat' exists in that view object. It essentially checks if 'cat' exists among the keys of the dictionary spam. It also returns True if 'cat' is a key in spam."
   ]
  },
  {
   "cell_type": "markdown",
   "id": "5e353907",
   "metadata": {},
   "source": [
    "Q6. If a dictionary is stored in spam, what is the difference between the expressions 'cat' in spam and 'cat' in spam.values()?\n",
    "\n",
    "Answer:\n",
    "\n",
    "The expressions 'cat' in spam and 'cat' in spam.values() both check for the presence of the value 'cat' in the dictionary spam, but they differ in how they perform the check:\n",
    "\n",
    "'cat' in spam: This expression checks if the value 'cat' exists directly in the dictionary spam. It returns True if 'cat' is one of the values in the dictionary, regardless of the associated keys.\n",
    "\n",
    "'cat' in spam.values(): This expression first retrieves a view object of all values in the dictionary spam using the values() method, and then it checks if 'cat' exists in that view object. It essentially checks if 'cat' exists among the values of the dictionary spam."
   ]
  },
  {
   "cell_type": "markdown",
   "id": "da53aec7",
   "metadata": {},
   "source": [
    "Q7. What is a shortcut for the following code?\n",
    "if 'color' not in spam:\n",
    "spam['color'] = 'black'\n",
    "\n",
    "Answer:\n",
    "\n",
    "A shortcut for the given code is to use the setdefault() method of dictionaries. It sets the value of a key if the key is not already in the dictionary.\n",
    "\n",
    "example:\n",
    "\n",
    "spam.setdefault('color', 'black')\n",
    "\n",
    "This line of code will achieve the same result as the original code snippet: if 'color' is not already a key in spam, it will set the value of 'color' to 'black'."
   ]
  },
  {
   "cell_type": "markdown",
   "id": "ff14fcd5",
   "metadata": {},
   "source": [
    "Q8. How do you \"pretty prin\" dictionary values using which module and function?\n",
    "\n",
    "Answer:\n",
    "\n",
    "To \"pretty print\" dictionary values in Python,we can use the pprint module's pprint() function. This function provides more readable output by formatting the dictionary in a structured and visually appealing way."
   ]
  },
  {
   "cell_type": "code",
   "execution_count": null,
   "id": "2770958c",
   "metadata": {},
   "outputs": [],
   "source": []
  }
 ],
 "metadata": {
  "kernelspec": {
   "display_name": "Python 3 (ipykernel)",
   "language": "python",
   "name": "python3"
  },
  "language_info": {
   "codemirror_mode": {
    "name": "ipython",
    "version": 3
   },
   "file_extension": ".py",
   "mimetype": "text/x-python",
   "name": "python",
   "nbconvert_exporter": "python",
   "pygments_lexer": "ipython3",
   "version": "3.9.12"
  }
 },
 "nbformat": 4,
 "nbformat_minor": 5
}
