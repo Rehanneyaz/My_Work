{
 "cells": [
  {
   "cell_type": "markdown",
   "id": "5b9f3ffa",
   "metadata": {},
   "source": [
    "Q1. Write a Python program to convert kilometers to miles?"
   ]
  },
  {
   "cell_type": "code",
   "execution_count": 11,
   "id": "903e6e84",
   "metadata": {},
   "outputs": [
    {
     "name": "stdout",
     "output_type": "stream",
     "text": [
      "enter the km value7\n"
     ]
    },
    {
     "data": {
      "text/plain": [
       "4.349597"
      ]
     },
     "execution_count": 11,
     "metadata": {},
     "output_type": "execute_result"
    }
   ],
   "source": [
    "# Answer:\n",
    "\n",
    "# we know one 1 km=0.621371 miles\n",
    "def km_to_miles():\n",
    "    kilometer = float(input(\"enter the km value\"))\n",
    "    conversion_factor= 0.621371\n",
    "    miles = kilometer*conversion_factor\n",
    "    return miles\n",
    "\n",
    "km_to_miles()"
   ]
  },
  {
   "cell_type": "markdown",
   "id": "8456aea4",
   "metadata": {},
   "source": [
    "Q2. Write a Python program to convert Celsius to Fahrenheit?"
   ]
  },
  {
   "cell_type": "code",
   "execution_count": 13,
   "id": "a05449d6",
   "metadata": {},
   "outputs": [
    {
     "name": "stdout",
     "output_type": "stream",
     "text": [
      "enter the celsius value 40\n"
     ]
    },
    {
     "data": {
      "text/plain": [
       "104.0"
      ]
     },
     "execution_count": 13,
     "metadata": {},
     "output_type": "execute_result"
    }
   ],
   "source": [
    "#Answer:\n",
    "\n",
    "# we know the celcius to farenheit formula (c*9/5) +32\n",
    "\n",
    "def celsius_to_fahrenheit():\n",
    "    celsius = float(input(\"enter the celsius value \"))\n",
    "    fahrenheit= (celsius*9/5)+32\n",
    "    return fahrenheit\n",
    "\n",
    "celsius_to_fahrenheit()"
   ]
  },
  {
   "cell_type": "markdown",
   "id": "0e600840",
   "metadata": {},
   "source": [
    "Q3. Write a Python program to display calendar?"
   ]
  },
  {
   "cell_type": "code",
   "execution_count": 18,
   "id": "a6658740",
   "metadata": {},
   "outputs": [
    {
     "data": {
      "text/plain": [
       "'     June 2024\\nSu Mo Tu We Th Fr Sa\\n                   1\\n 2  3  4  5  6  7  8\\n 9 10 11 12 13 14 15\\n16 17 18 19 20 21 22\\n23 24 25 26 27 28 29\\n30\\n'"
      ]
     },
     "execution_count": 18,
     "metadata": {},
     "output_type": "execute_result"
    }
   ],
   "source": [
    "#Answer:\n",
    "\n",
    "# for deisplying calender we need to import calender module\n",
    "\n",
    "import calendar\n",
    "\n",
    "def display_calendar(year, month):\n",
    "    cal = calendar.TextCalendar(calendar.SUNDAY)\n",
    "    # Format the month and year into a string representation\n",
    "    month_calendar = cal.formatmonth(year, month)\n",
    "    return month_calendar\n",
    "display_calendar(2024,6)"
   ]
  },
  {
   "cell_type": "markdown",
   "id": "6d42d34e",
   "metadata": {},
   "source": [
    "Q4. Write a Python program to solve quadratic equation?"
   ]
  },
  {
   "cell_type": "code",
   "execution_count": 20,
   "id": "5e6a6202",
   "metadata": {},
   "outputs": [
    {
     "name": "stdout",
     "output_type": "stream",
     "text": [
      "Enter coefficient a: 10\n",
      "Enter coefficient b: 2\n",
      "Enter coefficient c: 3\n",
      "The solutions are: (-0.1+0.5385164807134504j) and (-0.1-0.5385164807134504j)\n"
     ]
    }
   ],
   "source": [
    "# Answer:\n",
    "\n",
    "import cmath\n",
    "\n",
    "# Function to solve quadratic equation\n",
    "def solve_quadratic(a, b, c):\n",
    "    # Calculate the discriminant\n",
    "    discriminant = cmath.sqrt(b**2 - 4*a*c)\n",
    "    \n",
    "    # Calculate two solutions\n",
    "    x1 = (-b + discriminant) / (2 * a)\n",
    "    x2 = (-b - discriminant) / (2 * a)\n",
    "    \n",
    "    return x1, x2\n",
    "\n",
    "# Taking input from the user\n",
    "a = float(input(\"Enter coefficient a: \"))\n",
    "b = float(input(\"Enter coefficient b: \"))\n",
    "c = float(input(\"Enter coefficient c: \"))\n",
    "\n",
    "# Solving the quadratic equation\n",
    "solutions = solve_quadratic(a, b, c)\n",
    "\n",
    "# Displaying the solutions\n",
    "print(f\"The solutions are: {solutions[0]} and {solutions[1]}\")\n",
    "\n",
    "\n",
    "\n"
   ]
  },
  {
   "cell_type": "markdown",
   "id": "b8ebd26c",
   "metadata": {},
   "source": [
    "Q5. Write a Python program to swap two variables without temp variable?"
   ]
  },
  {
   "cell_type": "code",
   "execution_count": 21,
   "id": "e0adaa53",
   "metadata": {},
   "outputs": [
    {
     "name": "stdout",
     "output_type": "stream",
     "text": [
      "enter the value of a 4\n",
      "enter the value of b 2\n"
     ]
    },
    {
     "data": {
      "text/plain": [
       "(2, 4)"
      ]
     },
     "execution_count": 21,
     "metadata": {},
     "output_type": "execute_result"
    }
   ],
   "source": [
    "#Answer:\n",
    "\n",
    "def swap_variables():\n",
    "    a= int(input(\"enter the value of a \"))\n",
    "    b= int(input(\"enter the value of b \"))\n",
    "    # Swapping using tuple unpacking\n",
    "    a, b = b, a\n",
    "    return a, b\n",
    "\n",
    "swap_variables()"
   ]
  },
  {
   "cell_type": "code",
   "execution_count": null,
   "id": "b9825fec",
   "metadata": {},
   "outputs": [],
   "source": []
  }
 ],
 "metadata": {
  "kernelspec": {
   "display_name": "Python 3 (ipykernel)",
   "language": "python",
   "name": "python3"
  },
  "language_info": {
   "codemirror_mode": {
    "name": "ipython",
    "version": 3
   },
   "file_extension": ".py",
   "mimetype": "text/x-python",
   "name": "python",
   "nbconvert_exporter": "python",
   "pygments_lexer": "ipython3",
   "version": "3.9.12"
  }
 },
 "nbformat": 4,
 "nbformat_minor": 5
}
