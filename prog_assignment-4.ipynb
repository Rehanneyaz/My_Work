{
 "cells": [
  {
   "cell_type": "markdown",
   "id": "31e8c532",
   "metadata": {},
   "source": [
    "Q1.Write a Python Program to Find the Factorial of a Number?"
   ]
  },
  {
   "cell_type": "code",
   "execution_count": 9,
   "id": "51bdf9fc",
   "metadata": {},
   "outputs": [
    {
     "name": "stdout",
     "output_type": "stream",
     "text": [
      "Enter the number: 5\n",
      "Factorial of 5 is 120\n"
     ]
    }
   ],
   "source": [
    "# Answer:\n",
    "\n",
    "n = int(input(\"Enter the number: \"))\n",
    "\n",
    "if n < 0:\n",
    "    print(\"Factorial is not defined for negative numbers.\")\n",
    "else:\n",
    "    output = 1\n",
    "    for i in range(1, n + 1):\n",
    "        output *= i\n",
    "    print(f\"Factorial of {n} is {output}\")\n"
   ]
  },
  {
   "cell_type": "markdown",
   "id": "60a2bb06",
   "metadata": {},
   "source": [
    "Q2. Write a Python Program to Display the multiplication Table?"
   ]
  },
  {
   "cell_type": "code",
   "execution_count": 13,
   "id": "f6609e17",
   "metadata": {},
   "outputs": [
    {
     "name": "stdout",
     "output_type": "stream",
     "text": [
      "Enter the number: 7\n",
      "multiplication table for 7:\n",
      "7 * 1= 7\n",
      "7 * 2= 14\n",
      "7 * 3= 21\n",
      "7 * 4= 28\n",
      "7 * 5= 35\n",
      "7 * 6= 42\n",
      "7 * 7= 49\n",
      "7 * 8= 56\n",
      "7 * 9= 63\n",
      "7 * 10= 70\n"
     ]
    }
   ],
   "source": [
    "#Answer:\n",
    "\n",
    "n = int(input(\"Enter the number: \"))\n",
    "print(f\"multiplication table for {n}:\" )\n",
    "\n",
    "for i in range(1,11):\n",
    "    table = n*i\n",
    "    print(f\"{n} * {i}= {table}\")"
   ]
  },
  {
   "cell_type": "markdown",
   "id": "f31de817",
   "metadata": {},
   "source": [
    "Q3. Write a Python Program to Print the Fibonacci sequence?"
   ]
  },
  {
   "cell_type": "code",
   "execution_count": 15,
   "id": "eeaa6a9c",
   "metadata": {},
   "outputs": [
    {
     "name": "stdout",
     "output_type": "stream",
     "text": [
      "Enter the number: 5\n",
      "Fibonacci sequence:\n",
      "0 1 1 2 3 "
     ]
    }
   ],
   "source": [
    "#Answer:\n",
    "\n",
    "# \n",
    "num= int(input(\"Enter the number: \"))\n",
    "\n",
    "# Initialize the first two terms of the Fibonacci sequence\n",
    "a, b = 0, 1\n",
    "\n",
    "print(\"Fibonacci sequence:\")\n",
    "\n",
    "# Print the Fibonacci sequence\n",
    "for _ in range(num):\n",
    "    print(a, end=\" \")\n",
    "    # Update the values of a and b\n",
    "    a, b = b, a + b\n"
   ]
  },
  {
   "cell_type": "markdown",
   "id": "cf1c1f66",
   "metadata": {},
   "source": [
    "Q4. Write a Python Program to Check Armstrong Number?"
   ]
  },
  {
   "cell_type": "code",
   "execution_count": 18,
   "id": "75d07802",
   "metadata": {},
   "outputs": [
    {
     "name": "stdout",
     "output_type": "stream",
     "text": [
      "Enter a number: 423\n",
      "423 is not an Armstrong number.\n"
     ]
    }
   ],
   "source": [
    "# Answer:\n",
    "\n",
    "# Get the number from the user\n",
    "number = int(input(\"Enter a number: \"))\n",
    "\n",
    "# Convert the number to a string to easily iterate through digits\n",
    "digits = str(number)\n",
    "\n",
    "# Calculate the number of digits\n",
    "num_digits = len(digits)\n",
    "\n",
    "# Calculate the sum of each digit raised to the power of the number of digits\n",
    "sum_of_powers = sum(int(digit) ** num_digits for digit in digits)\n",
    "\n",
    "# Check if the sum of powers is equal to the original number\n",
    "if sum_of_powers == number:\n",
    "    print(f\"{number} is an Armstrong number.\")\n",
    "else:\n",
    "    print(f\"{number} is not an Armstrong number.\")\n"
   ]
  },
  {
   "cell_type": "markdown",
   "id": "584bff97",
   "metadata": {},
   "source": [
    "Q5. Write a Python Program to Find Armstrong Number in an Interval?"
   ]
  },
  {
   "cell_type": "code",
   "execution_count": 19,
   "id": "500bc4f7",
   "metadata": {},
   "outputs": [
    {
     "name": "stdout",
     "output_type": "stream",
     "text": [
      "Enter the start of the interval: 100\n",
      "Enter the end of the interval: 200\n",
      "Armstrong numbers between 100 and 200 are:\n",
      "153\n"
     ]
    }
   ],
   "source": [
    "# Answer:\n",
    "\n",
    "# Function to check if a number is an Armstrong number\n",
    "def is_armstrong(number):\n",
    "    digits = str(number)\n",
    "    num_digits = len(digits)\n",
    "    sum_of_powers = sum(int(digit) ** num_digits for digit in digits)\n",
    "    return sum_of_powers == number\n",
    "\n",
    "# Get the interval from the user\n",
    "start = int(input(\"Enter the start of the interval: \"))\n",
    "end = int(input(\"Enter the end of the interval: \"))\n",
    "\n",
    "# Find and print all Armstrong numbers in the interval\n",
    "print(f\"Armstrong numbers between {start} and {end} are:\")\n",
    "\n",
    "for number in range(start, end + 1):\n",
    "    if is_armstrong(number):\n",
    "        print(number)\n",
    "\n"
   ]
  },
  {
   "cell_type": "markdown",
   "id": "9d9a5d50",
   "metadata": {},
   "source": [
    "Q6. Write a Python Program to Find the Sum of Natural Numbers?"
   ]
  },
  {
   "cell_type": "code",
   "execution_count": 20,
   "id": "d452edaa",
   "metadata": {},
   "outputs": [
    {
     "name": "stdout",
     "output_type": "stream",
     "text": [
      "Enter a positive number: 4\n",
      "The sum of the first 4 natural numbers is 10.\n"
     ]
    }
   ],
   "source": [
    "# Answer:\n",
    "\n",
    "\n",
    "n = int(input(\"Enter a positive number: \"))\n",
    "\n",
    "# Check if the number is positive\n",
    "if n <= 0:\n",
    "    print(\"Please enter a positive integer.\")\n",
    "else:\n",
    "    #using the formula\n",
    "    sum_natural_numbers = n * (n + 1) // 2\n",
    "    print(f\"The sum of the first {n} natural numbers is {sum_natural_numbers}.\")\n"
   ]
  },
  {
   "cell_type": "code",
   "execution_count": null,
   "id": "48e0a522",
   "metadata": {},
   "outputs": [],
   "source": []
  }
 ],
 "metadata": {
  "kernelspec": {
   "display_name": "Python 3 (ipykernel)",
   "language": "python",
   "name": "python3"
  },
  "language_info": {
   "codemirror_mode": {
    "name": "ipython",
    "version": 3
   },
   "file_extension": ".py",
   "mimetype": "text/x-python",
   "name": "python",
   "nbconvert_exporter": "python",
   "pygments_lexer": "ipython3",
   "version": "3.9.12"
  }
 },
 "nbformat": 4,
 "nbformat_minor": 5
}
