{
 "cells": [
  {
   "cell_type": "markdown",
   "id": "1d62a02a",
   "metadata": {},
   "source": [
    "Q1. Write a Python Program to Add Two Matrices?"
   ]
  },
  {
   "cell_type": "code",
   "execution_count": 1,
   "id": "b514844d",
   "metadata": {},
   "outputs": [
    {
     "name": "stdout",
     "output_type": "stream",
     "text": [
      "Enter the number of rows for matrix1: 2\n",
      "Enter the number of columns for matrix1: 2\n",
      "Enter the elements of matrix1:\n",
      "1 2\n",
      "3 4\n",
      "Enter the number of rows for matrix2: 2\n",
      "Enter the number of columns for matrix2: 2\n",
      "Enter the elements of matrix2:\n",
      "5 6\n",
      "7 8\n",
      "Resultant matrix after addition:\n",
      "[6, 8]\n",
      "[10, 12]\n"
     ]
    }
   ],
   "source": [
    "#Answer:\n",
    "\n",
    "def add_matrices(matrix1, matrix2):\n",
    "    # Check if the dimensions of the matrices are the same\n",
    "    if len(matrix1) != len(matrix2) or len(matrix1[0]) != len(matrix2[0]):\n",
    "        return None  # Return None if dimensions don't match\n",
    "    \n",
    "    # Initialize an empty result matrix\n",
    "    result_matrix = []\n",
    "    \n",
    "    # Iterate over rows of matrix1 and matrix2\n",
    "    for i in range(len(matrix1)):\n",
    "        # Initialize an empty row for the result matrix\n",
    "        result_row = []\n",
    "        # Iterate over elements in the current row of matrix1 and matrix2\n",
    "        for j in range(len(matrix1[0])):\n",
    "            # Add corresponding elements from matrix1 and matrix2\n",
    "            result_row.append(matrix1[i][j] + matrix2[i][j])\n",
    "        # Append the result row to the result matrix\n",
    "        result_matrix.append(result_row)\n",
    "    \n",
    "    return result_matrix\n",
    "\n",
    "# Get input for matrix1\n",
    "rows1 = int(input(\"Enter the number of rows for matrix1: \"))\n",
    "cols1 = int(input(\"Enter the number of columns for matrix1: \"))\n",
    "print(\"Enter the elements of matrix1:\")\n",
    "matrix1 = []\n",
    "for i in range(rows1):\n",
    "    row = list(map(int, input().split()))\n",
    "    matrix1.append(row)\n",
    "\n",
    "# Get input for matrix2\n",
    "rows2 = int(input(\"Enter the number of rows for matrix2: \"))\n",
    "cols2 = int(input(\"Enter the number of columns for matrix2: \"))\n",
    "print(\"Enter the elements of matrix2:\")\n",
    "matrix2 = []\n",
    "for i in range(rows2):\n",
    "    row = list(map(int, input().split()))\n",
    "    matrix2.append(row)\n",
    "\n",
    "# Add the matrices\n",
    "result = add_matrices(matrix1, matrix2)\n",
    "\n",
    "# Print the result\n",
    "if result is None:\n",
    "    print(\"Cannot add matrices with different dimensions.\")\n",
    "else:\n",
    "    print(\"Resultant matrix after addition:\")\n",
    "    for row in result:\n",
    "        print(row)\n"
   ]
  },
  {
   "cell_type": "markdown",
   "id": "340941eb",
   "metadata": {},
   "source": [
    "Q2. Write a Python Program to Multiply Two Matrices?"
   ]
  },
  {
   "cell_type": "code",
   "execution_count": 2,
   "id": "63314ef4",
   "metadata": {},
   "outputs": [
    {
     "name": "stdout",
     "output_type": "stream",
     "text": [
      "Enter the number of rows for matrix1: 3\n",
      "Enter the number of columns for matrix1: 3\n",
      "Enter the elements of matrix1:\n",
      "3 4 5\n",
      "3 6 7\n",
      "1 2 3\n",
      "Enter the number of rows for matrix2: 3\n",
      "Enter the number of columns for matrix2: 3\n",
      "Enter the elements of matrix2:\n",
      "4 5 6\n",
      "2 3 4\n",
      "4 5 6\n",
      "Resultant matrix after multiplication:\n",
      "[40, 52, 64]\n",
      "[52, 68, 84]\n",
      "[20, 26, 32]\n"
     ]
    }
   ],
   "source": [
    "# Answer:\n",
    "\n",
    "def multiply_matrices(matrix1, matrix2):\n",
    "    # Check if the number of columns in matrix1 matches the number of rows in matrix2\n",
    "    if len(matrix1[0]) != len(matrix2):\n",
    "        return None  # Return None if dimensions don't match\n",
    "    \n",
    "    # Initialize an empty result matrix\n",
    "    result_matrix = []\n",
    "    \n",
    "    # Iterate over rows of matrix1\n",
    "    for i in range(len(matrix1)):\n",
    "        # Initialize an empty row for the result matrix\n",
    "        result_row = []\n",
    "        # Iterate over columns of matrix2\n",
    "        for j in range(len(matrix2[0])):\n",
    "            # Calculate the dot product of the current row of matrix1 and the current column of matrix2\n",
    "            dot_product = sum(matrix1[i][k] * matrix2[k][j] for k in range(len(matrix2)))\n",
    "            # Append the dot product to the result row\n",
    "            result_row.append(dot_product)\n",
    "        # Append the result row to the result matrix\n",
    "        result_matrix.append(result_row)\n",
    "    \n",
    "    return result_matrix\n",
    "\n",
    "# Get input for matrix1\n",
    "rows1 = int(input(\"Enter the number of rows for matrix1: \"))\n",
    "cols1 = int(input(\"Enter the number of columns for matrix1: \"))\n",
    "print(\"Enter the elements of matrix1:\")\n",
    "matrix1 = []\n",
    "for i in range(rows1):\n",
    "    row = list(map(int, input().split()))\n",
    "    matrix1.append(row)\n",
    "\n",
    "# Get input for matrix2\n",
    "rows2 = int(input(\"Enter the number of rows for matrix2: \"))\n",
    "cols2 = int(input(\"Enter the number of columns for matrix2: \"))\n",
    "print(\"Enter the elements of matrix2:\")\n",
    "matrix2 = []\n",
    "for i in range(rows2):\n",
    "    row = list(map(int, input().split()))\n",
    "    matrix2.append(row)\n",
    "\n",
    "# Multiply the matrices\n",
    "result = multiply_matrices(matrix1, matrix2)\n",
    "\n",
    "# Print the result\n",
    "if result is None:\n",
    "    print(\"Number of columns in matrix1 must be equal to number of rows in matrix2 for multiplication.\")\n",
    "else:\n",
    "    print(\"Resultant matrix after multiplication:\")\n",
    "    for row in result:\n",
    "        print(row)\n"
   ]
  },
  {
   "cell_type": "markdown",
   "id": "b90e9606",
   "metadata": {},
   "source": [
    "Q3. Write a Python Program to Transpose a Matrix?"
   ]
  },
  {
   "cell_type": "code",
   "execution_count": 3,
   "id": "53a1e71f",
   "metadata": {},
   "outputs": [
    {
     "name": "stdout",
     "output_type": "stream",
     "text": [
      "Enter the number of rows: 2\n",
      "Enter the number of columns: 3\n",
      "Enter the elements of the matrix:\n",
      "3 4 5\n",
      "5 4 3\n",
      "Original matrix:\n",
      "[3, 4, 5]\n",
      "[5, 4, 3]\n",
      "Transposed matrix:\n",
      "[3, 5]\n",
      "[4, 4]\n",
      "[5, 3]\n"
     ]
    }
   ],
   "source": [
    "# Answer:\n",
    "\n",
    "def transpose_matrix(matrix):\n",
    "    # Get the number of rows and columns of the original matrix\n",
    "    rows = len(matrix)\n",
    "    cols = len(matrix[0])\n",
    "    \n",
    "    # Initialize an empty matrix for the transpose\n",
    "    transpose = [[0 for _ in range(rows)] for _ in range(cols)]\n",
    "    \n",
    "    # Iterate over rows of the original matrix\n",
    "    for i in range(rows):\n",
    "        # Iterate over columns of the original matrix\n",
    "        for j in range(cols):\n",
    "            # Assign the transpose of the current element to the corresponding position in the transpose matrix\n",
    "            transpose[j][i] = matrix[i][j]\n",
    "    \n",
    "    return transpose\n",
    "\n",
    "# Get input for the matrix\n",
    "rows = int(input(\"Enter the number of rows: \"))\n",
    "cols = int(input(\"Enter the number of columns: \"))\n",
    "print(\"Enter the elements of the matrix:\")\n",
    "matrix = []\n",
    "for i in range(rows):\n",
    "    row = list(map(int, input().split()))\n",
    "    matrix.append(row)\n",
    "\n",
    "# Transpose the matrix\n",
    "transposed_matrix = transpose_matrix(matrix)\n",
    "\n",
    "# Print the transposed matrix\n",
    "print(\"Original matrix:\")\n",
    "for row in matrix:\n",
    "    print(row)\n",
    "print(\"Transposed matrix:\")\n",
    "for row in transposed_matrix:\n",
    "    print(row)\n"
   ]
  },
  {
   "cell_type": "markdown",
   "id": "eddb1243",
   "metadata": {},
   "source": [
    "Q4.Write a Python Program to Sort Words in Alphabetic Order?"
   ]
  },
  {
   "cell_type": "code",
   "execution_count": 4,
   "id": "adb45597",
   "metadata": {},
   "outputs": [
    {
     "name": "stdout",
     "output_type": "stream",
     "text": [
      "Enter a string: doll rose apple van\n",
      "Words sorted in alphabetical order:\n",
      "apple\n",
      "doll\n",
      "rose\n",
      "van\n"
     ]
    }
   ],
   "source": [
    "#Answer:\n",
    "\n",
    "# Get input as string\n",
    "input_string = input(\"Enter a string: \")\n",
    "\n",
    "# Split into words\n",
    "words = input_string.split()\n",
    "\n",
    "# Sort in alphabetical order\n",
    "sorted_words = sorted(words)\n",
    "\n",
    "print(\"Words sorted in alphabetical order:\")\n",
    "for word in sorted_words:\n",
    "    print(word)\n"
   ]
  },
  {
   "cell_type": "markdown",
   "id": "8a5df9dc",
   "metadata": {},
   "source": [
    "Q5. Write a Python Program to Remove Punctuation From a String?"
   ]
  },
  {
   "cell_type": "code",
   "execution_count": 5,
   "id": "085189f9",
   "metadata": {},
   "outputs": [
    {
     "name": "stdout",
     "output_type": "stream",
     "text": [
      "Enter a string with punctuation: i am a good boy, does i am!\n",
      "String after removing punctuation: i am a good boy does i am\n"
     ]
    }
   ],
   "source": [
    "# Answer:\n",
    "\n",
    "import string\n",
    "\n",
    "def remove_punctuation(input_string):\n",
    "    # Create a translation table mapping punctuation characters to None\n",
    "    translator = str.maketrans('', '', string.punctuation)\n",
    "    # Remove punctuation using translate method\n",
    "    cleaned_string = input_string.translate(translator)\n",
    "    return cleaned_string\n",
    "\n",
    "# Get input string from the user\n",
    "input_string = input(\"Enter a string with punctuation: \")\n",
    "\n",
    "# Remove punctuation from the input string\n",
    "cleaned_string = remove_punctuation(input_string)\n",
    "\n",
    "# Print the cleaned string\n",
    "print(\"String after removing punctuation:\", cleaned_string)\n"
   ]
  },
  {
   "cell_type": "code",
   "execution_count": null,
   "id": "3ed0969e",
   "metadata": {},
   "outputs": [],
   "source": []
  }
 ],
 "metadata": {
  "kernelspec": {
   "display_name": "Python 3 (ipykernel)",
   "language": "python",
   "name": "python3"
  },
  "language_info": {
   "codemirror_mode": {
    "name": "ipython",
    "version": 3
   },
   "file_extension": ".py",
   "mimetype": "text/x-python",
   "name": "python",
   "nbconvert_exporter": "python",
   "pygments_lexer": "ipython3",
   "version": "3.9.12"
  }
 },
 "nbformat": 4,
 "nbformat_minor": 5
}
