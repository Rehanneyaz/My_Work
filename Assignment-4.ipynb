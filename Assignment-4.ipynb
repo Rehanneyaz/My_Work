{
 "cells": [
  {
   "cell_type": "markdown",
   "id": "da58b3fe",
   "metadata": {},
   "source": [
    "Q1.What exactly is []?\n",
    "\n",
    "Answer:\n",
    "\n",
    "\n",
    "In Python, [] represents an empty list. A list is a collection of items enclosed within square brackets, and an empty list, denoted by [], contains no elements."
   ]
  },
  {
   "cell_type": "markdown",
   "id": "e375bf95",
   "metadata": {},
   "source": [
    "Q2. In a list of values stored in a variable called spam, how would you assign the value 'hell0' as the\n",
    "third value? (Assume [2, 4, 6, 8, 10] are in spam.)\n",
    "\n",
    "Answer:\n",
    "\n",
    "As we know that list is mutable and we can assign the value in it by calling by index number, so third value index is 2,\n",
    "\n",
    "spam= [2,4,6,8,10]\n",
    "\n",
    "spam[2]= 'hello'\n",
    "\n",
    "result:\n",
    "\n",
    "spam= [2, 4, 'hello', 8, 10]"
   ]
  },
  {
   "cell_type": "markdown",
   "id": "7016ac44",
   "metadata": {},
   "source": [
    "Q3. What is the value of spam[int(int('3'* 2) / 11)]?\n",
    "\n",
    "Answer:\n",
    "\n",
    "spam = ['a','b', 'c','d']\n",
    "\n",
    "The expression int(int('3'* 2) / 11) evaluates to 3, because '3'* 2 results in the string '33', then int('33') converts it to the integer 33, and finally 33 / 11 equals 3.\n",
    "\n",
    "So, spam[int(int('3'* 2) / 11)] is equivalent to spam[3], which accesses the element at index 3 in the list spam.Python, indexing starts from 0, so the element at index 3 in the list spam is 'd'."
   ]
  },
  {
   "cell_type": "markdown",
   "id": "b18d6e30",
   "metadata": {},
   "source": [
    "Q4.  What is the value of spam[-1]?\n",
    "\n",
    "Answer:\n",
    "\n",
    " The Negative indices count from the end of the list, with -1 representing the last element d, -2 representing the second last element c, and so on."
   ]
  },
  {
   "cell_type": "markdown",
   "id": "3a852dd3",
   "metadata": {},
   "source": [
    "Q5. What is the value of spam[:2]?\n",
    "\n",
    "Anwer:\n",
    "\n",
    "Negative indices count from the end of the list, with -1 representing the last element, -2 representing the second last element, and so on."
   ]
  },
  {
   "cell_type": "markdown",
   "id": "e04689e7",
   "metadata": {},
   "source": [
    "Q6. What is the value of bacon.index('cat')?\n",
    "\n",
    "Answer:\n",
    "\n",
    "Python index() method returns the index of the first occurrence of the specified element in a list. So, if we use bacon.index('cat') with the list [3.14,'cat',11,'cat',True], it will return the index of the first occurrence of the string 'cat' in the list.\n",
    "\n",
    "In this case, 'cat' first appears at index 1. So, bacon.index('cat') will return 1."
   ]
  },
  {
   "cell_type": "markdown",
   "id": "804b5bbc",
   "metadata": {},
   "source": [
    "Q7. How does bacon.append(99) change the look of the list value in bacon?\n",
    "\n",
    "Answer:\n",
    "\n",
    "When we use the append() method in Python to add an element to a list, the new element is added at the end of the list. So, if we use bacon.append(99) with the list [3.14,'cat',11,'cat',True], the value 99 will be added to the end of the list, modifying it as list [3.14,'cat',11,'cat',True,99]"
   ]
  },
  {
   "cell_type": "markdown",
   "id": "99d875a7",
   "metadata": {},
   "source": [
    "Q8. How does bacon.remove('cat') change the look of the list in bacon?\n",
    "\n",
    "Answer:\n",
    "\n",
    "When we use the remove() method in Python to remove an element from a list, it removes the first occurrence of the specified element from the list.\n",
    "\n",
    "So, if we use bacon.remove('cat') with the list [3.14,'cat',11,'cat',True,99], it will remove the first occurrence of the string 'cat' from the list and modify the list as list [3.14,11,'cat',True,99]"
   ]
  },
  {
   "cell_type": "markdown",
   "id": "74e5faf1",
   "metadata": {},
   "source": [
    "Q9. What are the list concatenation and list replication operators?\n",
    "\n",
    "Answer:\n",
    "\n",
    "In Python, the list concatenation operator is +, and it is used to concatenate two or more lists together, creating a new list containing all the elements of the concatenated lists.\n",
    "\n",
    "example:\n",
    "\n",
    "list1 = [1, 2, 3]\n",
    "list2 = [4, 5, 6]\n",
    "concatenated_list = list1 + list2\n",
    "print(concatenated_list)  # Output: [1, 2, 3, 4, 5, 6]\n",
    "\n",
    "\n",
    "The list replication operator is *, and it is used to create a new list by repeating the elements of an existing list a certain number of times.\n",
    "\n",
    "Here's an example:\n",
    "\n",
    "python\n",
    "Copy code\n",
    "list1 = [1, 2, 3]\n",
    "replicated_list = list1 * 3\n",
    "print(replicated_list)  # Output: [1, 2, 3, 1, 2, 3, 1, 2, 3]\n",
    "In this example, the elements of list1 are repeated three times to create the replicated_list."
   ]
  },
  {
   "cell_type": "markdown",
   "id": "21561538",
   "metadata": {},
   "source": [
    "Q10. What is difference between the list methods append() and insert()?\n",
    "\n",
    "Answer: The append() method adds an element to the end of a list, while the insert() method adds an element at a specified position within the list."
   ]
  },
  {
   "cell_type": "markdown",
   "id": "6cebcdf0",
   "metadata": {},
   "source": [
    "Q11. What are the two methods for removing items from a list?\n",
    "\n",
    "Answer:\n",
    "\n",
    " The two methods for removing items from a list are:\n",
    "\n",
    "1. remove(): Removes the first occurrence of a specified value from the list.\n",
    "2. pop(): Removes an element from the list at a specified index (or the last element if no index is specified) and returns that element.  "
   ]
  },
  {
   "cell_type": "markdown",
   "id": "2f4e182f",
   "metadata": {},
   "source": [
    "Q12. Describe how list values and string values are identical.\n",
    "\n",
    "Answer:\n",
    "\n",
    "Both list values and string values are ordered collections of items. They can be accessed by index, sliced, and iterated over."
   ]
  },
  {
   "cell_type": "markdown",
   "id": "4fafaaef",
   "metadata": {},
   "source": [
    "Q13. What is the difference between tuples and lists?\n",
    "\n",
    "Answer:\n",
    "\n",
    "The main difference between tuples and lists is that tuples are immutable (unchangeable), while lists are mutable (changeable). Once a tuple is created, its elements cannot be modified, added, or removed, whereas lists can be modified after creation."
   ]
  },
  {
   "cell_type": "markdown",
   "id": "7c3f4538",
   "metadata": {},
   "source": [
    "Q.14. How do you type a tuple value that only contains the integer 42?\n",
    "\n",
    "Answer:\n",
    "\n",
    "To create a tuple containing the integer 42, we would enclose the integer value within parentheses. Here's how you would type it:\n",
    "\n",
    "python\n",
    "Copy code\n",
    "my_tuple = (42,)\n",
    "The comma after the integer is necessary to indicate that it's a tuple with only one element. Without the comma, Python would interpret the parentheses as just a mathematical operation."
   ]
  },
  {
   "cell_type": "markdown",
   "id": "5d1a5e12",
   "metadata": {},
   "source": [
    "Q15. How do you get a list value&#39;s tuple form? How do you get a tuple value's list form?\n",
    "\n",
    "Answer:\n",
    "\n",
    "To convert a list value into its tuple form, we can use the tuple() function. Here's an example:\n",
    "\n",
    "python\n",
    "Copy code\n",
    "my_list = [1, 2, 3, 4, 5]\n",
    "tuple_form = tuple(my_list)\n",
    "print(tuple_form)\n",
    "To convert a tuple value into its list form, we can use the list() function. Here's an example:\n",
    "\n",
    "python\n",
    "Copy code\n",
    "my_tuple = (1, 2, 3, 4, 5)\n",
    "list_form = list(my_tuple)\n",
    "print(list_form)"
   ]
  },
  {
   "cell_type": "markdown",
   "id": "b2381e77",
   "metadata": {},
   "source": [
    "Q16.  Variables that &quot;contain&quot; list values are not necessarily lists themselves. Instead, what do they\n",
    "contain?\n",
    "\n",
    "Answer:\n",
    "    \n",
    "  Variables that \"contain\" list values in Python actually contain references to the list objects in memory. In other words, they contain pointers or memory addresses that point to the location of the list in memory. So, when we assign a list to a variable, the variable holds a reference to that list, not the list itself. This is why we can have multiple variables referencing the same list object, and modifications made through one variable affect the list accessible through the other variables.  "
   ]
  },
  {
   "cell_type": "markdown",
   "id": "e2b5b12a",
   "metadata": {},
   "source": [
    "Q17. How do you distinguish between copy.copy() and copy.deepcopy()?\n",
    "\n",
    "Answer:\n",
    "\n",
    "copy.copy() creates a shallow copy of an object, meaning it duplicates the object's top-level structure, but the inner objects are shared between the original and the copy. It's suitable for simple objects like lists or dictionaries.\n",
    "\n",
    "copy.deepcopy() creates a deep copy of an object, meaning it recursively copies all nested objects, so the copied object is entirely independent of the original. It's suitable for complex nested structures where you want to ensure complete separation between the original and the copy."
   ]
  },
  {
   "cell_type": "code",
   "execution_count": null,
   "id": "fa3f3aba",
   "metadata": {},
   "outputs": [],
   "source": []
  }
 ],
 "metadata": {
  "kernelspec": {
   "display_name": "Python 3 (ipykernel)",
   "language": "python",
   "name": "python3"
  },
  "language_info": {
   "codemirror_mode": {
    "name": "ipython",
    "version": 3
   },
   "file_extension": ".py",
   "mimetype": "text/x-python",
   "name": "python",
   "nbconvert_exporter": "python",
   "pygments_lexer": "ipython3",
   "version": "3.9.12"
  }
 },
 "nbformat": 4,
 "nbformat_minor": 5
}
