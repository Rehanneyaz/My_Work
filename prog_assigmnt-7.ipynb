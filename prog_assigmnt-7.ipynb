{
 "cells": [
  {
   "cell_type": "markdown",
   "id": "b2581a50",
   "metadata": {},
   "source": [
    "Q1. Write a Python Program to find sum of array?"
   ]
  },
  {
   "cell_type": "code",
   "execution_count": 3,
   "id": "f32e67ee",
   "metadata": {},
   "outputs": [
    {
     "name": "stdout",
     "output_type": "stream",
     "text": [
      "Enter the elements of the array separated by space: 1 2 3 4 5 6 \n",
      "The sum of elements in the array is: 21\n"
     ]
    }
   ],
   "source": [
    "#Answer:\n",
    "\n",
    "\n",
    "array = input(\"Enter the elements of the array separated by space: \")\n",
    "\n",
    "# Convert the input string to a list of integers\n",
    "array = list(map(int, array.split()))\n",
    "\n",
    "# Calculate the sum of elements in the array\n",
    "array_sum = sum(array)\n",
    "\n",
    "print(f\"The sum of elements in the array is: {array_sum}\")\n"
   ]
  },
  {
   "cell_type": "markdown",
   "id": "8a58abcc",
   "metadata": {},
   "source": [
    "Q2. Write a Python Program to find largest element in an array?"
   ]
  },
  {
   "cell_type": "code",
   "execution_count": 4,
   "id": "aeff90c9",
   "metadata": {},
   "outputs": [
    {
     "name": "stdout",
     "output_type": "stream",
     "text": [
      "Enter the elements of the array separated by space: 1 2 4 8 45 78\n",
      "The largest element in the array is: 78\n"
     ]
    }
   ],
   "source": [
    "# Answer:\n",
    "\n",
    "#\n",
    "array = input(\"Enter the elements of the array separated by space: \")\n",
    "\n",
    "# Convert the input string to a list of integers\n",
    "array = list(map(int, array.split()))\n",
    "\n",
    "# Find the largest element in the array\n",
    "largest_element = max(array)\n",
    "\n",
    "# Print the largest element\n",
    "print(f\"The largest element in the array is: {largest_element}\")\n"
   ]
  },
  {
   "cell_type": "markdown",
   "id": "ffeb83b3",
   "metadata": {},
   "source": [
    "Q3. Write a Python Program for array rotation?"
   ]
  },
  {
   "cell_type": "code",
   "execution_count": 7,
   "id": "136cb097",
   "metadata": {},
   "outputs": [
    {
     "name": "stdout",
     "output_type": "stream",
     "text": [
      "Enter the elements of the array separated by space: 1 2 4 5 7\n",
      "Enter the number of rotations: 2\n",
      "Original array: [1, 2, 4, 5, 7]\n",
      "Rotated array: [4, 5, 7, 1, 2]\n"
     ]
    }
   ],
   "source": [
    "def rotate_array(arr, k):\n",
    "    n = len(arr)\n",
    "    # Handle the case when k is greater than n\n",
    "    k = k % n\n",
    "    # Rotate the array using slicing\n",
    "    rotated_array = arr[k:] + arr[:k]\n",
    "    return rotated_array\n",
    "\n",
    "# Get the array from the user\n",
    "array = input(\"Enter the elements of the array separated by space: \")\n",
    "\n",
    "# Convert the input string to a list of integers\n",
    "array = list(map(int, array.split()))\n",
    "\n",
    "# Get the value of k (number of rotations) from the user\n",
    "k = int(input(\"Enter the number of rotations: \"))\n",
    "\n",
    "# Rotate the array\n",
    "rotated_array = rotate_array(array, k)\n",
    "\n",
    "# Print the rotated array\n",
    "print(\"Original array:\", array)\n",
    "print(\"Rotated array:\", rotated_array)\n"
   ]
  },
  {
   "cell_type": "markdown",
   "id": "fbc9d41f",
   "metadata": {},
   "source": [
    "Q4. Write a Python Program to Split the array and add the first part to the end?"
   ]
  },
  {
   "cell_type": "code",
   "execution_count": 8,
   "id": "f07f37be",
   "metadata": {},
   "outputs": [
    {
     "name": "stdout",
     "output_type": "stream",
     "text": [
      "Enter the elements of the array separated by space: 5 4 6 7 8 4\n",
      "Enter the split index: 3\n",
      "Original array: [5, 4, 6, 7, 8, 4]\n",
      "Array after splitting and adding: [7, 8, 4, 5, 4, 6]\n"
     ]
    }
   ],
   "source": [
    "# Answer:\n",
    "\n",
    "def split_and_add(arr, k):\n",
    "    n = len(arr)\n",
    "    # Split the array into two parts\n",
    "    first_part = arr[:k]\n",
    "    second_part = arr[k:]\n",
    "    # Add the first part to the end\n",
    "    rotated_array = second_part + first_part\n",
    "    return rotated_array\n",
    "\n",
    "# Get the array from the user\n",
    "array = input(\"Enter the elements of the array separated by space: \")\n",
    "\n",
    "# Convert the input string to a list of integers\n",
    "array = list(map(int, array.split()))\n",
    "\n",
    "# Get the value of k (split index) from the user\n",
    "k = int(input(\"Enter the split index: \"))\n",
    "\n",
    "# Split the array and add the first part to the end\n",
    "result_array = split_and_add(array, k)\n",
    "\n",
    "# Print the result\n",
    "print(\"Original array:\", array)\n",
    "print(\"Array after splitting and adding:\", result_array)\n"
   ]
  },
  {
   "cell_type": "markdown",
   "id": "fe31a49f",
   "metadata": {},
   "source": [
    "Q5. Write a Python Program to check if given array is Monotonic?"
   ]
  },
  {
   "cell_type": "code",
   "execution_count": 9,
   "id": "03dc3c86",
   "metadata": {},
   "outputs": [
    {
     "name": "stdout",
     "output_type": "stream",
     "text": [
      "Enter the elements of the array separated by space: 1 2 3 4 5 \n",
      "The given array is monotonic.\n"
     ]
    }
   ],
   "source": [
    "# Answer:\n",
    "\n",
    "def is_monotonic(arr):\n",
    "    # Check if the array is non-decreasing\n",
    "    non_decreasing = all(arr[i] <= arr[i+1] for i in range(len(arr)-1))\n",
    "    # Check if the array is non-increasing\n",
    "    non_increasing = all(arr[i] >= arr[i+1] for i in range(len(arr)-1))\n",
    "    # Return True if either condition is True\n",
    "    return non_decreasing or non_increasing\n",
    "\n",
    "# Get the array from the user\n",
    "array = input(\"Enter the elements of the array separated by space: \")\n",
    "\n",
    "# Convert the input string to a list of integers\n",
    "array = list(map(int, array.split()))\n",
    "\n",
    "# Check if the array is monotonic\n",
    "result = is_monotonic(array)\n",
    "\n",
    "# Print the result\n",
    "if result:\n",
    "    print(\"The given array is monotonic.\")\n",
    "else:\n",
    "    print(\"The given array is not monotonic.\")\n"
   ]
  },
  {
   "cell_type": "code",
   "execution_count": null,
   "id": "8025cdcb",
   "metadata": {},
   "outputs": [],
   "source": []
  }
 ],
 "metadata": {
  "kernelspec": {
   "display_name": "Python 3 (ipykernel)",
   "language": "python",
   "name": "python3"
  },
  "language_info": {
   "codemirror_mode": {
    "name": "ipython",
    "version": 3
   },
   "file_extension": ".py",
   "mimetype": "text/x-python",
   "name": "python",
   "nbconvert_exporter": "python",
   "pygments_lexer": "ipython3",
   "version": "3.9.12"
  }
 },
 "nbformat": 4,
 "nbformat_minor": 5
}
