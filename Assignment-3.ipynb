{
 "cells": [
  {
   "cell_type": "markdown",
   "id": "67b30d66",
   "metadata": {},
   "source": [
    "Q1.Why are functions advantageous to have in your programs?\n",
    "\n",
    "\n",
    "Answer:\n",
    "    \n",
    "Functions are advantageous in programming for several reasons:\n",
    "\n",
    "1. Modularity: Functions allow you to break down complex problems into smaller, manageable pieces. Each function can handle a specific part of the problem, making the code more organized and easier to understand.\n",
    "\n",
    "2. Reusability: Once a function is written and tested, it can be reused in other parts of the program or in different programs. This avoids the need to write the same code multiple times, saving development time and effort.\n",
    "\n",
    "3. Maintainability: Functions make it easier to maintain and update the code. If a change is needed, it can often be made in just one place (the function definition) rather than in multiple locations throughout the program.\n",
    "\n",
    "4. Readability: Well-named functions make the code more readable by providing a clear indication of what each part of the code does. This makes it easier for other developers (and yourself) to understand the code when reviewing or debugging it later.\n",
    "\n",
    "5. Abstraction: Functions allow you to abstract away complex details, providing a higher-level interface to certain operations. This can make it easier to think about and solve problems without getting bogged down in the specifics of implementation.\n",
    "\n",
    "6. Testing and Debugging: Functions enable easier testing and debugging. You can test functions individually to ensure they work correctly before integrating them into the larger program. This modular approach makes it easier to isolate and fix bugs.\n",
    "\n",
    "7. Encapsulation: Functions can encapsulate data and operations, which helps in protecting the internal state of an application from unintended interference. This principle is particularly important in object-oriented programming.\n",
    "\n",
    "8. Parameterization: Functions can take parameters, allowing them to perform their task with different inputs. This flexibility means that a single function can be used in a variety of situations.\n",
    "\n",
    "Overall, functions contribute to cleaner, more efficient, and more maintainable code, which is essential for effective software development."
   ]
  },
  {
   "cell_type": "markdown",
   "id": "3fff8219",
   "metadata": {},
   "source": [
    "Q2.When does the code in a function run: when its specified or when its called?\n",
    "\n",
    "Answer:\n",
    "    \n",
    "    The code in a function runs when it’s called."
   ]
  },
  {
   "cell_type": "markdown",
   "id": "36d66aca",
   "metadata": {},
   "source": [
    "Q3. What statement creates a function?\n",
    "\n",
    "Answer:\n",
    "\n",
    "The \"def\" statement creates a function in Python.\n"
   ]
  },
  {
   "cell_type": "markdown",
   "id": "99b8505e",
   "metadata": {},
   "source": [
    "Q4. What is the difference between a function and a function call?\n",
    "\n",
    "Answer:\n",
    "\n",
    "A function is a block of code defined to perform a specific task, while a function call is the execution of that function,starting its code to run."
   ]
  },
  {
   "cell_type": "markdown",
   "id": "bae5d207",
   "metadata": {},
   "source": [
    "Q5. How many global scopes are there in a Python program? How many local scopes?\n",
    "\n",
    "Answer:\n",
    "There is one global scope in a Python program, and each function call creates its own local scope.\n",
    "\n"
   ]
  },
  {
   "cell_type": "markdown",
   "id": "9ff68b68",
   "metadata": {},
   "source": [
    "Q6. What happens to variables in a local scope when the function call returns?\n",
    "\n",
    "Answer:\n",
    "\n",
    "When the function call returns, variables in the local scope are destroyed.\n"
   ]
  },
  {
   "cell_type": "markdown",
   "id": "b80915c0",
   "metadata": {},
   "source": [
    "Q7. What is the concept of a return value? Is it possible to have a return value in an expression?\n",
    "\n",
    "Answer:\n",
    "\n",
    "The concept of a return value is the value that a function gives back when it completes its execution. Yes, it is possible to have a return value in an expression, as the return value can be used directly in further process or assignments within an expression."
   ]
  },
  {
   "cell_type": "markdown",
   "id": "6839e736",
   "metadata": {},
   "source": [
    "Q8.If a function does not have a return statement, what is the return value of a call to that function?\n",
    "\n",
    "Answer:\n",
    "\n",
    "If a function does not have a return statement, the return value of a call to that function is None."
   ]
  },
  {
   "cell_type": "markdown",
   "id": "001a050c",
   "metadata": {},
   "source": [
    "Q9. How do you make a function variable refer to the global variable?\n",
    "\n",
    "Answer:\n",
    "\n",
    "To make a function variable refer to a global variable in Python, we can use the global keyword inside the function.\n",
    "\n",
    "example:\n",
    "\n",
    "x = 10\n",
    "\n",
    "def my_function():\n",
    "    global x\n",
    "    x = 20\n",
    "\n",
    "my_function()\n",
    "print(x)  # Output will be 20 bcoz of global variable value will be overwrite.\n",
    "\n"
   ]
  },
  {
   "cell_type": "markdown",
   "id": "8af60491",
   "metadata": {},
   "source": [
    "Q10. What is the data type of None?\n",
    "\n",
    "Answer:\n",
    "\n",
    "in Python, the data type of None is \"NoneType\"\n",
    "\n"
   ]
  },
  {
   "cell_type": "markdown",
   "id": "c6370072",
   "metadata": {},
   "source": [
    "Q11. What does the sentence import areallyourpetsnamederic do?\n",
    "\n",
    "Answer:\n",
    "\n",
    "The sentence import areallyyourpetsnamederic will result in an ImportError because there is no module named areallyourpetsnamederic."
   ]
  },
  {
   "cell_type": "markdown",
   "id": "595d206b",
   "metadata": {},
   "source": [
    "Q12. If you had a bacon() feature in a spam module, what would you call it after importing spam?\n",
    "\n",
    "Answer:\n",
    "\n",
    "After importing the spam module,we call the bacon() function using dot notation.\n",
    "\n",
    "example:\n",
    "\n",
    "import spam\n",
    "\n",
    "spam.bacon()\n",
    "\n",
    "This would execute the bacon() function defined in the spam module."
   ]
  },
  {
   "cell_type": "markdown",
   "id": "d3a84e3a",
   "metadata": {},
   "source": [
    "Q13. What can you do to save a programme from crashing if it encounters an error?\n",
    "\n",
    "Answer:\n",
    "    \n",
    "   To prevent a program from crashing when it encounters an error, we need to use error handling techniques such as try,raise,finally or except blocks. "
   ]
  },
  {
   "cell_type": "markdown",
   "id": "0e8ec983",
   "metadata": {},
   "source": [
    "Q14. What is the purpose of the try clause? What is the purpose of the except clause?\n",
    "\n",
    "Answer:\n",
    "    \n",
    "The purpose of the try clause in a try-except block is to enclose the code that may potentially raise an exception or an error. It allows you to execute this code within a protected environment.\n",
    "\n",
    "The purpose of the except clause is to specify the actions to be taken if an exception occurs within the corresponding try block. It allows you to catch specific exceptions or handle any exception that occurs during the execution of the try block."
   ]
  },
  {
   "cell_type": "code",
   "execution_count": null,
   "id": "5faaa7c7",
   "metadata": {},
   "outputs": [],
   "source": []
  }
 ],
 "metadata": {
  "kernelspec": {
   "display_name": "Python 3 (ipykernel)",
   "language": "python",
   "name": "python3"
  },
  "language_info": {
   "codemirror_mode": {
    "name": "ipython",
    "version": 3
   },
   "file_extension": ".py",
   "mimetype": "text/x-python",
   "name": "python",
   "nbconvert_exporter": "python",
   "pygments_lexer": "ipython3",
   "version": "3.9.12"
  }
 },
 "nbformat": 4,
 "nbformat_minor": 5
}
