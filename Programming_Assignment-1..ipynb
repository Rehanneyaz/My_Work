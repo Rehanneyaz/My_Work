{
 "cells": [
  {
   "cell_type": "markdown",
   "id": "987bbaaf",
   "metadata": {},
   "source": [
    "Q1. Write a Python program to print \"Hello Python\"?"
   ]
  },
  {
   "cell_type": "code",
   "execution_count": 2,
   "id": "4a3bf7f5",
   "metadata": {},
   "outputs": [
    {
     "name": "stdout",
     "output_type": "stream",
     "text": [
      "Hello Python\n"
     ]
    }
   ],
   "source": [
    "# Answer:\n",
    "\n",
    "# A simple program to print \"Hello Python\"\n",
    "\n",
    "print(\"Hello Python\")"
   ]
  },
  {
   "cell_type": "markdown",
   "id": "5e47ac39",
   "metadata": {},
   "source": [
    "Q2. Write a Python program to do arithmetical operations addition and division.?"
   ]
  },
  {
   "cell_type": "code",
   "execution_count": 6,
   "id": "3fc9b4f2",
   "metadata": {},
   "outputs": [
    {
     "name": "stdout",
     "output_type": "stream",
     "text": [
      "enter the value for a400\n",
      "enter the value for b100\n",
      "the value of addition 500\n",
      "the value of division 4.0\n"
     ]
    }
   ],
   "source": [
    "#Answer:\n",
    "\n",
    "# lets declare the variables and assign the values\n",
    "\n",
    "a = int(input(\"enter the value for a\"))\n",
    "b= int(input(\"enter the value for b\"))\n",
    "\n",
    "# for addition\n",
    "\n",
    "c = a+b \n",
    "print(f\"the value of addition\", c)\n",
    "# for division\n",
    "\n",
    "d = a/b\n",
    "print(f\"the value of division\", d)"
   ]
  },
  {
   "cell_type": "markdown",
   "id": "4f2d9c59",
   "metadata": {},
   "source": [
    "Q3. Write a Python program to find the area of a triangle?"
   ]
  },
  {
   "cell_type": "code",
   "execution_count": 8,
   "id": "d51d874f",
   "metadata": {},
   "outputs": [
    {
     "name": "stdout",
     "output_type": "stream",
     "text": [
      "enter the base of triangle10\n",
      "enter the height of triangle20\n",
      "he value of area of a triangle 100.0\n"
     ]
    }
   ],
   "source": [
    "#Answer:\n",
    "\n",
    "# for area of triangle we need, base and height\n",
    "# area of triangle = (b*h)/2\n",
    "\n",
    "base = int(input(\"enter the base of triangle\"))\n",
    "height = int(input(\"enter the height of triangle\"))\n",
    "\n",
    "area_of_triangle = (base*height)/2\n",
    "\n",
    "print(f\"he value of area of a triangle\", area_of_triangle)"
   ]
  },
  {
   "cell_type": "markdown",
   "id": "ead2c821",
   "metadata": {},
   "source": [
    "Q4. Write a Python program to swap two variables?"
   ]
  },
  {
   "cell_type": "code",
   "execution_count": 9,
   "id": "ea1ea459",
   "metadata": {},
   "outputs": [
    {
     "name": "stdout",
     "output_type": "stream",
     "text": [
      "Enter the first variable: 50\n",
      "Enter the second variable: 40\n",
      "Before swapping: x = 50, y = 40\n",
      "After swapping: x = 40, y = 50\n"
     ]
    }
   ],
   "source": [
    "#Answer:\n",
    "\n",
    "# This program swaps the values of two variables\n",
    "\n",
    "# Function to swap two variables\n",
    "def swap(a, b):\n",
    "    return b, a\n",
    "\n",
    "# Taking input from the user\n",
    "x = input(\"Enter the first variable: \")\n",
    "y = input(\"Enter the second variable: \")\n",
    "\n",
    "print(f\"Before swapping: x = {x}, y = {y}\")\n",
    "\n",
    "# Swapping the variables\n",
    "x, y = swap(x, y)\n",
    "\n",
    "print(f\"After swapping: x = {x}, y = {y}\")\n"
   ]
  },
  {
   "cell_type": "markdown",
   "id": "d79b8686",
   "metadata": {},
   "source": [
    "Q5. Write a Python program to generate a random number?"
   ]
  },
  {
   "cell_type": "code",
   "execution_count": 15,
   "id": "5cf1f5b5",
   "metadata": {},
   "outputs": [
    {
     "name": "stdout",
     "output_type": "stream",
     "text": [
      "Random integer between 1 and 100: 44\n"
     ]
    }
   ],
   "source": [
    "#Answer:\n",
    "import random\n",
    "start = 1\n",
    "end = 100\n",
    "random_integer = random.randint(start, end)\n",
    "print(f\"Random integer between {start} and {end}: {random_integer}\")"
   ]
  },
  {
   "cell_type": "code",
   "execution_count": null,
   "id": "4789fe95",
   "metadata": {},
   "outputs": [],
   "source": []
  },
  {
   "cell_type": "code",
   "execution_count": null,
   "id": "ff644992",
   "metadata": {},
   "outputs": [],
   "source": []
  },
  {
   "cell_type": "code",
   "execution_count": null,
   "id": "a2208f04",
   "metadata": {},
   "outputs": [],
   "source": []
  }
 ],
 "metadata": {
  "kernelspec": {
   "display_name": "Python 3 (ipykernel)",
   "language": "python",
   "name": "python3"
  },
  "language_info": {
   "codemirror_mode": {
    "name": "ipython",
    "version": 3
   },
   "file_extension": ".py",
   "mimetype": "text/x-python",
   "name": "python",
   "nbconvert_exporter": "python",
   "pygments_lexer": "ipython3",
   "version": "3.9.12"
  }
 },
 "nbformat": 4,
 "nbformat_minor": 5
}
