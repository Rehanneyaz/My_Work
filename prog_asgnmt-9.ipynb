{
 "cells": [
  {
   "cell_type": "markdown",
   "id": "10d04f17",
   "metadata": {},
   "source": [
    "Q1. Write a Python program to check if the given number is a Disarium Number?"
   ]
  },
  {
   "cell_type": "code",
   "execution_count": 4,
   "id": "a41667ee",
   "metadata": {},
   "outputs": [
    {
     "name": "stdout",
     "output_type": "stream",
     "text": [
      "Enter a number: 8\n",
      "8 is a Disarium number.\n"
     ]
    }
   ],
   "source": [
    "# Answer:\n",
    "\n",
    "def is_disarium(number):\n",
    "    # Convert the number to a string to iterate over its digits\n",
    "    num_str = str(number)\n",
    "    # Initialize sum to 0\n",
    "    digit_sum = 0\n",
    "    # Iterate over each digit and its position\n",
    "    for i, digit_char in enumerate(num_str, 1):\n",
    "        # Convert the digit character back to integer\n",
    "        digit = int(digit_char)\n",
    "        # Calculate digit raised to its position and add it to the sum\n",
    "        digit_sum += digit ** i\n",
    "    # Check if the sum is equal to the original number\n",
    "    return digit_sum == number\n",
    "\n",
    "# Get input from the user\n",
    "number = int(input(\"Enter a number: \"))\n",
    "\n",
    "# Check if the number is a Disarium number\n",
    "if is_disarium(number):\n",
    "    print(number, \"is a Disarium number.\")\n",
    "else:\n",
    "    print(number, \"is not a Disarium number.\")\n"
   ]
  },
  {
   "cell_type": "markdown",
   "id": "ba45eeed",
   "metadata": {},
   "source": [
    "Q2. Write a Python program to print all disarium numbers between 1 to 100?"
   ]
  },
  {
   "cell_type": "code",
   "execution_count": 5,
   "id": "5f187d6f",
   "metadata": {},
   "outputs": [
    {
     "name": "stdout",
     "output_type": "stream",
     "text": [
      "Disarium numbers between 1 and 100:\n",
      "1\n",
      "2\n",
      "3\n",
      "4\n",
      "5\n",
      "6\n",
      "7\n",
      "8\n",
      "9\n",
      "89\n"
     ]
    }
   ],
   "source": [
    "# Answer:\n",
    "\n",
    "def is_disarium(number):\n",
    "    # Convert the number to a string to iterate over its digits\n",
    "    num_str = str(number)\n",
    "    # Initialize sum to 0\n",
    "    digit_sum = 0\n",
    "    # Iterate over each digit and its position\n",
    "    for i, digit_char in enumerate(num_str, 1):\n",
    "        # Convert the digit character back to integer\n",
    "        digit = int(digit_char)\n",
    "        # Calculate digit raised to its position and add it to the sum\n",
    "        digit_sum += digit ** i\n",
    "    # Check if the sum is equal to the original number\n",
    "    return digit_sum == number\n",
    "\n",
    "# Iterate over numbers from 1 to 100 and check if each is a Disarium number\n",
    "print(\"Disarium numbers between 1 and 100:\")\n",
    "for num in range(1, 101):\n",
    "    if is_disarium(num):\n",
    "        print(num)\n"
   ]
  },
  {
   "cell_type": "markdown",
   "id": "d018110a",
   "metadata": {},
   "source": [
    "Q3. Write a Python program to check if the given number is Happy Number?"
   ]
  },
  {
   "cell_type": "code",
   "execution_count": 6,
   "id": "24556d6b",
   "metadata": {},
   "outputs": [
    {
     "name": "stdout",
     "output_type": "stream",
     "text": [
      "Enter a number: 45\n",
      "45 is not a Happy number.\n"
     ]
    }
   ],
   "source": [
    "def is_happy_number(number):\n",
    "    def square_of_digits(n):\n",
    "        return sum(int(digit) ** 2 for digit in str(n))\n",
    "\n",
    "    seen = set()\n",
    "    while number != 1 and number not in seen:\n",
    "        seen.add(number)\n",
    "        number = square_of_digits(number)\n",
    "    return number == 1\n",
    "\n",
    "# Get input from the user\n",
    "number = int(input(\"Enter a number: \"))\n",
    "\n",
    "# Check if the number is a Happy number\n",
    "if is_happy_number(number):\n",
    "    print(number, \"is a Happy number.\")\n",
    "else:\n",
    "    print(number, \"is not a Happy number.\")\n"
   ]
  },
  {
   "cell_type": "markdown",
   "id": "578a76f6",
   "metadata": {},
   "source": [
    "Q4. Write a Python program to print all happy numbers between 1 and 100?"
   ]
  },
  {
   "cell_type": "code",
   "execution_count": 7,
   "id": "7d9c79ee",
   "metadata": {},
   "outputs": [
    {
     "name": "stdout",
     "output_type": "stream",
     "text": [
      "Happy numbers between 1 and 100:\n",
      "1\n",
      "7\n",
      "10\n",
      "13\n",
      "19\n",
      "23\n",
      "28\n",
      "31\n",
      "32\n",
      "44\n",
      "49\n",
      "68\n",
      "70\n",
      "79\n",
      "82\n",
      "86\n",
      "91\n",
      "94\n",
      "97\n",
      "100\n"
     ]
    }
   ],
   "source": [
    "#Answer: \n",
    "\n",
    "def is_happy_number(number):\n",
    "    def square_of_digits(n):\n",
    "        return sum(int(digit) ** 2 for digit in str(n))\n",
    "\n",
    "    seen = set()\n",
    "    while number != 1 and number not in seen:\n",
    "        seen.add(number)\n",
    "        number = square_of_digits(number)\n",
    "    return number == 1\n",
    "\n",
    "# Iterate over numbers from 1 to 100 and check if each is a Happy number\n",
    "print(\"Happy numbers between 1 and 100:\")\n",
    "for num in range(1, 101):\n",
    "    if is_happy_number(num):\n",
    "        print(num)\n"
   ]
  },
  {
   "cell_type": "markdown",
   "id": "65b6872f",
   "metadata": {},
   "source": [
    "Q5. Write a Python program to determine whether the given number is a Harshad Number?"
   ]
  },
  {
   "cell_type": "code",
   "execution_count": 8,
   "id": "6b867abb",
   "metadata": {},
   "outputs": [
    {
     "name": "stdout",
     "output_type": "stream",
     "text": [
      "Enter a number: 56\n",
      "56 is not a Harshad Number.\n"
     ]
    }
   ],
   "source": [
    "#Answer:\n",
    "\n",
    "def is_harshad_number(number):\n",
    "    # Calculate the sum of digits of the number\n",
    "    digit_sum = sum(int(digit) for digit in str(number))\n",
    "    # Check if the number is divisible by its sum of digits\n",
    "    return number % digit_sum == 0\n",
    "\n",
    "# Get input from the user\n",
    "number = int(input(\"Enter a number: \"))\n",
    "\n",
    "# Check if the number is a Harshad Number\n",
    "if is_harshad_number(number):\n",
    "    print(number, \"is a Harshad Number.\")\n",
    "else:\n",
    "    print(number, \"is not a Harshad Number.\")\n"
   ]
  },
  {
   "cell_type": "markdown",
   "id": "ca183758",
   "metadata": {},
   "source": [
    "Q6. Write a Python program to print all pronic numbers between 1 and 100?"
   ]
  },
  {
   "cell_type": "code",
   "execution_count": 9,
   "id": "00f54fb1",
   "metadata": {},
   "outputs": [
    {
     "name": "stdout",
     "output_type": "stream",
     "text": [
      "Pronic numbers between 1 and 100:\n",
      "2\n",
      "6\n",
      "12\n",
      "20\n",
      "30\n",
      "42\n",
      "56\n",
      "72\n",
      "90\n"
     ]
    }
   ],
   "source": [
    "#Answer:\n",
    "\n",
    "def is_pronic(number):\n",
    "    for i in range(1, int(number**0.5) + 1):\n",
    "        if i * (i + 1) == number:\n",
    "            return True\n",
    "    return False\n",
    "\n",
    "# Iterate over numbers from 1 to 100 and check if each is a pronic number\n",
    "print(\"Pronic numbers between 1 and 100:\")\n",
    "for num in range(1, 101):\n",
    "    if is_pronic(num):\n",
    "        print(num)\n"
   ]
  },
  {
   "cell_type": "code",
   "execution_count": null,
   "id": "2c095711",
   "metadata": {},
   "outputs": [],
   "source": []
  }
 ],
 "metadata": {
  "kernelspec": {
   "display_name": "Python 3 (ipykernel)",
   "language": "python",
   "name": "python3"
  },
  "language_info": {
   "codemirror_mode": {
    "name": "ipython",
    "version": 3
   },
   "file_extension": ".py",
   "mimetype": "text/x-python",
   "name": "python",
   "nbconvert_exporter": "python",
   "pygments_lexer": "ipython3",
   "version": "3.9.12"
  }
 },
 "nbformat": 4,
 "nbformat_minor": 5
}
