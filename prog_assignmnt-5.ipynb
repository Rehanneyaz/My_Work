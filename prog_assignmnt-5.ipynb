{
 "cells": [
  {
   "cell_type": "markdown",
   "id": "6a0614e8",
   "metadata": {},
   "source": [
    "Q1. Write a Python Program to Find LCM?"
   ]
  },
  {
   "cell_type": "code",
   "execution_count": 2,
   "id": "1799a2b8",
   "metadata": {},
   "outputs": [
    {
     "name": "stdout",
     "output_type": "stream",
     "text": [
      "Enter the first number: 12\n",
      "Enter the second number: 20\n",
      "The LCM of 12 and 20 is 60.\n"
     ]
    }
   ],
   "source": [
    "#Answer:\n",
    "\n",
    "import math\n",
    "\n",
    "\n",
    "def lcm(a, b):\n",
    "    return abs(a * b) // math.gcd(a, b)\n",
    "\n",
    "\n",
    "num1 = int(input(\"Enter the first number: \"))\n",
    "num2 = int(input(\"Enter the second number: \"))\n",
    "\n",
    "result = lcm(num1, num2)\n",
    "\n",
    "print(f\"The LCM of {num1} and {num2} is {result}.\")\n"
   ]
  },
  {
   "cell_type": "markdown",
   "id": "f8c9c27c",
   "metadata": {},
   "source": [
    "Q2. Write a Python Program to Find HCF?"
   ]
  },
  {
   "cell_type": "code",
   "execution_count": 4,
   "id": "92275964",
   "metadata": {},
   "outputs": [
    {
     "name": "stdout",
     "output_type": "stream",
     "text": [
      "Enter the first number: 78\n",
      "Enter the second number: 58\n",
      "The hcf of 78 and 58 is 2.\n"
     ]
    }
   ],
   "source": [
    "# Answer:\n",
    "\n",
    "import math\n",
    "\n",
    "\n",
    "num1 = int(input(\"Enter the first number: \"))\n",
    "num2 = int(input(\"Enter the second number: \"))\n",
    "\n",
    "# Calculating hcf\n",
    "hcf = math.gcd(num1, num2)\n",
    "\n",
    "\n",
    "print(f\"The hcf of {num1} and {num2} is {hcf}.\")\n"
   ]
  },
  {
   "cell_type": "markdown",
   "id": "6bafec9c",
   "metadata": {},
   "source": [
    "Q3. Write a Python Program to Convert Decimal to Binary, Octal and Hexadecimal?"
   ]
  },
  {
   "cell_type": "code",
   "execution_count": 5,
   "id": "905286fa",
   "metadata": {},
   "outputs": [
    {
     "name": "stdout",
     "output_type": "stream",
     "text": [
      "Enter a decimal number: 4564\n",
      "Binary representation: 0b1000111010100\n",
      "Octal representation: 0o10724\n",
      "Hexadecimal representation: 0x11d4\n"
     ]
    }
   ],
   "source": [
    "#Answer:\n",
    "\n",
    "\n",
    "decimal = int(input(\"Enter a decimal number: \"))\n",
    "\n",
    "\n",
    "binary = bin(decimal)\n",
    "octal = oct(decimal)\n",
    "hexadecimal = hex(decimal)\n",
    "\n",
    "\n",
    "print(f\"Binary representation: {binary}\")\n",
    "print(f\"Octal representation: {octal}\")\n",
    "print(f\"Hexadecimal representation: {hexadecimal}\")\n"
   ]
  },
  {
   "cell_type": "markdown",
   "id": "ae0a6377",
   "metadata": {},
   "source": [
    "Q4. Write a Python Program To Find ASCII value of a character?"
   ]
  },
  {
   "cell_type": "code",
   "execution_count": 9,
   "id": "54c33e93",
   "metadata": {},
   "outputs": [
    {
     "name": "stdout",
     "output_type": "stream",
     "text": [
      "Enter a character: l\n",
      "The ASCII value of 'l' is 108.\n"
     ]
    }
   ],
   "source": [
    "# Answer:\n",
    "\n",
    "\n",
    "char = input(\"Enter a character: \")\n",
    "\n",
    "# using the ord() function\n",
    "ascii_value = ord(char)\n",
    "\n",
    "\n",
    "print(f\"The ASCII value of '{char}' is {ascii_value}.\")\n"
   ]
  },
  {
   "cell_type": "markdown",
   "id": "c7fbf6c4",
   "metadata": {},
   "source": [
    "Q5. Write a Python Program to Make a Simple Calculator with 4 basic mathematical operations?"
   ]
  },
  {
   "cell_type": "code",
   "execution_count": 11,
   "id": "60acad6b",
   "metadata": {},
   "outputs": [],
   "source": [
    "# Function to add two numbers\n",
    "def add(x, y):\n",
    "    return x + y\n",
    "\n",
    "# Function to subtract two numbers\n",
    "def subtract(x, y):\n",
    "    return x - y\n",
    "\n",
    "# Function to multiply two numbers\n",
    "def multiply(x, y):\n",
    "    return x * y\n",
    "\n",
    "# Function to divide two numbers\n",
    "def divide(x, y):\n",
    "    if y == 0:\n",
    "        return \"Cannot divide by zero!\"\n",
    "    else:\n",
    "        return x / y"
   ]
  },
  {
   "cell_type": "code",
   "execution_count": 12,
   "id": "626c880b",
   "metadata": {},
   "outputs": [
    {
     "data": {
      "text/plain": [
       "11"
      ]
     },
     "execution_count": 12,
     "metadata": {},
     "output_type": "execute_result"
    }
   ],
   "source": [
    "add(4,7)"
   ]
  },
  {
   "cell_type": "code",
   "execution_count": 13,
   "id": "c56de984",
   "metadata": {},
   "outputs": [
    {
     "data": {
      "text/plain": [
       "3"
      ]
     },
     "execution_count": 13,
     "metadata": {},
     "output_type": "execute_result"
    }
   ],
   "source": [
    "subtract(10,7)"
   ]
  },
  {
   "cell_type": "code",
   "execution_count": 14,
   "id": "124ad503",
   "metadata": {},
   "outputs": [
    {
     "data": {
      "text/plain": [
       "14"
      ]
     },
     "execution_count": 14,
     "metadata": {},
     "output_type": "execute_result"
    }
   ],
   "source": [
    "multiply(2,7)"
   ]
  },
  {
   "cell_type": "code",
   "execution_count": 15,
   "id": "02c34924",
   "metadata": {},
   "outputs": [
    {
     "data": {
      "text/plain": [
       "8.0"
      ]
     },
     "execution_count": 15,
     "metadata": {},
     "output_type": "execute_result"
    }
   ],
   "source": [
    "divide(80,10)"
   ]
  },
  {
   "cell_type": "code",
   "execution_count": null,
   "id": "4ce8900c",
   "metadata": {},
   "outputs": [],
   "source": []
  }
 ],
 "metadata": {
  "kernelspec": {
   "display_name": "Python 3 (ipykernel)",
   "language": "python",
   "name": "python3"
  },
  "language_info": {
   "codemirror_mode": {
    "name": "ipython",
    "version": 3
   },
   "file_extension": ".py",
   "mimetype": "text/x-python",
   "name": "python",
   "nbconvert_exporter": "python",
   "pygments_lexer": "ipython3",
   "version": "3.9.12"
  }
 },
 "nbformat": 4,
 "nbformat_minor": 5
}
